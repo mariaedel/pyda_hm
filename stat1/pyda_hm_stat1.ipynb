{
 "metadata": {
  "language_info": {
   "codemirror_mode": {
    "name": "ipython",
    "version": 3
   },
   "file_extension": ".py",
   "mimetype": "text/x-python",
   "name": "python",
   "nbconvert_exporter": "python",
   "pygments_lexer": "ipython3",
   "version": "3.8.6-final"
  },
  "orig_nbformat": 2,
  "kernelspec": {
   "name": "python3",
   "display_name": "Python 3.8.6 64-bit",
   "metadata": {
    "interpreter": {
     "hash": "670ac0503b5e7d8d2cc976e7c90ae1069210f4a5d460c715c7316febc0806514"
    }
   }
  }
 },
 "nbformat": 4,
 "nbformat_minor": 2,
 "cells": [
  {
   "cell_type": "code",
   "execution_count": 20,
   "metadata": {},
   "outputs": [],
   "source": [
    "import pandas as pd\n",
    "import numpy as np"
   ]
  },
  {
   "cell_type": "code",
   "execution_count": 21,
   "metadata": {},
   "outputs": [],
   "source": [
    "df = pd.read_csv('horse_data.csv')\n",
    "columns_for_analyse = list(map(lambda x: x, range(11)))\n",
    "columns_for_analyse.append(15)\n",
    "columns_for_analyse\n",
    "df = df.iloc[:, columns_for_analyse]"
   ]
  },
  {
   "cell_type": "code",
   "execution_count": 22,
   "metadata": {},
   "outputs": [
    {
     "output_type": "execute_result",
     "data": {
      "text/plain": [
       "   2  1   530101  38.50   66  28  3 3.1  ? 2.1  5   ?.3\n",
       "0  1  1   534817   39.2   88  20  ?   ?  4   1  3     ?\n",
       "1  2  1   530334  38.30   40  24  1   1  3   1  3     ?\n",
       "2  1  9  5290409  39.10  164  84  4   1  6   2  2  5.00\n",
       "3  2  1   530255  37.30  104  35  ?   ?  6   2  ?     ?\n",
       "4  2  1   528355      ?    ?   ?  2   1  3   1  2     ?"
      ],
      "text/html": "<div>\n<style scoped>\n    .dataframe tbody tr th:only-of-type {\n        vertical-align: middle;\n    }\n\n    .dataframe tbody tr th {\n        vertical-align: top;\n    }\n\n    .dataframe thead th {\n        text-align: right;\n    }\n</style>\n<table border=\"1\" class=\"dataframe\">\n  <thead>\n    <tr style=\"text-align: right;\">\n      <th></th>\n      <th>2</th>\n      <th>1</th>\n      <th>530101</th>\n      <th>38.50</th>\n      <th>66</th>\n      <th>28</th>\n      <th>3</th>\n      <th>3.1</th>\n      <th>?</th>\n      <th>2.1</th>\n      <th>5</th>\n      <th>?.3</th>\n    </tr>\n  </thead>\n  <tbody>\n    <tr>\n      <th>0</th>\n      <td>1</td>\n      <td>1</td>\n      <td>534817</td>\n      <td>39.2</td>\n      <td>88</td>\n      <td>20</td>\n      <td>?</td>\n      <td>?</td>\n      <td>4</td>\n      <td>1</td>\n      <td>3</td>\n      <td>?</td>\n    </tr>\n    <tr>\n      <th>1</th>\n      <td>2</td>\n      <td>1</td>\n      <td>530334</td>\n      <td>38.30</td>\n      <td>40</td>\n      <td>24</td>\n      <td>1</td>\n      <td>1</td>\n      <td>3</td>\n      <td>1</td>\n      <td>3</td>\n      <td>?</td>\n    </tr>\n    <tr>\n      <th>2</th>\n      <td>1</td>\n      <td>9</td>\n      <td>5290409</td>\n      <td>39.10</td>\n      <td>164</td>\n      <td>84</td>\n      <td>4</td>\n      <td>1</td>\n      <td>6</td>\n      <td>2</td>\n      <td>2</td>\n      <td>5.00</td>\n    </tr>\n    <tr>\n      <th>3</th>\n      <td>2</td>\n      <td>1</td>\n      <td>530255</td>\n      <td>37.30</td>\n      <td>104</td>\n      <td>35</td>\n      <td>?</td>\n      <td>?</td>\n      <td>6</td>\n      <td>2</td>\n      <td>?</td>\n      <td>?</td>\n    </tr>\n    <tr>\n      <th>4</th>\n      <td>2</td>\n      <td>1</td>\n      <td>528355</td>\n      <td>?</td>\n      <td>?</td>\n      <td>?</td>\n      <td>2</td>\n      <td>1</td>\n      <td>3</td>\n      <td>1</td>\n      <td>2</td>\n      <td>?</td>\n    </tr>\n  </tbody>\n</table>\n</div>"
     },
     "metadata": {},
     "execution_count": 22
    }
   ],
   "source": [
    "df.head()"
   ]
  },
  {
   "cell_type": "code",
   "execution_count": 23,
   "metadata": {},
   "outputs": [
    {
     "output_type": "stream",
     "name": "stdout",
     "text": [
      "<class 'pandas.core.frame.DataFrame'>\nRangeIndex: 299 entries, 0 to 298\nData columns (total 12 columns):\n #   Column  Non-Null Count  Dtype \n---  ------  --------------  ----- \n 0   2       299 non-null    object\n 1   1       299 non-null    int64 \n 2   530101  299 non-null    int64 \n 3   38.50   299 non-null    object\n 4   66      299 non-null    object\n 5   28      299 non-null    object\n 6   3       299 non-null    object\n 7   3.1     299 non-null    object\n 8   ?       299 non-null    object\n 9   2.1     299 non-null    object\n 10  5       299 non-null    object\n 11  ?.3     299 non-null    object\ndtypes: int64(2), object(10)\nmemory usage: 28.2+ KB\n"
     ]
    }
   ],
   "source": [
    "df.info()"
   ]
  },
  {
   "cell_type": "code",
   "execution_count": 24,
   "metadata": {},
   "outputs": [],
   "source": [
    "the_first_row_list = list(df.columns)\n",
    "the_first_row = {\n",
    "    \"surgery\": the_first_row_list[0],\n",
    "    \"Age\": the_first_row_list[1],\n",
    "    \"Hospital Number\": the_first_row_list[2],\n",
    "    \"rectal temperature\": the_first_row_list[3],\n",
    "    \"pulse\": the_first_row_list[4],\n",
    "    \"respiratory rate\": the_first_row_list[5],\n",
    "    \"temperature of extremities\": the_first_row_list[6],\n",
    "    \"peripheral pulse\": the_first_row_list[7],\n",
    "    \"mucous membranes\": the_first_row_list[8],\n",
    "    \"capillary refill time\": the_first_row_list[9],\n",
    "    \"pain\": the_first_row_list[10],\n",
    "    \"nasogastric reflux PH\": the_first_row_list[11]\n",
    "    }"
   ]
  },
  {
   "cell_type": "code",
   "execution_count": 25,
   "metadata": {},
   "outputs": [
    {
     "output_type": "execute_result",
     "data": {
      "text/plain": [
       "  surgery Age Hospital Number rectal temperature pulse respiratory rate  \\\n",
       "0       1   1          534817               39.2    88               20   \n",
       "1       2   1          530334              38.30    40               24   \n",
       "2       1   9         5290409              39.10   164               84   \n",
       "3       2   1          530255              37.30   104               35   \n",
       "4       2   1          528355                  ?     ?                ?   \n",
       "\n",
       "  temperature of extremities peripheral pulse mucous membranes  \\\n",
       "0                          ?                ?                4   \n",
       "1                          1                1                3   \n",
       "2                          4                1                6   \n",
       "3                          ?                ?                6   \n",
       "4                          2                1                3   \n",
       "\n",
       "  capillary refill time pain nasogastric reflux PH  \n",
       "0                     1    3                     ?  \n",
       "1                     1    3                     ?  \n",
       "2                     2    2                  5.00  \n",
       "3                     2    ?                     ?  \n",
       "4                     1    2                     ?  "
      ],
      "text/html": "<div>\n<style scoped>\n    .dataframe tbody tr th:only-of-type {\n        vertical-align: middle;\n    }\n\n    .dataframe tbody tr th {\n        vertical-align: top;\n    }\n\n    .dataframe thead th {\n        text-align: right;\n    }\n</style>\n<table border=\"1\" class=\"dataframe\">\n  <thead>\n    <tr style=\"text-align: right;\">\n      <th></th>\n      <th>surgery</th>\n      <th>Age</th>\n      <th>Hospital Number</th>\n      <th>rectal temperature</th>\n      <th>pulse</th>\n      <th>respiratory rate</th>\n      <th>temperature of extremities</th>\n      <th>peripheral pulse</th>\n      <th>mucous membranes</th>\n      <th>capillary refill time</th>\n      <th>pain</th>\n      <th>nasogastric reflux PH</th>\n    </tr>\n  </thead>\n  <tbody>\n    <tr>\n      <th>0</th>\n      <td>1</td>\n      <td>1</td>\n      <td>534817</td>\n      <td>39.2</td>\n      <td>88</td>\n      <td>20</td>\n      <td>?</td>\n      <td>?</td>\n      <td>4</td>\n      <td>1</td>\n      <td>3</td>\n      <td>?</td>\n    </tr>\n    <tr>\n      <th>1</th>\n      <td>2</td>\n      <td>1</td>\n      <td>530334</td>\n      <td>38.30</td>\n      <td>40</td>\n      <td>24</td>\n      <td>1</td>\n      <td>1</td>\n      <td>3</td>\n      <td>1</td>\n      <td>3</td>\n      <td>?</td>\n    </tr>\n    <tr>\n      <th>2</th>\n      <td>1</td>\n      <td>9</td>\n      <td>5290409</td>\n      <td>39.10</td>\n      <td>164</td>\n      <td>84</td>\n      <td>4</td>\n      <td>1</td>\n      <td>6</td>\n      <td>2</td>\n      <td>2</td>\n      <td>5.00</td>\n    </tr>\n    <tr>\n      <th>3</th>\n      <td>2</td>\n      <td>1</td>\n      <td>530255</td>\n      <td>37.30</td>\n      <td>104</td>\n      <td>35</td>\n      <td>?</td>\n      <td>?</td>\n      <td>6</td>\n      <td>2</td>\n      <td>?</td>\n      <td>?</td>\n    </tr>\n    <tr>\n      <th>4</th>\n      <td>2</td>\n      <td>1</td>\n      <td>528355</td>\n      <td>?</td>\n      <td>?</td>\n      <td>?</td>\n      <td>2</td>\n      <td>1</td>\n      <td>3</td>\n      <td>1</td>\n      <td>2</td>\n      <td>?</td>\n    </tr>\n  </tbody>\n</table>\n</div>"
     },
     "metadata": {},
     "execution_count": 25
    }
   ],
   "source": [
    "df = df.rename(columns={ \n",
    "    df.columns[0]: \"surgery\",\n",
    "    df.columns[1]: \"Age\",\n",
    "    df.columns[2]: \"Hospital Number\",\n",
    "    df.columns[3]: \"rectal temperature\",\n",
    "    df.columns[4]: \"pulse\",\n",
    "    df.columns[5]: \"respiratory rate\",\n",
    "    df.columns[6]: \"temperature of extremities\",\n",
    "    df.columns[7]: \"peripheral pulse\",\n",
    "    df.columns[8]: \"mucous membranes\",\n",
    "    df.columns[9]: \"capillary refill time\",\n",
    "    df.columns[10]: \"pain\",\n",
    "    df.columns[11]: \"nasogastric reflux PH\"\n",
    "     })\n",
    "df = pd.concat([df, pd.DataFrame([the_first_row])])\n",
    "df.head()"
   ]
  },
  {
   "cell_type": "code",
   "execution_count": 26,
   "metadata": {},
   "outputs": [],
   "source": [
    "df = df.replace(r'\\?\\.+', np.nan, regex=True)\n",
    "df = df.replace('?', np.nan)\n",
    "df = df.astype('float')"
   ]
  },
  {
   "cell_type": "code",
   "execution_count": 27,
   "metadata": {},
   "outputs": [
    {
     "output_type": "execute_result",
     "data": {
      "text/plain": [
       "   surgery  Age  Hospital Number  rectal temperature  pulse  respiratory rate  \\\n",
       "0      1.0  1.0         534817.0                39.2   88.0              20.0   \n",
       "1      2.0  1.0         530334.0                38.3   40.0              24.0   \n",
       "2      1.0  9.0        5290409.0                39.1  164.0              84.0   \n",
       "3      2.0  1.0         530255.0                37.3  104.0              35.0   \n",
       "4      2.0  1.0         528355.0                 NaN    NaN               NaN   \n",
       "\n",
       "   temperature of extremities  peripheral pulse  mucous membranes  \\\n",
       "0                         NaN               NaN               4.0   \n",
       "1                         1.0               1.0               3.0   \n",
       "2                         4.0               1.0               6.0   \n",
       "3                         NaN               NaN               6.0   \n",
       "4                         2.0               1.0               3.0   \n",
       "\n",
       "   capillary refill time  pain  nasogastric reflux PH  \n",
       "0                    1.0   3.0                    NaN  \n",
       "1                    1.0   3.0                    NaN  \n",
       "2                    2.0   2.0                    5.0  \n",
       "3                    2.0   NaN                    NaN  \n",
       "4                    1.0   2.0                    NaN  "
      ],
      "text/html": "<div>\n<style scoped>\n    .dataframe tbody tr th:only-of-type {\n        vertical-align: middle;\n    }\n\n    .dataframe tbody tr th {\n        vertical-align: top;\n    }\n\n    .dataframe thead th {\n        text-align: right;\n    }\n</style>\n<table border=\"1\" class=\"dataframe\">\n  <thead>\n    <tr style=\"text-align: right;\">\n      <th></th>\n      <th>surgery</th>\n      <th>Age</th>\n      <th>Hospital Number</th>\n      <th>rectal temperature</th>\n      <th>pulse</th>\n      <th>respiratory rate</th>\n      <th>temperature of extremities</th>\n      <th>peripheral pulse</th>\n      <th>mucous membranes</th>\n      <th>capillary refill time</th>\n      <th>pain</th>\n      <th>nasogastric reflux PH</th>\n    </tr>\n  </thead>\n  <tbody>\n    <tr>\n      <th>0</th>\n      <td>1.0</td>\n      <td>1.0</td>\n      <td>534817.0</td>\n      <td>39.2</td>\n      <td>88.0</td>\n      <td>20.0</td>\n      <td>NaN</td>\n      <td>NaN</td>\n      <td>4.0</td>\n      <td>1.0</td>\n      <td>3.0</td>\n      <td>NaN</td>\n    </tr>\n    <tr>\n      <th>1</th>\n      <td>2.0</td>\n      <td>1.0</td>\n      <td>530334.0</td>\n      <td>38.3</td>\n      <td>40.0</td>\n      <td>24.0</td>\n      <td>1.0</td>\n      <td>1.0</td>\n      <td>3.0</td>\n      <td>1.0</td>\n      <td>3.0</td>\n      <td>NaN</td>\n    </tr>\n    <tr>\n      <th>2</th>\n      <td>1.0</td>\n      <td>9.0</td>\n      <td>5290409.0</td>\n      <td>39.1</td>\n      <td>164.0</td>\n      <td>84.0</td>\n      <td>4.0</td>\n      <td>1.0</td>\n      <td>6.0</td>\n      <td>2.0</td>\n      <td>2.0</td>\n      <td>5.0</td>\n    </tr>\n    <tr>\n      <th>3</th>\n      <td>2.0</td>\n      <td>1.0</td>\n      <td>530255.0</td>\n      <td>37.3</td>\n      <td>104.0</td>\n      <td>35.0</td>\n      <td>NaN</td>\n      <td>NaN</td>\n      <td>6.0</td>\n      <td>2.0</td>\n      <td>NaN</td>\n      <td>NaN</td>\n    </tr>\n    <tr>\n      <th>4</th>\n      <td>2.0</td>\n      <td>1.0</td>\n      <td>528355.0</td>\n      <td>NaN</td>\n      <td>NaN</td>\n      <td>NaN</td>\n      <td>2.0</td>\n      <td>1.0</td>\n      <td>3.0</td>\n      <td>1.0</td>\n      <td>2.0</td>\n      <td>NaN</td>\n    </tr>\n  </tbody>\n</table>\n</div>"
     },
     "metadata": {},
     "execution_count": 27
    }
   ],
   "source": [
    "df.head()"
   ]
  },
  {
   "source": [
    "### Смотрю, есть ли одни и те же лошади несколько раз <p>\n",
    "Больше 2 раз в больнице ни одна лошадь не была. 2 раза -> 16 лошадей"
   ],
   "cell_type": "markdown",
   "metadata": {}
  },
  {
   "cell_type": "code",
   "execution_count": 28,
   "metadata": {},
   "outputs": [
    {
     "output_type": "execute_result",
     "data": {
      "text/plain": [
       "[527544.0,\n",
       " 527916.0,\n",
       " 528151.0,\n",
       " 528469.0,\n",
       " 528729.0,\n",
       " 528890.0,\n",
       " 528904.0,\n",
       " 528931.0,\n",
       " 528996.0,\n",
       " 529424.0,\n",
       " 529461.0,\n",
       " 529796.0,\n",
       " 530526.0,\n",
       " 530693.0,\n",
       " 532349.0,\n",
       " 5279822.0]"
      ]
     },
     "metadata": {},
     "execution_count": 28
    }
   ],
   "source": [
    "new_df = df.groupby('Hospital Number').count()\n",
    "list(new_df[ new_df['surgery'] == 2].index) #список тех что были повторно"
   ]
  },
  {
   "source": [
    "## Rectal temperature\n",
    "- normal temp is 37.8"
   ],
   "cell_type": "markdown",
   "metadata": {}
  },
  {
   "cell_type": "code",
   "execution_count": 29,
   "metadata": {},
   "outputs": [
    {
     "output_type": "execute_result",
     "data": {
      "text/plain": [
       "count    240.000000\n",
       "mean      38.167917\n",
       "std        0.732289\n",
       "min       35.400000\n",
       "25%       37.800000\n",
       "50%       38.200000\n",
       "75%       38.500000\n",
       "max       40.800000\n",
       "Name: rectal temperature, dtype: float64"
      ]
     },
     "metadata": {},
     "execution_count": 29
    }
   ],
   "source": [
    "df['rectal temperature'].describe()"
   ]
  },
  {
   "cell_type": "code",
   "execution_count": 62,
   "metadata": {},
   "outputs": [
    {
     "output_type": "execute_result",
     "data": {
      "text/plain": [
       "38.16791666666666"
      ]
     },
     "metadata": {},
     "execution_count": 62
    }
   ],
   "source": [
    "df['rectal temperature'].mean()"
   ]
  },
  {
   "source": [
    "У 75% лошадей температура повышена"
   ],
   "cell_type": "markdown",
   "metadata": {}
  },
  {
   "source": [
    "## Pulse\n",
    "- 30 - 40 is normal for adults"
   ],
   "cell_type": "markdown",
   "metadata": {}
  },
  {
   "cell_type": "code",
   "execution_count": 38,
   "metadata": {},
   "outputs": [
    {
     "output_type": "execute_result",
     "data": {
      "text/plain": [
       "71.91304347826087"
      ]
     },
     "metadata": {},
     "execution_count": 38
    }
   ],
   "source": [
    "df['pulse'].mean()"
   ]
  },
  {
   "cell_type": "code",
   "execution_count": 32,
   "metadata": {},
   "outputs": [
    {
     "output_type": "execute_result",
     "data": {
      "text/plain": [
       "108.0"
      ]
     },
     "metadata": {},
     "execution_count": 32
    }
   ],
   "source": [
    "Q = pd.DataFrame(df['pulse']).quantile([0.25, 0.75])\n",
    "Q1 = float(Q.iloc[[0] [0]])\n",
    "Q3 = float(Q.iloc[[1] [0]])\n",
    "higher_outlier = Q1 + 1.5 * (Q3 - Q1)\n",
    "higher_outlier "
   ]
  },
  {
   "cell_type": "code",
   "execution_count": 39,
   "metadata": {},
   "outputs": [
    {
     "output_type": "execute_result",
     "data": {
      "text/plain": [
       "63.829875518672196"
      ]
     },
     "metadata": {},
     "execution_count": 39
    }
   ],
   "source": [
    "df['pulse'][ df['pulse'] < higher_outlier ].mean()"
   ]
  },
  {
   "source": [
    "Частота сердцебиения повышена -> животные с болезненными поражениями или страдающие от шока кровообращения"
   ],
   "cell_type": "markdown",
   "metadata": {}
  },
  {
   "source": [
    "## Temperature of extremities <p>\n",
    "               - possible values: \n",
    "               - 1 = Normal \n",
    "               - 2 = Warm \n",
    "               - 3 = Cool \n",
    "               - 4 = Cold \n",
    "               - cool to cold extremities indicate possible shock "
   ],
   "cell_type": "markdown",
   "metadata": {}
  },
  {
   "cell_type": "code",
   "execution_count": 42,
   "metadata": {},
   "outputs": [
    {
     "output_type": "execute_result",
     "data": {
      "text/plain": [
       "3.0"
      ]
     },
     "metadata": {},
     "execution_count": 42
    }
   ],
   "source": [
    "df['temperature of extremities'].mode()[0]"
   ]
  },
  {
   "source": [
    "Чаще всего встречаются животные с прохладными конечностями, что означает, что у большинства лошадей возможен шок"
   ],
   "cell_type": "markdown",
   "metadata": {}
  },
  {
   "source": [
    "## Peripheral pulse <p>\n",
    "               - possible values are: \n",
    "               - 1 = normal<br>\n",
    "               - 2 = increased<br>\n",
    "               - 3 = reduced<br>\n",
    "               - 4 = absent<p>\n",
    "               - normal or increased p.p. are indicative of adequate circulation while reduced or absent indicate poor perfusion"
   ],
   "cell_type": "markdown",
   "metadata": {}
  },
  {
   "cell_type": "code",
   "execution_count": 44,
   "metadata": {},
   "outputs": [
    {
     "output_type": "execute_result",
     "data": {
      "text/plain": [
       "1.0"
      ]
     },
     "metadata": {},
     "execution_count": 44
    }
   ],
   "source": [
    "df['peripheral pulse'].mode()[0]"
   ]
  },
  {
   "source": [
    "Кровообращение у большинства животных в норме"
   ],
   "cell_type": "markdown",
   "metadata": {}
  },
  {
   "source": [
    "## mucous membranes\n",
    "          - a subjective measurement of colour\n",
    "          - possible values are:\n",
    "               1 = normal pink\n",
    "               2 = bright pink\n",
    "               3 = pale pink\n",
    "               4 = pale cyanotic\n",
    "               5 = bright red / injected\n",
    "               6 = dark cyanotic\n",
    "          - 1 and 2 probably indicate a normal or slightly increased\n",
    "            circulation\n",
    "          - 3 may occur in early shock\n",
    "          - 4 and 6 are indicative of serious circulatory compromise\n",
    "          - 5 is more indicative of a septicemia"
   ],
   "cell_type": "markdown",
   "metadata": {}
  },
  {
   "cell_type": "code",
   "execution_count": 87,
   "metadata": {},
   "outputs": [
    {
     "output_type": "execute_result",
     "data": {
      "text/plain": [
       "1.0"
      ]
     },
     "metadata": {},
     "execution_count": 87
    }
   ],
   "source": [
    "df['mucous membranes'].mode()[0]"
   ]
  },
  {
   "source": [
    "Слизистые оболочки у большинства лошадей в норме"
   ],
   "cell_type": "markdown",
   "metadata": {}
  },
  {
   "source": [
    "## nasogastric reflux PH\n",
    "    - linear\n",
    "    - scale is from 0 to 14 with 7 being neutral\n",
    "    - normal values are in the 3 to 4 range"
   ],
   "cell_type": "markdown",
   "metadata": {}
  },
  {
   "cell_type": "code",
   "execution_count": 57,
   "metadata": {},
   "outputs": [
    {
     "output_type": "execute_result",
     "data": {
      "text/plain": [
       "count    53.000000\n",
       "mean      4.707547\n",
       "std       1.982311\n",
       "min       1.000000\n",
       "25%       3.000000\n",
       "50%       5.000000\n",
       "75%       6.500000\n",
       "max       7.500000\n",
       "Name: nasogastric reflux PH, dtype: float64"
      ]
     },
     "metadata": {},
     "execution_count": 57
    }
   ],
   "source": [
    "df['nasogastric reflux PH'][ df['nasogastric reflux PH'].isna() == False ].describe()\n",
    "# большинство информации отсутствует"
   ]
  },
  {
   "cell_type": "code",
   "execution_count": 59,
   "metadata": {},
   "outputs": [
    {
     "output_type": "execute_result",
     "data": {
      "text/plain": [
       "4.7075471698113205"
      ]
     },
     "metadata": {},
     "execution_count": 59
    }
   ],
   "source": [
    "df['nasogastric reflux PH'].mean()"
   ]
  },
  {
   "source": [
    "Данная характеристика отсутствует у большинства лошадей <br>\n",
    "Среднее значение отклонено от нормы, значит у некоторых лошадей наблюдается повышенная кислотность"
   ],
   "cell_type": "markdown",
   "metadata": {}
  },
  {
   "source": [
    "## Pain\n",
    "          - possible values:\n",
    "               1 = alert, no pain\n",
    "               2 = depressed\n",
    "               3 = intermittent mild pain\n",
    "               4 = intermittent severe pain\n",
    "               5 = continuous severe pain\n",
    "          - should NOT be treated as a ordered or discrete variable!\n",
    "          - In general, the more painful, the more likely it is to require\n",
    "            surgery\n",
    "          - prior treatment of pain may mask the pain level to some extent"
   ],
   "cell_type": "markdown",
   "metadata": {}
  },
  {
   "cell_type": "code",
   "execution_count": 65,
   "metadata": {},
   "outputs": [
    {
     "output_type": "execute_result",
     "data": {
      "text/plain": [
       "3.0"
      ]
     },
     "metadata": {},
     "execution_count": 65
    }
   ],
   "source": [
    "df['pain'].mode()[0]"
   ]
  },
  {
   "cell_type": "code",
   "execution_count": 85,
   "metadata": {},
   "outputs": [
    {
     "output_type": "execute_result",
     "data": {
      "text/plain": [
       "2.0    59\n",
       "Name: pain, dtype: int64"
      ]
     },
     "metadata": {},
     "execution_count": 85
    }
   ],
   "source": [
    "df['pain'][ df['pain'] == 2.0 ].value_counts()"
   ]
  },
  {
   "cell_type": "code",
   "execution_count": 86,
   "metadata": {},
   "outputs": [
    {
     "output_type": "execute_result",
     "data": {
      "text/plain": [
       "3.0    67\n",
       "Name: pain, dtype: int64"
      ]
     },
     "metadata": {},
     "execution_count": 86
    }
   ],
   "source": [
    "df['pain'][ df['pain'] == 3.0 ].value_counts()"
   ]
  },
  {
   "source": [
    "Большое количество животных испытывают легкую прерывистую боль или находятся в депрессии (по мнению наблюдателей)"
   ],
   "cell_type": "markdown",
   "metadata": {}
  },
  {
   "cell_type": "code",
   "execution_count": null,
   "metadata": {},
   "outputs": [],
   "source": []
  }
 ]
}