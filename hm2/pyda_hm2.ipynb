{
 "cells": [
  {
   "cell_type": "markdown",
   "metadata": {},
   "source": [
    "### Задание 1"
   ]
  },
  {
   "cell_type": "code",
   "execution_count": 13,
   "metadata": {},
   "outputs": [
    {
     "name": "stdout",
     "output_type": "stream",
     "text": [
      "rtyu\n",
      "ty\n"
     ]
    }
   ],
   "source": [
    "word = input()\n",
    "n = len(word)//2\n",
    "if len(word) % 2 == 1:\n",
    "    print(word[n])\n",
    "else:\n",
    "    print(word[(n-1):(n+1)])"
   ]
  },
  {
   "cell_type": "markdown",
   "metadata": {},
   "source": [
    "### Задание 2"
   ]
  },
  {
   "cell_type": "code",
   "execution_count": 14,
   "metadata": {},
   "outputs": [
    {
     "name": "stdout",
     "output_type": "stream",
     "text": [
      "Введите число: 4\n",
      "Введите число: 5\n",
      "Введите число: 3\n",
      "Введите число: 0\n",
      "Результат:  12\n"
     ]
    }
   ],
   "source": [
    "num = int(input('Введите число: '))\n",
    "sum = num\n",
    "while num != 0: \n",
    "    num = int(input(('Введите число: ')))\n",
    "    sum += num\n",
    "print('Результат: ', sum)"
   ]
  },
  {
   "cell_type": "markdown",
   "metadata": {},
   "source": [
    "### Задание 3"
   ]
  },
  {
   "cell_type": "code",
   "execution_count": 21,
   "metadata": {},
   "outputs": [
    {
     "name": "stdout",
     "output_type": "stream",
     "text": [
      "Внимание, кто-то может остаться без пары!\n"
     ]
    }
   ],
   "source": [
    "boys = ['Peter', 'Alex', 'John', 'Arthur', 'Richard', 'Luke']\n",
    "girls = ['Kate', 'Liza', 'Kira', 'Emma', 'Trisha']\n",
    "\n",
    "if len(boys) == len(girls):\n",
    "    print('Идеальные пары:')\n",
    "    for i in range(len(boys)):\n",
    "        print(sorted(boys)[i], 'и', sorted(girls)[i])\n",
    "else:\n",
    "    print('Внимание, кто-то может остаться без пары!')"
   ]
  },
  {
   "cell_type": "markdown",
   "metadata": {},
   "source": [
    "### Задание 4"
   ]
  },
  {
   "cell_type": "code",
   "execution_count": 48,
   "metadata": {
    "scrolled": true
   },
   "outputs": [
    {
     "name": "stdout",
     "output_type": "stream",
     "text": [
      "Thailand 23.9 C\n",
      "Germany 13.8 C\n",
      "Russia 3.7 C\n",
      "Poland 12.0 C\n"
     ]
    }
   ],
   "source": [
    "countries_temperature = [\n",
    "['Thailand', [75.2, 77, 78.8, 73.4, 68, 75.2, 77]],\n",
    "['Germany', [57.2, 55.4, 59, 59, 53.6]],\n",
    "['Russia', [35.6, 37.4, 39.2, 41, 42.8, 39.2, 35.6]],\n",
    "['Poland', [50, 50, 53.6, 57.2, 55.4, 55.4]]\n",
    "]\n",
    "for j in range(len(countries_temperature)):\n",
    "    sum = 0\n",
    "    for i in range(len(countries_temperature[j][1])):\n",
    "        sum += (countries_temperature[j][1][i])\n",
    "    cel = (sum / (i+1) - 32) / 1.8\n",
    "    print(countries_temperature[j][0], round(cel, 1), 'C')"
   ]
  },
  {
   "cell_type": "markdown",
   "metadata": {},
   "source": [
    "### Задание 5"
   ]
  },
  {
   "cell_type": "code",
   "execution_count": 67,
   "metadata": {},
   "outputs": [
    {
     "name": "stdout",
     "output_type": "stream",
     "text": [
      "Среднее количество просмотров на уникального пользователя:  23.25\n"
     ]
    }
   ],
   "source": [
    "stream = [\n",
    "    '2018-01-01,user1,3',\n",
    "    '2018-01-07,user1,4',\n",
    "    '2018-03-29,user1,1',\n",
    "    '2018-04-04,user1,13',\n",
    "    '2018-01-05,user2,7',\n",
    "    '2018-06-14,user3,4',\n",
    "    '2018-07-02,user3,10',\n",
    "    '2018-03-21,user4,19',\n",
    "    '2018-03-22,user4,4',\n",
    "    '2018-04-22,user4,8',\n",
    "    '2018-05-03,user4,9',\n",
    "    '2018-05-11,user4,11',\n",
    "]\n",
    "\n",
    "users = []\n",
    "views = []\n",
    "sum = 0\n",
    "for i in range(len(stream)):\n",
    "    list = stream[i].split(',')\n",
    "    users.append(list[1])\n",
    "    sum += int(list[2])\n",
    "average = sum / len(set(users))\n",
    "print('Среднее количество просмотров на уникального пользователя: ', round(average, 2))\n"
   ]
  },
  {
   "cell_type": "markdown",
   "metadata": {},
   "source": [
    "#### * Среднее количество просмотров  в день на уникального пользователя"
   ]
  },
  {
   "cell_type": "code",
   "execution_count": 68,
   "metadata": {},
   "outputs": [
    {
     "name": "stdout",
     "output_type": "stream",
     "text": [
      "Среднее количество просмотров в день на уникального пользователя:  2.45\n"
     ]
    }
   ],
   "source": [
    "stream = [\n",
    "    '2018-01-01,user1,3',\n",
    "    '2018-01-07,user1,4',\n",
    "    '2018-03-29,user1,1',\n",
    "    '2018-04-04,user1,13',\n",
    "    '2018-01-05,user2,7',\n",
    "    '2018-06-14,user3,4',\n",
    "    '2018-07-02,user3,10',\n",
    "    '2018-03-21,user4,19',\n",
    "    '2018-03-22,user4,4',\n",
    "    '2018-04-22,user4,8',\n",
    "    '2018-05-03,user4,9',\n",
    "    '2018-05-11,user4,11',\n",
    "]\n",
    "\n",
    "users = []\n",
    "views = []\n",
    "num = []\n",
    "summa = 0\n",
    "\n",
    "for i in range(len(stream)):\n",
    "    list = stream[i].split(',')\n",
    "    if list[1] not in users:\n",
    "        users.append(list[1])\n",
    "        views.append(int(list[2]))\n",
    "        num.append(1)\n",
    "    else:\n",
    "        views[users.index(list[1])] = views[users.index(list[1])] + int(list[2])\n",
    "        num[users.index(list[1])] += 1\n",
    "for k in range(len(views)):\n",
    "    views[k] = views[k] / num[k]\n",
    "for j in range(len(views)):\n",
    "    summa += views[j]\n",
    "average = summa / (len(stream))\n",
    "# print(users, views, num)\n",
    "print('Среднее количество просмотров в день на уникального пользователя: ', round(average, 2))\n",
    "      \n"
   ]
  },
  {
   "cell_type": "markdown",
   "metadata": {},
   "source": [
    "### Задание 6"
   ]
  },
  {
   "cell_type": "code",
   "execution_count": 69,
   "metadata": {},
   "outputs": [
    {
     "name": "stdout",
     "output_type": "stream",
     "text": [
      "Введите числа через пробел: 3 5 2 13 2 5\n",
      "5 2 "
     ]
    }
   ],
   "source": [
    "N = []\n",
    "povtor = []\n",
    "\n",
    "n = input('Введите числа через пробел: ')\n",
    "N = n.split(' ')\n",
    "for i in range(len(N)):\n",
    "    if N.count(N[i]) > 1 and N[i] not in povtor:\n",
    "        povtor.append(N[i])\n",
    "for i in range(len(povtor)):\n",
    "    print(povtor[i], end = ' ')"
   ]
  }
 ],
 "metadata": {
  "kernelspec": {
   "display_name": "Python 3",
   "language": "python",
   "name": "python3"
  },
  "language_info": {
   "codemirror_mode": {
    "name": "ipython",
    "version": 3
   },
   "file_extension": ".py",
   "mimetype": "text/x-python",
   "name": "python",
   "nbconvert_exporter": "python",
   "pygments_lexer": "ipython3",
   "version": "3.8.5"
  }
 },
 "nbformat": 4,
 "nbformat_minor": 4
}
