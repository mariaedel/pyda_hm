{
 "metadata": {
  "language_info": {
   "codemirror_mode": {
    "name": "ipython",
    "version": 3
   },
   "file_extension": ".py",
   "mimetype": "text/x-python",
   "name": "python",
   "nbconvert_exporter": "python",
   "pygments_lexer": "ipython3",
   "version": "3.8.6-final"
  },
  "orig_nbformat": 2,
  "kernelspec": {
   "name": "python3",
   "display_name": "Python 3.8.6 64-bit",
   "metadata": {
    "interpreter": {
     "hash": "670ac0503b5e7d8d2cc976e7c90ae1069210f4a5d460c715c7316febc0806514"
    }
   }
  }
 },
 "nbformat": 4,
 "nbformat_minor": 2,
 "cells": [
  {
   "cell_type": "code",
   "execution_count": 105,
   "metadata": {},
   "outputs": [],
   "source": [
    "import requests\n",
    "import pandas as pd\n",
    "from bs4 import BeautifulSoup\n",
    "import json\n",
    "from datetime import datetime"
   ]
  },
  {
   "source": [
    "## Задание 1 (с доп частью)"
   ],
   "cell_type": "markdown",
   "metadata": {}
  },
  {
   "cell_type": "code",
   "execution_count": 103,
   "metadata": {},
   "outputs": [],
   "source": [
    "KEYWORDS = ['python', 'парсинг']\n",
    "URL = 'https://habr.com/ru/all/'"
   ]
  },
  {
   "cell_type": "code",
   "execution_count": 104,
   "metadata": {},
   "outputs": [
    {
     "output_type": "execute_result",
     "data": {
      "text/plain": [
       "              date                                              title  \\\n",
       "0  сегодня в 10:08  Мы создали Web приложение для определения лиц ...   \n",
       "0  сегодня в 09:12  Мониторинг производительности приложений и мет...   \n",
       "0  сегодня в 03:42  ossh: параллельное выполнение команд на многих...   \n",
       "\n",
       "                               link  \\\n",
       "0  https://habr.com/ru/post/547038/   \n",
       "0  https://habr.com/ru/post/546772/   \n",
       "0  https://habr.com/ru/post/546998/   \n",
       "\n",
       "                                                text  \n",
       "0  ВведениеОсновная цель - обнаружение лица и мас...  \n",
       "0  Привет, Habr! Я уже рассказывал про AIOps и ме...  \n",
       "0  Иногда бывает нужно запустить патч Бармина как...  "
      ],
      "text/html": "<div>\n<style scoped>\n    .dataframe tbody tr th:only-of-type {\n        vertical-align: middle;\n    }\n\n    .dataframe tbody tr th {\n        vertical-align: top;\n    }\n\n    .dataframe thead th {\n        text-align: right;\n    }\n</style>\n<table border=\"1\" class=\"dataframe\">\n  <thead>\n    <tr style=\"text-align: right;\">\n      <th></th>\n      <th>date</th>\n      <th>title</th>\n      <th>link</th>\n      <th>text</th>\n    </tr>\n  </thead>\n  <tbody>\n    <tr>\n      <th>0</th>\n      <td>сегодня в 10:08</td>\n      <td>Мы создали Web приложение для определения лиц ...</td>\n      <td>https://habr.com/ru/post/547038/</td>\n      <td>ВведениеОсновная цель - обнаружение лица и мас...</td>\n    </tr>\n    <tr>\n      <th>0</th>\n      <td>сегодня в 09:12</td>\n      <td>Мониторинг производительности приложений и мет...</td>\n      <td>https://habr.com/ru/post/546772/</td>\n      <td>Привет, Habr! Я уже рассказывал про AIOps и ме...</td>\n    </tr>\n    <tr>\n      <th>0</th>\n      <td>сегодня в 03:42</td>\n      <td>ossh: параллельное выполнение команд на многих...</td>\n      <td>https://habr.com/ru/post/546998/</td>\n      <td>Иногда бывает нужно запустить патч Бармина как...</td>\n    </tr>\n  </tbody>\n</table>\n</div>"
     },
     "metadata": {},
     "execution_count": 104
    }
   ],
   "source": [
    "def all_links(URL):\n",
    "    links = pd.DataFrame()\n",
    "\n",
    "    res = requests.get(URL)\n",
    "    soup = BeautifulSoup(res.text, 'html.parser')\n",
    "    posts = soup.find_all('article', class_='post')\n",
    "\n",
    "    for post in posts:\n",
    "\n",
    "        post_id = post.parent.attrs.get('id')\n",
    "        if not post_id:\n",
    "            continue\n",
    "\n",
    "        article_link = post.find('a', class_='btn').get('href')\n",
    "        article_res = requests.get(article_link)\n",
    "        soup_article = BeautifulSoup(article_res.text, 'html.parser')\n",
    "        articles = soup_article.find_all('div', class_='post__text')\n",
    "        \n",
    "        for article in articles:\n",
    "\n",
    "            if any([desired in article.text.lower() for desired in KEYWORDS]):\n",
    "                \n",
    "                title = post.find('a', class_='post__title_link')\n",
    "                link = title.get('href')\n",
    "                date = post.find('span', class_='post__time').text\n",
    "                text = article.text\n",
    "                \n",
    "                row = {'date': date, 'title': title.text, 'link': link, 'text': text}\n",
    "\n",
    "                links = pd.concat([links, pd.DataFrame([row])])\n",
    "        \n",
    "    return links\n",
    "\n",
    "all_links('https://habr.com/ru/all/')"
   ]
  },
  {
   "source": [
    "## Задание 2"
   ],
   "cell_type": "markdown",
   "metadata": {}
  },
  {
   "cell_type": "code",
   "execution_count": 100,
   "metadata": {},
   "outputs": [],
   "source": [
    "URL = 'https://identityprotection.avast.com/v1/web/query/site-breaches/unauthorized-data'\n",
    "EMAIL = ['xxx@x.ru', 'yyy@y.com']\n",
    "\n",
    "headers = {\n",
    "    \"Vaar-Version\": \"0\",\n",
    "    \"Vaar-Header-App-Product-Name\": \"hackcheck-web-avast\",\n",
    "    \"Vaar-Header-App-Build-Version\": \"1.0.0\"\n",
    "}"
   ]
  },
  {
   "cell_type": "code",
   "execution_count": 101,
   "metadata": {},
   "outputs": [],
   "source": [
    "def get_email_information(EMAIL, URL):\n",
    "\n",
    "    payload = {\n",
    "        \"emailAddresses\": EMAIL\n",
    "        }\n",
    "\n",
    "    payload = json.dumps(payload)\n",
    "\n",
    "    res = requests.post(URL, payload, headers=headers)\n",
    "    soup = BeautifulSoup(res.text, 'html.parser')\n",
    "    information = json.loads(soup.text)\n",
    "\n",
    "    df = pd.DataFrame()\n",
    "\n",
    "    for site in information['data']:\n",
    "        for email in information['data'][site]:\n",
    "            breach_id = str(information['data'][site][email][0]['breachId'])\n",
    "            site = information['breaches'][breach_id]['site']\n",
    "            date = information['breaches'][breach_id]['publishDate']\n",
    "            description = information['breaches'][breach_id]['description']\n",
    "            row = {'email': email, 'publish_date': date, 'source': site, 'description': description}\n",
    "            df = pd.concat([df, pd.DataFrame([row])]).reset_index(drop=True)\n",
    "\n",
    "    return df"
   ]
  },
  {
   "cell_type": "code",
   "execution_count": 102,
   "metadata": {},
   "outputs": [
    {
     "output_type": "execute_result",
     "data": {
      "text/plain": [
       "        email          publish_date                  source  \\\n",
       "0    xxx@x.ru  2017-02-14T00:00:00Z          parapa.mail.ru   \n",
       "1    xxx@x.ru  2019-03-28T00:00:00Z        verifications.io   \n",
       "2   yyy@y.com  2019-03-28T00:00:00Z        verifications.io   \n",
       "3    xxx@x.ru  2016-10-21T00:00:00Z               adobe.com   \n",
       "4   yyy@y.com  2016-10-21T00:00:00Z               adobe.com   \n",
       "5    xxx@x.ru  2017-01-31T00:00:00Z        cdprojektred.com   \n",
       "6   yyy@y.com  2017-12-01T00:00:00Z       creocommunity.com   \n",
       "7   yyy@y.com  2019-07-11T00:00:00Z  medicaresupplement.com   \n",
       "8   yyy@y.com  2020-01-03T00:00:00Z           azcentral.com   \n",
       "9   yyy@y.com  2020-11-19T00:00:00Z               123rf.com   \n",
       "10  yyy@y.com  2016-10-21T00:00:00Z            linkedin.com   \n",
       "11  yyy@y.com  2016-10-24T00:00:00Z             dropbox.com   \n",
       "12  yyy@y.com  2020-05-28T00:00:00Z             wishbone.io   \n",
       "13  yyy@y.com  2017-03-24T00:00:00Z               youku.com   \n",
       "14  yyy@y.com  2019-02-21T00:00:00Z        www.dangdang.com   \n",
       "15  yyy@y.com  2017-11-04T00:00:00Z          myheritage.com   \n",
       "16  yyy@y.com  2017-03-01T00:00:00Z            rayli.com.cn   \n",
       "17  yyy@y.com  2019-06-13T00:00:00Z               canva.com   \n",
       "18  yyy@y.com  2017-03-15T00:00:00Z          globalreach.eu   \n",
       "19   xxx@x.ru  2017-02-14T00:00:00Z           cfire.mail.ru   \n",
       "20   xxx@x.ru  2020-05-21T00:00:00Z                  vk.com   \n",
       "21  yyy@y.com  2021-02-11T00:00:00Z    forums.vkmonline.com   \n",
       "22  yyy@y.com  2018-02-18T00:00:00Z              netlog.com   \n",
       "23   xxx@x.ru  2016-10-23T00:00:00Z               imesh.com   \n",
       "24  yyy@y.com  2016-10-23T00:00:00Z               imesh.com   \n",
       "25  yyy@y.com  2019-10-17T00:00:00Z               zynga.com   \n",
       "\n",
       "                                          description  \n",
       "0   In July and August 2016, two criminals execute...  \n",
       "1   Big data e-mail verification platform verifica...  \n",
       "2   Big data e-mail verification platform verifica...  \n",
       "3   In October of 2013, criminals penetrated Adobe...  \n",
       "4   In October of 2013, criminals penetrated Adobe...  \n",
       "5   In March 2016, CDProjektRed.com.com's forum da...  \n",
       "6   At an unconfirmed date, Creo Community's user ...  \n",
       "7   In May 2019, a security researcher discovered ...  \n",
       "8   At an unconfirmed date, online Arizona newspap...  \n",
       "9   In March 2020, the stock image agency 123RF wa...  \n",
       "10  In 2012, online professional networking platfo...  \n",
       "11  Cloud storage company Dropbox suffered a major...  \n",
       "12  In January 2020, the online poll website Wishb...  \n",
       "13  Youku is a large Chinese video content company...  \n",
       "14  This is a list of email addresses only, and as...  \n",
       "15  In October 2017, a customer database belonging...  \n",
       "16  On an unconfirmed date, Chinese gossip site Ra...  \n",
       "17  In May 2019, graphic-design site Canva's datab...  \n",
       "18  In 2016, Global Reach Technology's database wa...  \n",
       "19  In July and August of 2016, two criminals carr...  \n",
       "20  At some time in 2020, the Russian social netwo...  \n",
       "21  At an unconfirmed date, the Russian-language m...  \n",
       "22  Netlog (formerly known as Facebox and Bingbox)...  \n",
       "23  In June 2016, a cache of over 51 million user ...  \n",
       "24  In June 2016, a cache of over 51 million user ...  \n",
       "25  In September 2019, the game developer Zynga wa...  "
      ],
      "text/html": "<div>\n<style scoped>\n    .dataframe tbody tr th:only-of-type {\n        vertical-align: middle;\n    }\n\n    .dataframe tbody tr th {\n        vertical-align: top;\n    }\n\n    .dataframe thead th {\n        text-align: right;\n    }\n</style>\n<table border=\"1\" class=\"dataframe\">\n  <thead>\n    <tr style=\"text-align: right;\">\n      <th></th>\n      <th>email</th>\n      <th>publish_date</th>\n      <th>source</th>\n      <th>description</th>\n    </tr>\n  </thead>\n  <tbody>\n    <tr>\n      <th>0</th>\n      <td>xxx@x.ru</td>\n      <td>2017-02-14T00:00:00Z</td>\n      <td>parapa.mail.ru</td>\n      <td>In July and August 2016, two criminals execute...</td>\n    </tr>\n    <tr>\n      <th>1</th>\n      <td>xxx@x.ru</td>\n      <td>2019-03-28T00:00:00Z</td>\n      <td>verifications.io</td>\n      <td>Big data e-mail verification platform verifica...</td>\n    </tr>\n    <tr>\n      <th>2</th>\n      <td>yyy@y.com</td>\n      <td>2019-03-28T00:00:00Z</td>\n      <td>verifications.io</td>\n      <td>Big data e-mail verification platform verifica...</td>\n    </tr>\n    <tr>\n      <th>3</th>\n      <td>xxx@x.ru</td>\n      <td>2016-10-21T00:00:00Z</td>\n      <td>adobe.com</td>\n      <td>In October of 2013, criminals penetrated Adobe...</td>\n    </tr>\n    <tr>\n      <th>4</th>\n      <td>yyy@y.com</td>\n      <td>2016-10-21T00:00:00Z</td>\n      <td>adobe.com</td>\n      <td>In October of 2013, criminals penetrated Adobe...</td>\n    </tr>\n    <tr>\n      <th>5</th>\n      <td>xxx@x.ru</td>\n      <td>2017-01-31T00:00:00Z</td>\n      <td>cdprojektred.com</td>\n      <td>In March 2016, CDProjektRed.com.com's forum da...</td>\n    </tr>\n    <tr>\n      <th>6</th>\n      <td>yyy@y.com</td>\n      <td>2017-12-01T00:00:00Z</td>\n      <td>creocommunity.com</td>\n      <td>At an unconfirmed date, Creo Community's user ...</td>\n    </tr>\n    <tr>\n      <th>7</th>\n      <td>yyy@y.com</td>\n      <td>2019-07-11T00:00:00Z</td>\n      <td>medicaresupplement.com</td>\n      <td>In May 2019, a security researcher discovered ...</td>\n    </tr>\n    <tr>\n      <th>8</th>\n      <td>yyy@y.com</td>\n      <td>2020-01-03T00:00:00Z</td>\n      <td>azcentral.com</td>\n      <td>At an unconfirmed date, online Arizona newspap...</td>\n    </tr>\n    <tr>\n      <th>9</th>\n      <td>yyy@y.com</td>\n      <td>2020-11-19T00:00:00Z</td>\n      <td>123rf.com</td>\n      <td>In March 2020, the stock image agency 123RF wa...</td>\n    </tr>\n    <tr>\n      <th>10</th>\n      <td>yyy@y.com</td>\n      <td>2016-10-21T00:00:00Z</td>\n      <td>linkedin.com</td>\n      <td>In 2012, online professional networking platfo...</td>\n    </tr>\n    <tr>\n      <th>11</th>\n      <td>yyy@y.com</td>\n      <td>2016-10-24T00:00:00Z</td>\n      <td>dropbox.com</td>\n      <td>Cloud storage company Dropbox suffered a major...</td>\n    </tr>\n    <tr>\n      <th>12</th>\n      <td>yyy@y.com</td>\n      <td>2020-05-28T00:00:00Z</td>\n      <td>wishbone.io</td>\n      <td>In January 2020, the online poll website Wishb...</td>\n    </tr>\n    <tr>\n      <th>13</th>\n      <td>yyy@y.com</td>\n      <td>2017-03-24T00:00:00Z</td>\n      <td>youku.com</td>\n      <td>Youku is a large Chinese video content company...</td>\n    </tr>\n    <tr>\n      <th>14</th>\n      <td>yyy@y.com</td>\n      <td>2019-02-21T00:00:00Z</td>\n      <td>www.dangdang.com</td>\n      <td>This is a list of email addresses only, and as...</td>\n    </tr>\n    <tr>\n      <th>15</th>\n      <td>yyy@y.com</td>\n      <td>2017-11-04T00:00:00Z</td>\n      <td>myheritage.com</td>\n      <td>In October 2017, a customer database belonging...</td>\n    </tr>\n    <tr>\n      <th>16</th>\n      <td>yyy@y.com</td>\n      <td>2017-03-01T00:00:00Z</td>\n      <td>rayli.com.cn</td>\n      <td>On an unconfirmed date, Chinese gossip site Ra...</td>\n    </tr>\n    <tr>\n      <th>17</th>\n      <td>yyy@y.com</td>\n      <td>2019-06-13T00:00:00Z</td>\n      <td>canva.com</td>\n      <td>In May 2019, graphic-design site Canva's datab...</td>\n    </tr>\n    <tr>\n      <th>18</th>\n      <td>yyy@y.com</td>\n      <td>2017-03-15T00:00:00Z</td>\n      <td>globalreach.eu</td>\n      <td>In 2016, Global Reach Technology's database wa...</td>\n    </tr>\n    <tr>\n      <th>19</th>\n      <td>xxx@x.ru</td>\n      <td>2017-02-14T00:00:00Z</td>\n      <td>cfire.mail.ru</td>\n      <td>In July and August of 2016, two criminals carr...</td>\n    </tr>\n    <tr>\n      <th>20</th>\n      <td>xxx@x.ru</td>\n      <td>2020-05-21T00:00:00Z</td>\n      <td>vk.com</td>\n      <td>At some time in 2020, the Russian social netwo...</td>\n    </tr>\n    <tr>\n      <th>21</th>\n      <td>yyy@y.com</td>\n      <td>2021-02-11T00:00:00Z</td>\n      <td>forums.vkmonline.com</td>\n      <td>At an unconfirmed date, the Russian-language m...</td>\n    </tr>\n    <tr>\n      <th>22</th>\n      <td>yyy@y.com</td>\n      <td>2018-02-18T00:00:00Z</td>\n      <td>netlog.com</td>\n      <td>Netlog (formerly known as Facebox and Bingbox)...</td>\n    </tr>\n    <tr>\n      <th>23</th>\n      <td>xxx@x.ru</td>\n      <td>2016-10-23T00:00:00Z</td>\n      <td>imesh.com</td>\n      <td>In June 2016, a cache of over 51 million user ...</td>\n    </tr>\n    <tr>\n      <th>24</th>\n      <td>yyy@y.com</td>\n      <td>2016-10-23T00:00:00Z</td>\n      <td>imesh.com</td>\n      <td>In June 2016, a cache of over 51 million user ...</td>\n    </tr>\n    <tr>\n      <th>25</th>\n      <td>yyy@y.com</td>\n      <td>2019-10-17T00:00:00Z</td>\n      <td>zynga.com</td>\n      <td>In September 2019, the game developer Zynga wa...</td>\n    </tr>\n  </tbody>\n</table>\n</div>"
     },
     "metadata": {},
     "execution_count": 102
    }
   ],
   "source": [
    "get_email_information(EMAIL, URL)"
   ]
  },
  {
   "source": [
    "## Задание 2 (доп часть)"
   ],
   "cell_type": "markdown",
   "metadata": {}
  },
  {
   "cell_type": "code",
   "execution_count": 18,
   "metadata": {},
   "outputs": [],
   "source": [
    "import vk_api"
   ]
  },
  {
   "cell_type": "code",
   "execution_count": 164,
   "metadata": {},
   "outputs": [],
   "source": [
    "GROUP = 'netology'\n",
    "count = 50 #количество записей"
   ]
  },
  {
   "cell_type": "code",
   "execution_count": 165,
   "metadata": {},
   "outputs": [],
   "source": [
    "vk_session = vk_api.VkApi('+79046048414', <password>)\n",
    "vk_session.auth()\n",
    "\n",
    "vk = vk_session.get_api()"
   ]
  },
  {
   "cell_type": "code",
   "execution_count": 166,
   "metadata": {},
   "outputs": [],
   "source": [
    "def get_group_post(group, count):\n",
    "\n",
    "    search_id = vk.utils.resolveScreenName(screen_name=GROUP)\n",
    "    id = search_id['object_id']*(-1)\n",
    "    posts = vk.wall.get(owner_id=id, count=count)\n",
    "    df_posts = pd.DataFrame()\n",
    "\n",
    "    for i in range(count):\n",
    "\n",
    "        date = posts['items'][i]['date']\n",
    "        date = datetime.fromtimestamp(date)\n",
    "        date = str(date.year) + '-' + str(date.month) + '-' + str(date.day) + ' ' + str(date.hour) + ':' + str(date.minute)\n",
    "        text = posts['items'][i]['text']\n",
    "        row = {'date': date, 'text': text}\n",
    "\n",
    "        df_posts = pd.concat([df_posts, pd.DataFrame([row])]).reset_index(drop=True)\n",
    "\n",
    "    df_posts.index = df_posts.index + 1\n",
    "\n",
    "    return df_posts"
   ]
  },
  {
   "cell_type": "code",
   "execution_count": 167,
   "metadata": {},
   "outputs": [
    {
     "output_type": "execute_result",
     "data": {
      "text/plain": [
       "               date                                               text\n",
       "1   2021-3-10 17:40  Проверим, насколько хорошо вы знаете нас 😉 \\nЗ...\n",
       "2   2021-3-14 12:49  Говорят, лидерами не рождаются, а становятся 😎...\n",
       "3   2021-3-13 12:53  Выстраивать отношения с коллегами, решать зада...\n",
       "4   2021-3-12 17:47  В эфире #пятничнаябеседка. Здесь мы обсуждаем,...\n",
       "5   2021-3-12 11:11  Настраиваем рекламные кабинеты, пишем сценарий...\n",
       "6   2021-3-11 17:53  Даже самый уверенный в себе человек испытывает...\n",
       "7   2021-3-11 11:40  Интернет — пространство безграничных возможнос...\n",
       "8   2021-3-10 10:53  🔥 15 марта стартует бесплатный курс «Как стать...\n",
       "9    2021-3-9 17:53  Поиск изображений для своего блога, сайта или ...\n",
       "10   2021-3-8 17:13  В марте на рынке вакансий настоящий бум — вспл...\n",
       "11   2021-3-7 13:49  Сегодня много говорят о софт-скиллс — гибких н...\n",
       "12   2021-3-6 16:47  Интересные онлайн-мероприятия в марте: вебинар...\n",
       "13   2021-3-6 13:14  Чтобы запустить свой интернет-магазин, нужно б...\n",
       "14   2021-3-5 16:47  Мечты у всех разные, но есть то, что нас объед...\n",
       "15   2021-3-5 10:31  Говорят, IT-специалисты не ищут работодателей,...\n",
       "16   2021-3-4 17:57  Хороший дизайн — это не только красивая картин...\n",
       "17   2021-3-4 11:13  Раньше мы не знали, с чего начинать сочинение,...\n",
       "18   2021-3-3 17:31  Сегодня вам пригодится математика и немного ло...\n",
       "19   2021-3-3 10:11  🔥 10 и 11 марта пройдёт бесплатный онлайн-инте...\n",
       "20    2021-3-2 18:4  Чтобы создать что-то особенное — нужно перебра...\n",
       "21   2021-3-2 11:16  «Да это же фотошоп!» — как часто у вас возника...\n",
       "22   2021-3-1 18:16  Запустить собственный интернет-магазин или нач...\n",
       "23   2021-3-1 10:26  🔥 Запустили курс «Аналитика для начинающих инт...\n",
       "24  2021-2-28 14:43  Кризис в карьере — это когда вы больше не пони...\n",
       "25  2021-2-27 15:53  В этой афише мероприятий — конкурс стартапов и...\n",
       "26  2021-2-27 12:11  Аналитика, работа с семантикой, мониторинг поз...\n",
       "27  2021-2-26 17:11  Приложение для чистки зубов, выгула собак, под...\n",
       "28  2021-2-26 10:57  Точно решили, кем хотите стать в диджитале, но...\n",
       "29  2021-2-25 18:16  Креативность — навык, который можно развить. \\...\n",
       "30  2021-2-25 10:57  Если читатели смеются, плачут или злятся после...\n",
       "31  2021-2-24 15:30  А у нас конкурс 🎁\\n\\nРазыгрываем сразу 10 приз...\n",
       "32  2021-2-24 10:42  🚀 16 марта стартует бесплатный курс «Soft Skil...\n",
       "33  2021-2-23 16:57  Дизайн интерьеров — это работа про поиск решен...\n",
       "34  2021-2-23 10:34  В новом выпуске НетоNews рассказываем про новы...\n",
       "35  2021-2-22 15:39  SEO-оптимизация подразумевает десятки задач, к...\n",
       "36  2021-2-21 16:27  *партнёрский пост*\\n\\nНеобязательно быть прогр...\n",
       "37  2021-2-21 12:31  Иногда кажется, что всё идёт не так, как нужно...\n",
       "38  2021-2-20 16:27  В этой афише мероприятий онлайн-конференции по...\n",
       "39  2021-2-20 11:57  Как получать от выступлений удовольствие, а не...\n",
       "40  2021-2-19 10:17  МАркетинг или маркЕтинг? 🤔 \\n\\nОставим споры п...\n",
       "41   2021-2-18 18:7  Пятница, 16:30, а в списке задач ещё четыре ст...\n",
       "42  2021-2-18 10:32  В свежем Data Science-дайджесте рассказали, в ...\n",
       "43  2021-2-17 17:33  Представьте, что вы трудитесь в секретной орга...\n",
       "44  2021-2-17 10:26  📆 22 февраля стартует бесплатный курс «Как ста...\n",
       "45  2021-2-16 18:17  Однажды в вашей карьере настанет момент делеги...\n",
       "46  2021-2-16 10:47  На прошлой неделе в мире диджитала произошло м...\n",
       "47  2021-2-15 18:26  Теперь можно не только слушать подкасты, но и ...\n",
       "48  2021-2-15 10:41  Направлений в дизайне много: можно делать рекл...\n",
       "49  2021-2-14 14:56  «Жизнь как коробка шоколадных конфет: никогда ...\n",
       "50  2021-2-13 15:49  *партнёрский пост* \\n \\n26-28 февраля пройдёт ..."
      ],
      "text/html": "<div>\n<style scoped>\n    .dataframe tbody tr th:only-of-type {\n        vertical-align: middle;\n    }\n\n    .dataframe tbody tr th {\n        vertical-align: top;\n    }\n\n    .dataframe thead th {\n        text-align: right;\n    }\n</style>\n<table border=\"1\" class=\"dataframe\">\n  <thead>\n    <tr style=\"text-align: right;\">\n      <th></th>\n      <th>date</th>\n      <th>text</th>\n    </tr>\n  </thead>\n  <tbody>\n    <tr>\n      <th>1</th>\n      <td>2021-3-10 17:40</td>\n      <td>Проверим, насколько хорошо вы знаете нас 😉 \\nЗ...</td>\n    </tr>\n    <tr>\n      <th>2</th>\n      <td>2021-3-14 12:49</td>\n      <td>Говорят, лидерами не рождаются, а становятся 😎...</td>\n    </tr>\n    <tr>\n      <th>3</th>\n      <td>2021-3-13 12:53</td>\n      <td>Выстраивать отношения с коллегами, решать зада...</td>\n    </tr>\n    <tr>\n      <th>4</th>\n      <td>2021-3-12 17:47</td>\n      <td>В эфире #пятничнаябеседка. Здесь мы обсуждаем,...</td>\n    </tr>\n    <tr>\n      <th>5</th>\n      <td>2021-3-12 11:11</td>\n      <td>Настраиваем рекламные кабинеты, пишем сценарий...</td>\n    </tr>\n    <tr>\n      <th>6</th>\n      <td>2021-3-11 17:53</td>\n      <td>Даже самый уверенный в себе человек испытывает...</td>\n    </tr>\n    <tr>\n      <th>7</th>\n      <td>2021-3-11 11:40</td>\n      <td>Интернет — пространство безграничных возможнос...</td>\n    </tr>\n    <tr>\n      <th>8</th>\n      <td>2021-3-10 10:53</td>\n      <td>🔥 15 марта стартует бесплатный курс «Как стать...</td>\n    </tr>\n    <tr>\n      <th>9</th>\n      <td>2021-3-9 17:53</td>\n      <td>Поиск изображений для своего блога, сайта или ...</td>\n    </tr>\n    <tr>\n      <th>10</th>\n      <td>2021-3-8 17:13</td>\n      <td>В марте на рынке вакансий настоящий бум — вспл...</td>\n    </tr>\n    <tr>\n      <th>11</th>\n      <td>2021-3-7 13:49</td>\n      <td>Сегодня много говорят о софт-скиллс — гибких н...</td>\n    </tr>\n    <tr>\n      <th>12</th>\n      <td>2021-3-6 16:47</td>\n      <td>Интересные онлайн-мероприятия в марте: вебинар...</td>\n    </tr>\n    <tr>\n      <th>13</th>\n      <td>2021-3-6 13:14</td>\n      <td>Чтобы запустить свой интернет-магазин, нужно б...</td>\n    </tr>\n    <tr>\n      <th>14</th>\n      <td>2021-3-5 16:47</td>\n      <td>Мечты у всех разные, но есть то, что нас объед...</td>\n    </tr>\n    <tr>\n      <th>15</th>\n      <td>2021-3-5 10:31</td>\n      <td>Говорят, IT-специалисты не ищут работодателей,...</td>\n    </tr>\n    <tr>\n      <th>16</th>\n      <td>2021-3-4 17:57</td>\n      <td>Хороший дизайн — это не только красивая картин...</td>\n    </tr>\n    <tr>\n      <th>17</th>\n      <td>2021-3-4 11:13</td>\n      <td>Раньше мы не знали, с чего начинать сочинение,...</td>\n    </tr>\n    <tr>\n      <th>18</th>\n      <td>2021-3-3 17:31</td>\n      <td>Сегодня вам пригодится математика и немного ло...</td>\n    </tr>\n    <tr>\n      <th>19</th>\n      <td>2021-3-3 10:11</td>\n      <td>🔥 10 и 11 марта пройдёт бесплатный онлайн-инте...</td>\n    </tr>\n    <tr>\n      <th>20</th>\n      <td>2021-3-2 18:4</td>\n      <td>Чтобы создать что-то особенное — нужно перебра...</td>\n    </tr>\n    <tr>\n      <th>21</th>\n      <td>2021-3-2 11:16</td>\n      <td>«Да это же фотошоп!» — как часто у вас возника...</td>\n    </tr>\n    <tr>\n      <th>22</th>\n      <td>2021-3-1 18:16</td>\n      <td>Запустить собственный интернет-магазин или нач...</td>\n    </tr>\n    <tr>\n      <th>23</th>\n      <td>2021-3-1 10:26</td>\n      <td>🔥 Запустили курс «Аналитика для начинающих инт...</td>\n    </tr>\n    <tr>\n      <th>24</th>\n      <td>2021-2-28 14:43</td>\n      <td>Кризис в карьере — это когда вы больше не пони...</td>\n    </tr>\n    <tr>\n      <th>25</th>\n      <td>2021-2-27 15:53</td>\n      <td>В этой афише мероприятий — конкурс стартапов и...</td>\n    </tr>\n    <tr>\n      <th>26</th>\n      <td>2021-2-27 12:11</td>\n      <td>Аналитика, работа с семантикой, мониторинг поз...</td>\n    </tr>\n    <tr>\n      <th>27</th>\n      <td>2021-2-26 17:11</td>\n      <td>Приложение для чистки зубов, выгула собак, под...</td>\n    </tr>\n    <tr>\n      <th>28</th>\n      <td>2021-2-26 10:57</td>\n      <td>Точно решили, кем хотите стать в диджитале, но...</td>\n    </tr>\n    <tr>\n      <th>29</th>\n      <td>2021-2-25 18:16</td>\n      <td>Креативность — навык, который можно развить. \\...</td>\n    </tr>\n    <tr>\n      <th>30</th>\n      <td>2021-2-25 10:57</td>\n      <td>Если читатели смеются, плачут или злятся после...</td>\n    </tr>\n    <tr>\n      <th>31</th>\n      <td>2021-2-24 15:30</td>\n      <td>А у нас конкурс 🎁\\n\\nРазыгрываем сразу 10 приз...</td>\n    </tr>\n    <tr>\n      <th>32</th>\n      <td>2021-2-24 10:42</td>\n      <td>🚀 16 марта стартует бесплатный курс «Soft Skil...</td>\n    </tr>\n    <tr>\n      <th>33</th>\n      <td>2021-2-23 16:57</td>\n      <td>Дизайн интерьеров — это работа про поиск решен...</td>\n    </tr>\n    <tr>\n      <th>34</th>\n      <td>2021-2-23 10:34</td>\n      <td>В новом выпуске НетоNews рассказываем про новы...</td>\n    </tr>\n    <tr>\n      <th>35</th>\n      <td>2021-2-22 15:39</td>\n      <td>SEO-оптимизация подразумевает десятки задач, к...</td>\n    </tr>\n    <tr>\n      <th>36</th>\n      <td>2021-2-21 16:27</td>\n      <td>*партнёрский пост*\\n\\nНеобязательно быть прогр...</td>\n    </tr>\n    <tr>\n      <th>37</th>\n      <td>2021-2-21 12:31</td>\n      <td>Иногда кажется, что всё идёт не так, как нужно...</td>\n    </tr>\n    <tr>\n      <th>38</th>\n      <td>2021-2-20 16:27</td>\n      <td>В этой афише мероприятий онлайн-конференции по...</td>\n    </tr>\n    <tr>\n      <th>39</th>\n      <td>2021-2-20 11:57</td>\n      <td>Как получать от выступлений удовольствие, а не...</td>\n    </tr>\n    <tr>\n      <th>40</th>\n      <td>2021-2-19 10:17</td>\n      <td>МАркетинг или маркЕтинг? 🤔 \\n\\nОставим споры п...</td>\n    </tr>\n    <tr>\n      <th>41</th>\n      <td>2021-2-18 18:7</td>\n      <td>Пятница, 16:30, а в списке задач ещё четыре ст...</td>\n    </tr>\n    <tr>\n      <th>42</th>\n      <td>2021-2-18 10:32</td>\n      <td>В свежем Data Science-дайджесте рассказали, в ...</td>\n    </tr>\n    <tr>\n      <th>43</th>\n      <td>2021-2-17 17:33</td>\n      <td>Представьте, что вы трудитесь в секретной орга...</td>\n    </tr>\n    <tr>\n      <th>44</th>\n      <td>2021-2-17 10:26</td>\n      <td>📆 22 февраля стартует бесплатный курс «Как ста...</td>\n    </tr>\n    <tr>\n      <th>45</th>\n      <td>2021-2-16 18:17</td>\n      <td>Однажды в вашей карьере настанет момент делеги...</td>\n    </tr>\n    <tr>\n      <th>46</th>\n      <td>2021-2-16 10:47</td>\n      <td>На прошлой неделе в мире диджитала произошло м...</td>\n    </tr>\n    <tr>\n      <th>47</th>\n      <td>2021-2-15 18:26</td>\n      <td>Теперь можно не только слушать подкасты, но и ...</td>\n    </tr>\n    <tr>\n      <th>48</th>\n      <td>2021-2-15 10:41</td>\n      <td>Направлений в дизайне много: можно делать рекл...</td>\n    </tr>\n    <tr>\n      <th>49</th>\n      <td>2021-2-14 14:56</td>\n      <td>«Жизнь как коробка шоколадных конфет: никогда ...</td>\n    </tr>\n    <tr>\n      <th>50</th>\n      <td>2021-2-13 15:49</td>\n      <td>*партнёрский пост* \\n \\n26-28 февраля пройдёт ...</td>\n    </tr>\n  </tbody>\n</table>\n</div>"
     },
     "metadata": {},
     "execution_count": 167
    }
   ],
   "source": [
    "get_group_post(GROUP, count)"
   ]
  },
  {
   "cell_type": "code",
   "execution_count": null,
   "metadata": {},
   "outputs": [],
   "source": []
  }
 ]
}