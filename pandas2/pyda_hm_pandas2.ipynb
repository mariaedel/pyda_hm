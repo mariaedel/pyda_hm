{
 "metadata": {
  "language_info": {
   "codemirror_mode": {
    "name": "ipython",
    "version": 3
   },
   "file_extension": ".py",
   "mimetype": "text/x-python",
   "name": "python",
   "nbconvert_exporter": "python",
   "pygments_lexer": "ipython3",
   "version": "3.8.6-final"
  },
  "orig_nbformat": 2,
  "kernelspec": {
   "name": "python3",
   "display_name": "Python 3.8.6 64-bit",
   "metadata": {
    "interpreter": {
     "hash": "670ac0503b5e7d8d2cc976e7c90ae1069210f4a5d460c715c7316febc0806514"
    }
   }
  }
 },
 "nbformat": 4,
 "nbformat_minor": 2,
 "cells": [
  {
   "cell_type": "code",
   "execution_count": 3,
   "metadata": {},
   "outputs": [],
   "source": [
    "import pandas as pd"
   ]
  },
  {
   "source": [
    "## Задание 1"
   ],
   "cell_type": "markdown",
   "metadata": {}
  },
  {
   "cell_type": "code",
   "execution_count": 50,
   "metadata": {},
   "outputs": [],
   "source": [
    "log = pd.read_csv('visit_log.csv', sep=';')"
   ]
  },
  {
   "cell_type": "code",
   "execution_count": 51,
   "metadata": {},
   "outputs": [
    {
     "output_type": "execute_result",
     "data": {
      "text/plain": [
       "    timestamp    visit_id                                 url  region  \\\n",
       "0  1549980692  e3b0c44298  https://host.ru/3c19b4ef7371864fa3  Russia   \n",
       "1  1549980704  6e340b9cff  https://host.ru/c8d9213a31839f9a3a  Russia   \n",
       "2  1549980715  96a296d224  https://host.ru/b8b58337d272ee7b15  Russia   \n",
       "3  1549980725  709e80c884  https://host.ru/b8b58337d272ee7b15  Russia   \n",
       "4  1549980736  df3f619804  https://host.ru/b8b58337d272ee7b15  Russia   \n",
       "\n",
       "      user_id traffic_source  \n",
       "0  b1613cc09f         yandex  \n",
       "1  4c3ec14bee         direct  \n",
       "2  a8c40697fb         yandex  \n",
       "3  521ac1d6a0         yandex  \n",
       "4  d7323c571c         yandex  "
      ],
      "text/html": "<div>\n<style scoped>\n    .dataframe tbody tr th:only-of-type {\n        vertical-align: middle;\n    }\n\n    .dataframe tbody tr th {\n        vertical-align: top;\n    }\n\n    .dataframe thead th {\n        text-align: right;\n    }\n</style>\n<table border=\"1\" class=\"dataframe\">\n  <thead>\n    <tr style=\"text-align: right;\">\n      <th></th>\n      <th>timestamp</th>\n      <th>visit_id</th>\n      <th>url</th>\n      <th>region</th>\n      <th>user_id</th>\n      <th>traffic_source</th>\n    </tr>\n  </thead>\n  <tbody>\n    <tr>\n      <th>0</th>\n      <td>1549980692</td>\n      <td>e3b0c44298</td>\n      <td>https://host.ru/3c19b4ef7371864fa3</td>\n      <td>Russia</td>\n      <td>b1613cc09f</td>\n      <td>yandex</td>\n    </tr>\n    <tr>\n      <th>1</th>\n      <td>1549980704</td>\n      <td>6e340b9cff</td>\n      <td>https://host.ru/c8d9213a31839f9a3a</td>\n      <td>Russia</td>\n      <td>4c3ec14bee</td>\n      <td>direct</td>\n    </tr>\n    <tr>\n      <th>2</th>\n      <td>1549980715</td>\n      <td>96a296d224</td>\n      <td>https://host.ru/b8b58337d272ee7b15</td>\n      <td>Russia</td>\n      <td>a8c40697fb</td>\n      <td>yandex</td>\n    </tr>\n    <tr>\n      <th>3</th>\n      <td>1549980725</td>\n      <td>709e80c884</td>\n      <td>https://host.ru/b8b58337d272ee7b15</td>\n      <td>Russia</td>\n      <td>521ac1d6a0</td>\n      <td>yandex</td>\n    </tr>\n    <tr>\n      <th>4</th>\n      <td>1549980736</td>\n      <td>df3f619804</td>\n      <td>https://host.ru/b8b58337d272ee7b15</td>\n      <td>Russia</td>\n      <td>d7323c571c</td>\n      <td>yandex</td>\n    </tr>\n  </tbody>\n</table>\n</div>"
     },
     "metadata": {},
     "execution_count": 51
    }
   ],
   "source": [
    "log.head()"
   ]
  },
  {
   "cell_type": "code",
   "execution_count": 61,
   "metadata": {},
   "outputs": [],
   "source": [
    "def source_type(row):\n",
    "    source = row['traffic_source']\n",
    "    region = row['region']\n",
    "    if source == 'yandex' or source == 'google':\n",
    "        return 'organic'\n",
    "    if source == 'paid' or source == 'email':\n",
    "        if region == 'Russia':\n",
    "            return 'ad'\n",
    "        return 'other'\n",
    "    return source"
   ]
  },
  {
   "cell_type": "code",
   "execution_count": 62,
   "metadata": {},
   "outputs": [],
   "source": [
    "log['source_type'] = log.apply(source_type, axis=1)"
   ]
  },
  {
   "cell_type": "code",
   "execution_count": 63,
   "metadata": {},
   "outputs": [
    {
     "output_type": "execute_result",
     "data": {
      "text/plain": [
       "    timestamp    visit_id                                 url  region  \\\n",
       "0  1549980692  e3b0c44298  https://host.ru/3c19b4ef7371864fa3  Russia   \n",
       "1  1549980704  6e340b9cff  https://host.ru/c8d9213a31839f9a3a  Russia   \n",
       "2  1549980715  96a296d224  https://host.ru/b8b58337d272ee7b15  Russia   \n",
       "3  1549980725  709e80c884  https://host.ru/b8b58337d272ee7b15  Russia   \n",
       "4  1549980736  df3f619804  https://host.ru/b8b58337d272ee7b15  Russia   \n",
       "5  1549980742  8855508aad  https://host.ru/df646c3676cc259fa0  Russia   \n",
       "6  1549980742  b0f66adc83  https://host.ru/b8b58337d272ee7b15  Russia   \n",
       "7  1549980754  837885c8f8  https://host.ru/108ce4b365afb7b88e  Russia   \n",
       "8  1549980760  af5570f5a1  https://host.ru/3004a8273caeef2867   China   \n",
       "9  1549980765  3e7077fd2f  https://host.ru/df646c3676cc259fa0  Russia   \n",
       "\n",
       "      user_id traffic_source source_type  \n",
       "0  b1613cc09f         yandex     organic  \n",
       "1  4c3ec14bee         direct      direct  \n",
       "2  a8c40697fb         yandex     organic  \n",
       "3  521ac1d6a0         yandex     organic  \n",
       "4  d7323c571c         yandex     organic  \n",
       "5  fc43898e47         yandex     organic  \n",
       "6  13fc55e781           paid          ad  \n",
       "7  cb5082b6f6         direct      direct  \n",
       "8  45664f7af2         direct      direct  \n",
       "9  6f9de8c8b6          email          ad  "
      ],
      "text/html": "<div>\n<style scoped>\n    .dataframe tbody tr th:only-of-type {\n        vertical-align: middle;\n    }\n\n    .dataframe tbody tr th {\n        vertical-align: top;\n    }\n\n    .dataframe thead th {\n        text-align: right;\n    }\n</style>\n<table border=\"1\" class=\"dataframe\">\n  <thead>\n    <tr style=\"text-align: right;\">\n      <th></th>\n      <th>timestamp</th>\n      <th>visit_id</th>\n      <th>url</th>\n      <th>region</th>\n      <th>user_id</th>\n      <th>traffic_source</th>\n      <th>source_type</th>\n    </tr>\n  </thead>\n  <tbody>\n    <tr>\n      <th>0</th>\n      <td>1549980692</td>\n      <td>e3b0c44298</td>\n      <td>https://host.ru/3c19b4ef7371864fa3</td>\n      <td>Russia</td>\n      <td>b1613cc09f</td>\n      <td>yandex</td>\n      <td>organic</td>\n    </tr>\n    <tr>\n      <th>1</th>\n      <td>1549980704</td>\n      <td>6e340b9cff</td>\n      <td>https://host.ru/c8d9213a31839f9a3a</td>\n      <td>Russia</td>\n      <td>4c3ec14bee</td>\n      <td>direct</td>\n      <td>direct</td>\n    </tr>\n    <tr>\n      <th>2</th>\n      <td>1549980715</td>\n      <td>96a296d224</td>\n      <td>https://host.ru/b8b58337d272ee7b15</td>\n      <td>Russia</td>\n      <td>a8c40697fb</td>\n      <td>yandex</td>\n      <td>organic</td>\n    </tr>\n    <tr>\n      <th>3</th>\n      <td>1549980725</td>\n      <td>709e80c884</td>\n      <td>https://host.ru/b8b58337d272ee7b15</td>\n      <td>Russia</td>\n      <td>521ac1d6a0</td>\n      <td>yandex</td>\n      <td>organic</td>\n    </tr>\n    <tr>\n      <th>4</th>\n      <td>1549980736</td>\n      <td>df3f619804</td>\n      <td>https://host.ru/b8b58337d272ee7b15</td>\n      <td>Russia</td>\n      <td>d7323c571c</td>\n      <td>yandex</td>\n      <td>organic</td>\n    </tr>\n    <tr>\n      <th>5</th>\n      <td>1549980742</td>\n      <td>8855508aad</td>\n      <td>https://host.ru/df646c3676cc259fa0</td>\n      <td>Russia</td>\n      <td>fc43898e47</td>\n      <td>yandex</td>\n      <td>organic</td>\n    </tr>\n    <tr>\n      <th>6</th>\n      <td>1549980742</td>\n      <td>b0f66adc83</td>\n      <td>https://host.ru/b8b58337d272ee7b15</td>\n      <td>Russia</td>\n      <td>13fc55e781</td>\n      <td>paid</td>\n      <td>ad</td>\n    </tr>\n    <tr>\n      <th>7</th>\n      <td>1549980754</td>\n      <td>837885c8f8</td>\n      <td>https://host.ru/108ce4b365afb7b88e</td>\n      <td>Russia</td>\n      <td>cb5082b6f6</td>\n      <td>direct</td>\n      <td>direct</td>\n    </tr>\n    <tr>\n      <th>8</th>\n      <td>1549980760</td>\n      <td>af5570f5a1</td>\n      <td>https://host.ru/3004a8273caeef2867</td>\n      <td>China</td>\n      <td>45664f7af2</td>\n      <td>direct</td>\n      <td>direct</td>\n    </tr>\n    <tr>\n      <th>9</th>\n      <td>1549980765</td>\n      <td>3e7077fd2f</td>\n      <td>https://host.ru/df646c3676cc259fa0</td>\n      <td>Russia</td>\n      <td>6f9de8c8b6</td>\n      <td>email</td>\n      <td>ad</td>\n    </tr>\n  </tbody>\n</table>\n</div>"
     },
     "metadata": {},
     "execution_count": 63
    }
   ],
   "source": [
    "log.head(10)"
   ]
  },
  {
   "source": [
    "## Задание 2"
   ],
   "cell_type": "markdown",
   "metadata": {}
  },
  {
   "cell_type": "code",
   "execution_count": 16,
   "metadata": {},
   "outputs": [],
   "source": [
    "urls = pd.read_csv('URLs.txt')"
   ]
  },
  {
   "cell_type": "code",
   "execution_count": 27,
   "metadata": {},
   "outputs": [
    {
     "output_type": "execute_result",
     "data": {
      "text/plain": [
       "                                                 url\n",
       "0                                            /world/\n",
       "1                                           /latest/\n",
       "2                                      /?updated=top\n",
       "3  /politics/36188461-s-marta-zhizn-rossiyan-susc...\n",
       "4  /world/36007585-tramp-pridumal-kak-reshit-ukra...\n",
       "5  /science/36157853-nasa-sobiraet-ekstrennuyu-pr...\n",
       "6  /video/36001498-poyavilis-pervye-podrobnosti-g...\n",
       "7  /world/36007585-tramp-pridumal-kak-reshit-ukra...\n",
       "8                                          /science/\n",
       "9                                            /sport/"
      ],
      "text/html": "<div>\n<style scoped>\n    .dataframe tbody tr th:only-of-type {\n        vertical-align: middle;\n    }\n\n    .dataframe tbody tr th {\n        vertical-align: top;\n    }\n\n    .dataframe thead th {\n        text-align: right;\n    }\n</style>\n<table border=\"1\" class=\"dataframe\">\n  <thead>\n    <tr style=\"text-align: right;\">\n      <th></th>\n      <th>url</th>\n    </tr>\n  </thead>\n  <tbody>\n    <tr>\n      <th>0</th>\n      <td>/world/</td>\n    </tr>\n    <tr>\n      <th>1</th>\n      <td>/latest/</td>\n    </tr>\n    <tr>\n      <th>2</th>\n      <td>/?updated=top</td>\n    </tr>\n    <tr>\n      <th>3</th>\n      <td>/politics/36188461-s-marta-zhizn-rossiyan-susc...</td>\n    </tr>\n    <tr>\n      <th>4</th>\n      <td>/world/36007585-tramp-pridumal-kak-reshit-ukra...</td>\n    </tr>\n    <tr>\n      <th>5</th>\n      <td>/science/36157853-nasa-sobiraet-ekstrennuyu-pr...</td>\n    </tr>\n    <tr>\n      <th>6</th>\n      <td>/video/36001498-poyavilis-pervye-podrobnosti-g...</td>\n    </tr>\n    <tr>\n      <th>7</th>\n      <td>/world/36007585-tramp-pridumal-kak-reshit-ukra...</td>\n    </tr>\n    <tr>\n      <th>8</th>\n      <td>/science/</td>\n    </tr>\n    <tr>\n      <th>9</th>\n      <td>/sport/</td>\n    </tr>\n  </tbody>\n</table>\n</div>"
     },
     "metadata": {},
     "execution_count": 27
    }
   ],
   "source": [
    "urls.head(10)"
   ]
  },
  {
   "cell_type": "code",
   "execution_count": 28,
   "metadata": {},
   "outputs": [],
   "source": [
    "url_news = urls[ urls.url.str.contains('/\\d{8}-', regex='True') ]"
   ]
  },
  {
   "cell_type": "code",
   "execution_count": 29,
   "metadata": {},
   "outputs": [
    {
     "output_type": "execute_result",
     "data": {
      "text/plain": [
       "                                                 url\n",
       "3  /politics/36188461-s-marta-zhizn-rossiyan-susc...\n",
       "4  /world/36007585-tramp-pridumal-kak-reshit-ukra...\n",
       "5  /science/36157853-nasa-sobiraet-ekstrennuyu-pr...\n",
       "6  /video/36001498-poyavilis-pervye-podrobnosti-g...\n",
       "7  /world/36007585-tramp-pridumal-kak-reshit-ukra..."
      ],
      "text/html": "<div>\n<style scoped>\n    .dataframe tbody tr th:only-of-type {\n        vertical-align: middle;\n    }\n\n    .dataframe tbody tr th {\n        vertical-align: top;\n    }\n\n    .dataframe thead th {\n        text-align: right;\n    }\n</style>\n<table border=\"1\" class=\"dataframe\">\n  <thead>\n    <tr style=\"text-align: right;\">\n      <th></th>\n      <th>url</th>\n    </tr>\n  </thead>\n  <tbody>\n    <tr>\n      <th>3</th>\n      <td>/politics/36188461-s-marta-zhizn-rossiyan-susc...</td>\n    </tr>\n    <tr>\n      <th>4</th>\n      <td>/world/36007585-tramp-pridumal-kak-reshit-ukra...</td>\n    </tr>\n    <tr>\n      <th>5</th>\n      <td>/science/36157853-nasa-sobiraet-ekstrennuyu-pr...</td>\n    </tr>\n    <tr>\n      <th>6</th>\n      <td>/video/36001498-poyavilis-pervye-podrobnosti-g...</td>\n    </tr>\n    <tr>\n      <th>7</th>\n      <td>/world/36007585-tramp-pridumal-kak-reshit-ukra...</td>\n    </tr>\n  </tbody>\n</table>\n</div>"
     },
     "metadata": {},
     "execution_count": 29
    }
   ],
   "source": [
    "url_news.head()"
   ]
  },
  {
   "source": [
    "## Задание 3"
   ],
   "cell_type": "markdown",
   "metadata": {}
  },
  {
   "cell_type": "code",
   "execution_count": 4,
   "metadata": {},
   "outputs": [],
   "source": [
    "ratings = pd.read_csv('ratings.csv')"
   ]
  },
  {
   "cell_type": "code",
   "execution_count": 5,
   "metadata": {},
   "outputs": [
    {
     "output_type": "execute_result",
     "data": {
      "text/plain": [
       "   userId  movieId  rating   timestamp\n",
       "0       1       31     2.5  1260759144\n",
       "1       1     1029     3.0  1260759179\n",
       "2       1     1061     3.0  1260759182\n",
       "3       1     1129     2.0  1260759185\n",
       "4       1     1172     4.0  1260759205"
      ],
      "text/html": "<div>\n<style scoped>\n    .dataframe tbody tr th:only-of-type {\n        vertical-align: middle;\n    }\n\n    .dataframe tbody tr th {\n        vertical-align: top;\n    }\n\n    .dataframe thead th {\n        text-align: right;\n    }\n</style>\n<table border=\"1\" class=\"dataframe\">\n  <thead>\n    <tr style=\"text-align: right;\">\n      <th></th>\n      <th>userId</th>\n      <th>movieId</th>\n      <th>rating</th>\n      <th>timestamp</th>\n    </tr>\n  </thead>\n  <tbody>\n    <tr>\n      <th>0</th>\n      <td>1</td>\n      <td>31</td>\n      <td>2.5</td>\n      <td>1260759144</td>\n    </tr>\n    <tr>\n      <th>1</th>\n      <td>1</td>\n      <td>1029</td>\n      <td>3.0</td>\n      <td>1260759179</td>\n    </tr>\n    <tr>\n      <th>2</th>\n      <td>1</td>\n      <td>1061</td>\n      <td>3.0</td>\n      <td>1260759182</td>\n    </tr>\n    <tr>\n      <th>3</th>\n      <td>1</td>\n      <td>1129</td>\n      <td>2.0</td>\n      <td>1260759185</td>\n    </tr>\n    <tr>\n      <th>4</th>\n      <td>1</td>\n      <td>1172</td>\n      <td>4.0</td>\n      <td>1260759205</td>\n    </tr>\n  </tbody>\n</table>\n</div>"
     },
     "metadata": {},
     "execution_count": 5
    }
   ],
   "source": [
    "ratings.head()"
   ]
  },
  {
   "cell_type": "code",
   "execution_count": 54,
   "metadata": {},
   "outputs": [
    {
     "output_type": "execute_result",
     "data": {
      "text/plain": [
       "   userId  visits\n",
       "0       4     204\n",
       "1       8     116\n",
       "2      15    1700\n",
       "3      17     363\n",
       "4      19     423"
      ],
      "text/html": "<div>\n<style scoped>\n    .dataframe tbody tr th:only-of-type {\n        vertical-align: middle;\n    }\n\n    .dataframe tbody tr th {\n        vertical-align: top;\n    }\n\n    .dataframe thead th {\n        text-align: right;\n    }\n</style>\n<table border=\"1\" class=\"dataframe\">\n  <thead>\n    <tr style=\"text-align: right;\">\n      <th></th>\n      <th>userId</th>\n      <th>visits</th>\n    </tr>\n  </thead>\n  <tbody>\n    <tr>\n      <th>0</th>\n      <td>4</td>\n      <td>204</td>\n    </tr>\n    <tr>\n      <th>1</th>\n      <td>8</td>\n      <td>116</td>\n    </tr>\n    <tr>\n      <th>2</th>\n      <td>15</td>\n      <td>1700</td>\n    </tr>\n    <tr>\n      <th>3</th>\n      <td>17</td>\n      <td>363</td>\n    </tr>\n    <tr>\n      <th>4</th>\n      <td>19</td>\n      <td>423</td>\n    </tr>\n  </tbody>\n</table>\n</div>"
     },
     "metadata": {},
     "execution_count": 54
    }
   ],
   "source": [
    "visits = ratings.groupby('userId').count()[['movieId']]\n",
    "visits.rename(columns={'movieId': 'visits'}, inplace=True)\n",
    "visits = visits [ visits['visits'] > 100 ]\n",
    "visits.reset_index(inplace=True)\n",
    "visits.head()"
   ]
  },
  {
   "cell_type": "code",
   "execution_count": 57,
   "metadata": {},
   "outputs": [],
   "source": [
    "ratings_with_visits = ratings.merge(visits)"
   ]
  },
  {
   "cell_type": "code",
   "execution_count": 59,
   "metadata": {},
   "outputs": [
    {
     "output_type": "execute_result",
     "data": {
      "text/plain": [
       "       userId  movieId  rating   timestamp  visits\n",
       "80467     671     5010     2.0  1066793004     115\n",
       "80468     671     5218     2.0  1065111990     115\n",
       "80469     671     5299     3.0  1065112004     115\n",
       "80470     671     5349     4.0  1065111863     115\n",
       "80471     671     5377     4.0  1064245557     115\n",
       "80472     671     5445     4.5  1064891627     115\n",
       "80473     671     5464     3.0  1064891549     115\n",
       "80474     671     5669     4.0  1063502711     115\n",
       "80475     671     5816     4.0  1065111963     115\n",
       "80476     671     5902     3.5  1064245507     115\n",
       "80477     671     5952     5.0  1063502716     115\n",
       "80478     671     5989     4.0  1064890625     115\n",
       "80479     671     5991     4.5  1064245387     115\n",
       "80480     671     5995     4.0  1066793014     115\n",
       "80481     671     6212     2.5  1065149436     115\n",
       "80482     671     6268     2.5  1065579370     115\n",
       "80483     671     6269     4.0  1065149201     115\n",
       "80484     671     6365     4.0  1070940363     115\n",
       "80485     671     6385     2.5  1070979663     115\n",
       "80486     671     6565     3.5  1074784724     115"
      ],
      "text/html": "<div>\n<style scoped>\n    .dataframe tbody tr th:only-of-type {\n        vertical-align: middle;\n    }\n\n    .dataframe tbody tr th {\n        vertical-align: top;\n    }\n\n    .dataframe thead th {\n        text-align: right;\n    }\n</style>\n<table border=\"1\" class=\"dataframe\">\n  <thead>\n    <tr style=\"text-align: right;\">\n      <th></th>\n      <th>userId</th>\n      <th>movieId</th>\n      <th>rating</th>\n      <th>timestamp</th>\n      <th>visits</th>\n    </tr>\n  </thead>\n  <tbody>\n    <tr>\n      <th>80467</th>\n      <td>671</td>\n      <td>5010</td>\n      <td>2.0</td>\n      <td>1066793004</td>\n      <td>115</td>\n    </tr>\n    <tr>\n      <th>80468</th>\n      <td>671</td>\n      <td>5218</td>\n      <td>2.0</td>\n      <td>1065111990</td>\n      <td>115</td>\n    </tr>\n    <tr>\n      <th>80469</th>\n      <td>671</td>\n      <td>5299</td>\n      <td>3.0</td>\n      <td>1065112004</td>\n      <td>115</td>\n    </tr>\n    <tr>\n      <th>80470</th>\n      <td>671</td>\n      <td>5349</td>\n      <td>4.0</td>\n      <td>1065111863</td>\n      <td>115</td>\n    </tr>\n    <tr>\n      <th>80471</th>\n      <td>671</td>\n      <td>5377</td>\n      <td>4.0</td>\n      <td>1064245557</td>\n      <td>115</td>\n    </tr>\n    <tr>\n      <th>80472</th>\n      <td>671</td>\n      <td>5445</td>\n      <td>4.5</td>\n      <td>1064891627</td>\n      <td>115</td>\n    </tr>\n    <tr>\n      <th>80473</th>\n      <td>671</td>\n      <td>5464</td>\n      <td>3.0</td>\n      <td>1064891549</td>\n      <td>115</td>\n    </tr>\n    <tr>\n      <th>80474</th>\n      <td>671</td>\n      <td>5669</td>\n      <td>4.0</td>\n      <td>1063502711</td>\n      <td>115</td>\n    </tr>\n    <tr>\n      <th>80475</th>\n      <td>671</td>\n      <td>5816</td>\n      <td>4.0</td>\n      <td>1065111963</td>\n      <td>115</td>\n    </tr>\n    <tr>\n      <th>80476</th>\n      <td>671</td>\n      <td>5902</td>\n      <td>3.5</td>\n      <td>1064245507</td>\n      <td>115</td>\n    </tr>\n    <tr>\n      <th>80477</th>\n      <td>671</td>\n      <td>5952</td>\n      <td>5.0</td>\n      <td>1063502716</td>\n      <td>115</td>\n    </tr>\n    <tr>\n      <th>80478</th>\n      <td>671</td>\n      <td>5989</td>\n      <td>4.0</td>\n      <td>1064890625</td>\n      <td>115</td>\n    </tr>\n    <tr>\n      <th>80479</th>\n      <td>671</td>\n      <td>5991</td>\n      <td>4.5</td>\n      <td>1064245387</td>\n      <td>115</td>\n    </tr>\n    <tr>\n      <th>80480</th>\n      <td>671</td>\n      <td>5995</td>\n      <td>4.0</td>\n      <td>1066793014</td>\n      <td>115</td>\n    </tr>\n    <tr>\n      <th>80481</th>\n      <td>671</td>\n      <td>6212</td>\n      <td>2.5</td>\n      <td>1065149436</td>\n      <td>115</td>\n    </tr>\n    <tr>\n      <th>80482</th>\n      <td>671</td>\n      <td>6268</td>\n      <td>2.5</td>\n      <td>1065579370</td>\n      <td>115</td>\n    </tr>\n    <tr>\n      <th>80483</th>\n      <td>671</td>\n      <td>6269</td>\n      <td>4.0</td>\n      <td>1065149201</td>\n      <td>115</td>\n    </tr>\n    <tr>\n      <th>80484</th>\n      <td>671</td>\n      <td>6365</td>\n      <td>4.0</td>\n      <td>1070940363</td>\n      <td>115</td>\n    </tr>\n    <tr>\n      <th>80485</th>\n      <td>671</td>\n      <td>6385</td>\n      <td>2.5</td>\n      <td>1070979663</td>\n      <td>115</td>\n    </tr>\n    <tr>\n      <th>80486</th>\n      <td>671</td>\n      <td>6565</td>\n      <td>3.5</td>\n      <td>1074784724</td>\n      <td>115</td>\n    </tr>\n  </tbody>\n</table>\n</div>"
     },
     "metadata": {},
     "execution_count": 59
    }
   ],
   "source": [
    "ratings_with_visits.tail(20)"
   ]
  },
  {
   "cell_type": "code",
   "execution_count": 62,
   "metadata": {},
   "outputs": [
    {
     "output_type": "execute_result",
     "data": {
      "text/plain": [
       "userId\n",
       "4        203560\n",
       "8         85187\n",
       "15    471393496\n",
       "17         8053\n",
       "19         5282\n",
       "21      1365432\n",
       "22        91491\n",
       "23     18342129\n",
       "26     20267261\n",
       "30    115852276\n",
       "dtype: int64"
      ]
     },
     "metadata": {},
     "execution_count": 62
    }
   ],
   "source": [
    "def groupby_func(df):\n",
    "    return df.timestamp.max() - df.timestamp.min()\n",
    "\n",
    "time = ratings_with_visits.groupby('userId').apply(groupby_func)\n",
    "time.head(10)"
   ]
  },
  {
   "source": [
    "## Задание 4"
   ],
   "cell_type": "markdown",
   "metadata": {}
  },
  {
   "cell_type": "code",
   "execution_count": 66,
   "metadata": {},
   "outputs": [
    {
     "output_type": "execute_result",
     "data": {
      "text/plain": [
       "   client_id  rzd_revenue\n",
       "0        111         1093\n",
       "1        112         2810\n",
       "2        113        10283\n",
       "3        114         5774\n",
       "4        115          981"
      ],
      "text/html": "<div>\n<style scoped>\n    .dataframe tbody tr th:only-of-type {\n        vertical-align: middle;\n    }\n\n    .dataframe tbody tr th {\n        vertical-align: top;\n    }\n\n    .dataframe thead th {\n        text-align: right;\n    }\n</style>\n<table border=\"1\" class=\"dataframe\">\n  <thead>\n    <tr style=\"text-align: right;\">\n      <th></th>\n      <th>client_id</th>\n      <th>rzd_revenue</th>\n    </tr>\n  </thead>\n  <tbody>\n    <tr>\n      <th>0</th>\n      <td>111</td>\n      <td>1093</td>\n    </tr>\n    <tr>\n      <th>1</th>\n      <td>112</td>\n      <td>2810</td>\n    </tr>\n    <tr>\n      <th>2</th>\n      <td>113</td>\n      <td>10283</td>\n    </tr>\n    <tr>\n      <th>3</th>\n      <td>114</td>\n      <td>5774</td>\n    </tr>\n    <tr>\n      <th>4</th>\n      <td>115</td>\n      <td>981</td>\n    </tr>\n  </tbody>\n</table>\n</div>"
     },
     "metadata": {},
     "execution_count": 66
    }
   ],
   "source": [
    "rzd = pd.DataFrame(\n",
    "    {\n",
    "        'client_id': [111, 112, 113, 114, 115],\n",
    "        'rzd_revenue': [1093, 2810, 10283, 5774, 981]\n",
    "    }\n",
    ")\n",
    "rzd"
   ]
  },
  {
   "cell_type": "code",
   "execution_count": 67,
   "metadata": {},
   "outputs": [
    {
     "output_type": "execute_result",
     "data": {
      "text/plain": [
       "   client_id  auto_revenue\n",
       "0        113         57483\n",
       "1        114            83\n",
       "2        115           912\n",
       "3        116          4834\n",
       "4        117            98"
      ],
      "text/html": "<div>\n<style scoped>\n    .dataframe tbody tr th:only-of-type {\n        vertical-align: middle;\n    }\n\n    .dataframe tbody tr th {\n        vertical-align: top;\n    }\n\n    .dataframe thead th {\n        text-align: right;\n    }\n</style>\n<table border=\"1\" class=\"dataframe\">\n  <thead>\n    <tr style=\"text-align: right;\">\n      <th></th>\n      <th>client_id</th>\n      <th>auto_revenue</th>\n    </tr>\n  </thead>\n  <tbody>\n    <tr>\n      <th>0</th>\n      <td>113</td>\n      <td>57483</td>\n    </tr>\n    <tr>\n      <th>1</th>\n      <td>114</td>\n      <td>83</td>\n    </tr>\n    <tr>\n      <th>2</th>\n      <td>115</td>\n      <td>912</td>\n    </tr>\n    <tr>\n      <th>3</th>\n      <td>116</td>\n      <td>4834</td>\n    </tr>\n    <tr>\n      <th>4</th>\n      <td>117</td>\n      <td>98</td>\n    </tr>\n  </tbody>\n</table>\n</div>"
     },
     "metadata": {},
     "execution_count": 67
    }
   ],
   "source": [
    "auto = pd.DataFrame(\n",
    "    {\n",
    "        'client_id': [113, 114, 115, 116, 117],\n",
    "        'auto_revenue': [57483, 83, 912, 4834, 98]\n",
    "    }\n",
    ")\n",
    "auto"
   ]
  },
  {
   "cell_type": "code",
   "execution_count": 68,
   "metadata": {},
   "outputs": [
    {
     "output_type": "execute_result",
     "data": {
      "text/plain": [
       "   client_id  air_revenue\n",
       "0        115           81\n",
       "1        116            4\n",
       "2        117           13\n",
       "3        118          173"
      ],
      "text/html": "<div>\n<style scoped>\n    .dataframe tbody tr th:only-of-type {\n        vertical-align: middle;\n    }\n\n    .dataframe tbody tr th {\n        vertical-align: top;\n    }\n\n    .dataframe thead th {\n        text-align: right;\n    }\n</style>\n<table border=\"1\" class=\"dataframe\">\n  <thead>\n    <tr style=\"text-align: right;\">\n      <th></th>\n      <th>client_id</th>\n      <th>air_revenue</th>\n    </tr>\n  </thead>\n  <tbody>\n    <tr>\n      <th>0</th>\n      <td>115</td>\n      <td>81</td>\n    </tr>\n    <tr>\n      <th>1</th>\n      <td>116</td>\n      <td>4</td>\n    </tr>\n    <tr>\n      <th>2</th>\n      <td>117</td>\n      <td>13</td>\n    </tr>\n    <tr>\n      <th>3</th>\n      <td>118</td>\n      <td>173</td>\n    </tr>\n  </tbody>\n</table>\n</div>"
     },
     "metadata": {},
     "execution_count": 68
    }
   ],
   "source": [
    "air = pd.DataFrame(\n",
    "    {\n",
    "        'client_id': [115, 116, 117, 118],\n",
    "        'air_revenue': [81, 4, 13, 173]\n",
    "    }\n",
    ")\n",
    "air"
   ]
  },
  {
   "cell_type": "code",
   "execution_count": 69,
   "metadata": {},
   "outputs": [
    {
     "output_type": "execute_result",
     "data": {
      "text/plain": [
       "   client_id          address\n",
       "0        111  Комсомольская 4\n",
       "1        112   Энтузиастов 8а\n",
       "2        113  Левобережная 1а\n",
       "3        114          Мира 14\n",
       "4        115        ЗЖБИиДК 1\n",
       "5        116    Строителей 18\n",
       "6        117  Панфиловская 33\n",
       "7        118     Мастеркова 4"
      ],
      "text/html": "<div>\n<style scoped>\n    .dataframe tbody tr th:only-of-type {\n        vertical-align: middle;\n    }\n\n    .dataframe tbody tr th {\n        vertical-align: top;\n    }\n\n    .dataframe thead th {\n        text-align: right;\n    }\n</style>\n<table border=\"1\" class=\"dataframe\">\n  <thead>\n    <tr style=\"text-align: right;\">\n      <th></th>\n      <th>client_id</th>\n      <th>address</th>\n    </tr>\n  </thead>\n  <tbody>\n    <tr>\n      <th>0</th>\n      <td>111</td>\n      <td>Комсомольская 4</td>\n    </tr>\n    <tr>\n      <th>1</th>\n      <td>112</td>\n      <td>Энтузиастов 8а</td>\n    </tr>\n    <tr>\n      <th>2</th>\n      <td>113</td>\n      <td>Левобережная 1а</td>\n    </tr>\n    <tr>\n      <th>3</th>\n      <td>114</td>\n      <td>Мира 14</td>\n    </tr>\n    <tr>\n      <th>4</th>\n      <td>115</td>\n      <td>ЗЖБИиДК 1</td>\n    </tr>\n    <tr>\n      <th>5</th>\n      <td>116</td>\n      <td>Строителей 18</td>\n    </tr>\n    <tr>\n      <th>6</th>\n      <td>117</td>\n      <td>Панфиловская 33</td>\n    </tr>\n    <tr>\n      <th>7</th>\n      <td>118</td>\n      <td>Мастеркова 4</td>\n    </tr>\n  </tbody>\n</table>\n</div>"
     },
     "metadata": {},
     "execution_count": 69
    }
   ],
   "source": [
    "client_base = pd.DataFrame(\n",
    "    {\n",
    "        'client_id': [111, 112, 113, 114, 115, 116, 117, 118],\n",
    "        'address': ['Комсомольская 4', 'Энтузиастов 8а', 'Левобережная 1а', 'Мира 14', 'ЗЖБИиДК 1', \n",
    "                    'Строителей 18', 'Панфиловская 33', 'Мастеркова 4']\n",
    "    }\n",
    ")\n",
    "client_base"
   ]
  },
  {
   "cell_type": "code",
   "execution_count": 94,
   "metadata": {},
   "outputs": [],
   "source": [
    "general = rzd.merge(auto, how='outer').merge(air, how='outer').fillna(0)"
   ]
  },
  {
   "cell_type": "code",
   "execution_count": 95,
   "metadata": {},
   "outputs": [
    {
     "output_type": "execute_result",
     "data": {
      "text/plain": [
       "   client_id  rzd_revenue  auto_revenue  air_revenue\n",
       "0        111       1093.0           0.0          0.0\n",
       "1        112       2810.0           0.0          0.0\n",
       "2        113      10283.0       57483.0          0.0\n",
       "3        114       5774.0          83.0          0.0\n",
       "4        115        981.0         912.0         81.0\n",
       "5        116          0.0        4834.0          4.0\n",
       "6        117          0.0          98.0         13.0\n",
       "7        118          0.0           0.0        173.0"
      ],
      "text/html": "<div>\n<style scoped>\n    .dataframe tbody tr th:only-of-type {\n        vertical-align: middle;\n    }\n\n    .dataframe tbody tr th {\n        vertical-align: top;\n    }\n\n    .dataframe thead th {\n        text-align: right;\n    }\n</style>\n<table border=\"1\" class=\"dataframe\">\n  <thead>\n    <tr style=\"text-align: right;\">\n      <th></th>\n      <th>client_id</th>\n      <th>rzd_revenue</th>\n      <th>auto_revenue</th>\n      <th>air_revenue</th>\n    </tr>\n  </thead>\n  <tbody>\n    <tr>\n      <th>0</th>\n      <td>111</td>\n      <td>1093.0</td>\n      <td>0.0</td>\n      <td>0.0</td>\n    </tr>\n    <tr>\n      <th>1</th>\n      <td>112</td>\n      <td>2810.0</td>\n      <td>0.0</td>\n      <td>0.0</td>\n    </tr>\n    <tr>\n      <th>2</th>\n      <td>113</td>\n      <td>10283.0</td>\n      <td>57483.0</td>\n      <td>0.0</td>\n    </tr>\n    <tr>\n      <th>3</th>\n      <td>114</td>\n      <td>5774.0</td>\n      <td>83.0</td>\n      <td>0.0</td>\n    </tr>\n    <tr>\n      <th>4</th>\n      <td>115</td>\n      <td>981.0</td>\n      <td>912.0</td>\n      <td>81.0</td>\n    </tr>\n    <tr>\n      <th>5</th>\n      <td>116</td>\n      <td>0.0</td>\n      <td>4834.0</td>\n      <td>4.0</td>\n    </tr>\n    <tr>\n      <th>6</th>\n      <td>117</td>\n      <td>0.0</td>\n      <td>98.0</td>\n      <td>13.0</td>\n    </tr>\n    <tr>\n      <th>7</th>\n      <td>118</td>\n      <td>0.0</td>\n      <td>0.0</td>\n      <td>173.0</td>\n    </tr>\n  </tbody>\n</table>\n</div>"
     },
     "metadata": {},
     "execution_count": 95
    }
   ],
   "source": [
    "general"
   ]
  },
  {
   "cell_type": "code",
   "execution_count": 96,
   "metadata": {},
   "outputs": [],
   "source": [
    "general_with_address = general.merge(client_base)"
   ]
  },
  {
   "cell_type": "code",
   "execution_count": 97,
   "metadata": {},
   "outputs": [
    {
     "output_type": "execute_result",
     "data": {
      "text/plain": [
       "   client_id  rzd_revenue  auto_revenue  air_revenue          address\n",
       "0        111       1093.0           0.0          0.0  Комсомольская 4\n",
       "1        112       2810.0           0.0          0.0   Энтузиастов 8а\n",
       "2        113      10283.0       57483.0          0.0  Левобережная 1а\n",
       "3        114       5774.0          83.0          0.0          Мира 14\n",
       "4        115        981.0         912.0         81.0        ЗЖБИиДК 1\n",
       "5        116          0.0        4834.0          4.0    Строителей 18\n",
       "6        117          0.0          98.0         13.0  Панфиловская 33\n",
       "7        118          0.0           0.0        173.0     Мастеркова 4"
      ],
      "text/html": "<div>\n<style scoped>\n    .dataframe tbody tr th:only-of-type {\n        vertical-align: middle;\n    }\n\n    .dataframe tbody tr th {\n        vertical-align: top;\n    }\n\n    .dataframe thead th {\n        text-align: right;\n    }\n</style>\n<table border=\"1\" class=\"dataframe\">\n  <thead>\n    <tr style=\"text-align: right;\">\n      <th></th>\n      <th>client_id</th>\n      <th>rzd_revenue</th>\n      <th>auto_revenue</th>\n      <th>air_revenue</th>\n      <th>address</th>\n    </tr>\n  </thead>\n  <tbody>\n    <tr>\n      <th>0</th>\n      <td>111</td>\n      <td>1093.0</td>\n      <td>0.0</td>\n      <td>0.0</td>\n      <td>Комсомольская 4</td>\n    </tr>\n    <tr>\n      <th>1</th>\n      <td>112</td>\n      <td>2810.0</td>\n      <td>0.0</td>\n      <td>0.0</td>\n      <td>Энтузиастов 8а</td>\n    </tr>\n    <tr>\n      <th>2</th>\n      <td>113</td>\n      <td>10283.0</td>\n      <td>57483.0</td>\n      <td>0.0</td>\n      <td>Левобережная 1а</td>\n    </tr>\n    <tr>\n      <th>3</th>\n      <td>114</td>\n      <td>5774.0</td>\n      <td>83.0</td>\n      <td>0.0</td>\n      <td>Мира 14</td>\n    </tr>\n    <tr>\n      <th>4</th>\n      <td>115</td>\n      <td>981.0</td>\n      <td>912.0</td>\n      <td>81.0</td>\n      <td>ЗЖБИиДК 1</td>\n    </tr>\n    <tr>\n      <th>5</th>\n      <td>116</td>\n      <td>0.0</td>\n      <td>4834.0</td>\n      <td>4.0</td>\n      <td>Строителей 18</td>\n    </tr>\n    <tr>\n      <th>6</th>\n      <td>117</td>\n      <td>0.0</td>\n      <td>98.0</td>\n      <td>13.0</td>\n      <td>Панфиловская 33</td>\n    </tr>\n    <tr>\n      <th>7</th>\n      <td>118</td>\n      <td>0.0</td>\n      <td>0.0</td>\n      <td>173.0</td>\n      <td>Мастеркова 4</td>\n    </tr>\n  </tbody>\n</table>\n</div>"
     },
     "metadata": {},
     "execution_count": 97
    }
   ],
   "source": [
    "general_with_address"
   ]
  }
 ]
}