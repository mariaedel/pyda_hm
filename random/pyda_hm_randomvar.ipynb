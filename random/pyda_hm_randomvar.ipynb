{
 "metadata": {
  "language_info": {
   "codemirror_mode": {
    "name": "ipython",
    "version": 3
   },
   "file_extension": ".py",
   "mimetype": "text/x-python",
   "name": "python",
   "nbconvert_exporter": "python",
   "pygments_lexer": "ipython3",
   "version": "3.8.6-final"
  },
  "orig_nbformat": 2,
  "kernelspec": {
   "name": "python3",
   "display_name": "Python 3.8.6 64-bit",
   "metadata": {
    "interpreter": {
     "hash": "670ac0503b5e7d8d2cc976e7c90ae1069210f4a5d460c715c7316febc0806514"
    }
   }
  }
 },
 "nbformat": 4,
 "nbformat_minor": 2,
 "cells": [
  {
   "cell_type": "code",
   "execution_count": 7,
   "metadata": {},
   "outputs": [],
   "source": [
    "import numpy as np"
   ]
  },
  {
   "source": [
    "- 777: 200 руб.\n",
    "- 999: 100 руб.\n",
    "- 555: 50 руб.\n",
    "- 333: 15 руб.\n",
    "- 111: 10 руб.\n",
    "- *77: 5 руб.\n",
    "- **7: 3 руб.\n",
    "- *00: 2 руб.\n",
    "- **0: 1 руб."
   ],
   "cell_type": "markdown",
   "metadata": {}
  },
  {
   "cell_type": "code",
   "execution_count": 94,
   "metadata": {},
   "outputs": [
    {
     "output_type": "execute_result",
     "data": {
      "text/plain": [
       "-0.212466"
      ]
     },
     "metadata": {},
     "execution_count": 94
    }
   ],
   "source": [
    "attempts = 1000000\n",
    "loss = 0\n",
    "gain = 0\n",
    "\n",
    "for attempt in range(attempts):\n",
    "\n",
    "    loss += 1\n",
    "    num = np.random.randint(0, 1000)\n",
    "    if num == 777:\n",
    "        gain += 200\n",
    "    elif num == 999:\n",
    "        gain += 100\n",
    "    elif num == 555:\n",
    "        gain += 50\n",
    "    elif num == 333:\n",
    "        gain += 15\n",
    "    elif num == 111:\n",
    "        gain += 10\n",
    "    elif num % 100 == 77:\n",
    "        gain += 5\n",
    "    elif num % 10 == 7:\n",
    "        gain += 3\n",
    "    elif num % 100 == 0:\n",
    "        gain += 2\n",
    "    elif num % 10 == 0:\n",
    "        gain += 1\n",
    "\n",
    "all_money = gain - loss\n",
    "mean = all_money / attempts\n",
    "\n",
    "mean"
   ]
  },
  {
   "source": [
    "## Теоретический расчет"
   ],
   "cell_type": "markdown",
   "metadata": {}
  },
  {
   "cell_type": "code",
   "execution_count": 92,
   "metadata": {},
   "outputs": [
    {
     "output_type": "execute_result",
     "data": {
      "text/plain": [
       "-0.30500000000000005"
      ]
     },
     "metadata": {},
     "execution_count": 92
    }
   ],
   "source": [
    "p_3 = 0.001                # 777 999 555 333 111\n",
    "p_2 = 9/10 * 1/10 * 1/10   # *77 *00\n",
    "p_1 = 10/10 * 9/10 * 1/10  # **7 **0\n",
    "p_0 = 1 - p_3 - p_2 - p_1 # остальные \n",
    "\n",
    "mean_gain = (200 + 100 + 50 + 15 + 10 - 5) * p_3 + (5 + 2 - 2) * p_2 + (3 + 1 - 2) * p_1 - 1 * 0.9\n",
    "mean_gain"
   ]
  }
 ]
}