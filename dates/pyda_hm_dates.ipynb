{
 "metadata": {
  "language_info": {
   "codemirror_mode": {
    "name": "ipython",
    "version": 3
   },
   "file_extension": ".py",
   "mimetype": "text/x-python",
   "name": "python",
   "nbconvert_exporter": "python",
   "pygments_lexer": "ipython3",
   "version": "3.8.5-final"
  },
  "orig_nbformat": 2,
  "kernelspec": {
   "name": "python3",
   "display_name": "Python 3",
   "language": "python"
  }
 },
 "nbformat": 4,
 "nbformat_minor": 2,
 "cells": [
  {
   "source": [
    "## Задание 1"
   ],
   "cell_type": "markdown",
   "metadata": {}
  },
  {
   "cell_type": "code",
   "execution_count": 1,
   "metadata": {},
   "outputs": [],
   "source": [
    "s1 = 'The Moscow Times - Wednesday, October 2, 2002'\n",
    "s2 = 'The Guardian - Friday, 11.10.13'\n",
    "s3 = 'Daily News - Thursday, 18 August 1977'"
   ]
  },
  {
   "cell_type": "code",
   "execution_count": 2,
   "metadata": {},
   "outputs": [
    {
     "output_type": "stream",
     "name": "stdout",
     "text": [
      "2002-10-02 00:00:00\n2013-10-11 00:00:00\n1977-08-18 00:00:00\n"
     ]
    }
   ],
   "source": [
    "from datetime import datetime\n",
    "dt1 = datetime.strptime(s1, 'The Moscow Times - %A, %B %d, %Y')\n",
    "dt2 = datetime.strptime(s2, 'The Guardian - %A, %d.%m.%y')\n",
    "dt3 = datetime.strptime(s3, 'Daily News - %A, %d %B %Y')\n",
    "\n",
    "print(dt1, dt2, dt3, sep='\\n')"
   ]
  },
  {
   "source": [
    "## Задание 2"
   ],
   "cell_type": "markdown",
   "metadata": {}
  },
  {
   "cell_type": "code",
   "execution_count": 3,
   "metadata": {},
   "outputs": [],
   "source": [
    "stream = ['2018-04-02', '2018-02-29', '2018-19-02']"
   ]
  },
  {
   "cell_type": "code",
   "execution_count": 4,
   "metadata": {},
   "outputs": [
    {
     "output_type": "stream",
     "name": "stdout",
     "text": [
      "True\nFalse\nFalse\n"
     ]
    }
   ],
   "source": [
    "def correct_date(dt):\n",
    "    try:\n",
    "        datetime.strptime(dt, '%Y-%m-%d')\n",
    "        print(True)\n",
    "    except:\n",
    "        print(False)\n",
    "\n",
    "for dt in stream:\n",
    "    correct_date(dt)"
   ]
  },
  {
   "source": [
    "## Задание 3"
   ],
   "cell_type": "markdown",
   "metadata": {}
  },
  {
   "cell_type": "code",
   "execution_count": 5,
   "metadata": {},
   "outputs": [
    {
     "output_type": "stream",
     "name": "stdout",
     "text": [
      "2021-02-06\n2021-02-07\n2021-02-08\n2021-02-09\n2021-02-10\n2021-02-11\n2021-02-12\n2021-02-13\n2021-02-14\n"
     ]
    }
   ],
   "source": [
    "from datetime import timedelta\n",
    "\n",
    "def date_range(start_date, end_date):\n",
    "\n",
    "    try:\n",
    "        start_date_dt = datetime.strptime(start_date, '%Y-%m-%d')\n",
    "        end_date_dt = datetime.strptime(end_date, '%Y-%m-%d')\n",
    "        if start_date_dt > end_date_dt: \n",
    "            err\n",
    "        current_date_dt = start_date_dt\n",
    "        while current_date_dt <= end_date_dt:\n",
    "            print(datetime.strftime(current_date_dt, '%Y-%m-%d')) \n",
    "            current_date_dt += timedelta(days=1)\n",
    "            \n",
    "    except:\n",
    "        print([])\n",
    "\n",
    "date_range('2021-02-06', '2021-02-14')"
   ]
  },
  {
   "source": [
    "## Задание 4\n",
    "\n",
    "### 1. Что значит ошибка list index out of range?\n",
    "\n",
    "Это значит, что мы обращаемся к элементу по индексу, номер которого выходит за пределы длины списка. \n",
    "\n",
    "### 2. Почему при первом запуске функция работает корректно, а при втором - нет?\n",
    "\n",
    "Это связано с тем, что функция изменяет сам список, и количество элементов в нем уменьшается."
   ],
   "cell_type": "markdown",
   "metadata": {}
  }
 ]
}