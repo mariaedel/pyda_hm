{
 "metadata": {
  "language_info": {
   "codemirror_mode": {
    "name": "ipython",
    "version": 3
   },
   "file_extension": ".py",
   "mimetype": "text/x-python",
   "name": "python",
   "nbconvert_exporter": "python",
   "pygments_lexer": "ipython3",
   "version": "3.8.6-final"
  },
  "orig_nbformat": 2,
  "kernelspec": {
   "name": "python3",
   "display_name": "Python 3.8.6 64-bit",
   "metadata": {
    "interpreter": {
     "hash": "670ac0503b5e7d8d2cc976e7c90ae1069210f4a5d460c715c7316febc0806514"
    }
   }
  }
 },
 "nbformat": 4,
 "nbformat_minor": 2,
 "cells": [
  {
   "source": [
    "## Задание 1"
   ],
   "cell_type": "markdown",
   "metadata": {}
  },
  {
   "cell_type": "code",
   "execution_count": 1,
   "metadata": {},
   "outputs": [],
   "source": [
    "import re"
   ]
  },
  {
   "cell_type": "code",
   "execution_count": 2,
   "metadata": {},
   "outputs": [
    {
     "output_type": "stream",
     "name": "stdout",
     "text": [
      "Номер АВ222С валиден. Регион: 96\nНомер АБ22ВВ193 не валиден\n"
     ]
    }
   ],
   "source": [
    "def is_id_right(car_id):\n",
    "\n",
    "    id = r'[АВЕКМНОРСТХУ]{2}\\d{3}[АВЕКМНОРСТХУ]'\n",
    "    reg = r'(?<=[АВЕКМНОРСТХУ]{2}\\d{3}[АВЕКМНОРСТХУ])\\d{2,3}'\n",
    "\n",
    "    if re.findall(id, car_id) == [] or re.findall(reg, car_id) == []:\n",
    "        return (f'Номер {car_id} не валиден')\n",
    "    \n",
    "    return (f'Номер {re.findall(id, car_id)[0]} валиден. Регион: {re.findall(reg, car_id)[0]}')\n",
    "\n",
    "\n",
    "print(is_id_right('АВ222С96'))\n",
    "print(is_id_right('АБ22ВВ193'))"
   ]
  },
  {
   "source": [
    "### Вопрос: можно ли обозначить \"АВЕКМНОРСТХУ\" за какую-то переменную, чтобы не тащить все перечисления несколько раз? "
   ],
   "cell_type": "markdown",
   "metadata": {}
  },
  {
   "source": [
    "## Задание 2"
   ],
   "cell_type": "markdown",
   "metadata": {}
  },
  {
   "cell_type": "code",
   "execution_count": 311,
   "metadata": {},
   "outputs": [
    {
     "output_type": "execute_result",
     "data": {
      "text/plain": [
       "'Напишите функцию, которая будет удалять все последовательные повторы слов из заданной строки при помощи регулярных выражений'"
      ]
     },
     "metadata": {},
     "execution_count": 311
    }
   ],
   "source": [
    "some_string = 'Напишите функцию функцию, которая будет будет будет будет удалять все все все все последовательные повторы слов из из из из заданной строки строки при помощи регулярных выражений'\n",
    "\n",
    "def remove_repeats(some_string):\n",
    "    return re.sub(r'(\\w+)(\\s\\1)+', r'\\1', some_string)\n",
    "\n",
    "remove_repeats(some_string)"
   ]
  },
  {
   "source": [
    "## Задание 3"
   ],
   "cell_type": "markdown",
   "metadata": {}
  },
  {
   "cell_type": "code",
   "execution_count": 299,
   "metadata": {},
   "outputs": [
    {
     "output_type": "stream",
     "name": "stdout",
     "text": [
      "NFC\n"
     ]
    }
   ],
   "source": [
    "# some_words = 'Информационные технологии'\n",
    "some_words = 'Near Field Communication'\n",
    "\n",
    "def acr(some_words):\n",
    "    some_words = ' ' + some_words\n",
    "    the_first_letters = r'(?<=\\s)\\w'\n",
    "    acr = re.findall(the_first_letters, some_words)\n",
    "    print(*[letter.upper() for letter in acr], sep = '')\n",
    "\n",
    "acr(some_words)"
   ]
  },
  {
   "source": [
    "## Задание 4"
   ],
   "cell_type": "markdown",
   "metadata": {}
  },
  {
   "cell_type": "code",
   "execution_count": 56,
   "metadata": {},
   "outputs": [
    {
     "output_type": "stream",
     "name": "stdout",
     "text": [
      "gmail.com: 2\ntest.in: 1\nya.ru: 2\nmail.ru: 1\n"
     ]
    }
   ],
   "source": [
    "emails = ['test@gmail.com', 'xyz@test.in', 'test@ya.ru', 'xyz@mail.ru', 'xyz@ya.ru', 'xyz@gmail.com']\n",
    "\n",
    "def domen_counter(emails):\n",
    "    domens_amount = {}\n",
    "    for email in emails:\n",
    "        domen = re.findall(r'(?<=@)\\w+\\.\\w+', email)\n",
    "        if domen[0] not in domens_amount.keys():\n",
    "            domens_amount[domen[0]] = 1\n",
    "        else:\n",
    "            domens_amount[domen[0]] +=1\n",
    "    print(*[f'{key}: {domens_amount[key]}' for key in domens_amount], sep='\\n')\n",
    "\n",
    "domen_counter(emails)"
   ]
  },
  {
   "source": [
    "## Задание 5"
   ],
   "cell_type": "markdown",
   "metadata": {}
  },
  {
   "cell_type": "code",
   "execution_count": 71,
   "metadata": {},
   "outputs": [
    {
     "output_type": "stream",
     "name": "stdout",
     "text": [
      "Слов на гласные буквы: 9\nСлов на согласные буквы: 21\n"
     ]
    }
   ],
   "source": [
    "some_text = 'Эталонной реализацией Python является интерпретатор CPython, поддерживающий большинство активно используемых платформ. Он распространяется под свободной лицензией Python Software Foundation License, позволяющей использовать его без ограничений в любых приложениях, включая проприетарные.'\n",
    "\n",
    "def glas_and_solglas(some_text):\n",
    "    glas = len(re.findall(r'\\b[ауоиэыяюеёaeiouy]', some_text.lower()))\n",
    "    all_words = len(re.findall(r'\\w+', some_text))\n",
    "    print(f'Слов на гласные буквы: {glas}\\nСлов на согласные буквы: {all_words - glas}')\n",
    "\n",
    "glas_and_solglas(some_text)"
   ]
  },
  {
   "source": [
    "## Задание 6"
   ],
   "cell_type": "markdown",
   "metadata": {}
  },
  {
   "cell_type": "code",
   "execution_count": 313,
   "metadata": {},
   "outputs": [
    {
     "output_type": "stream",
     "name": "stdout",
     "text": [
      "+7-955-555-55-55\nНомер не валиден\nНомер не валиден\n+7-955-555-55-55\n+7-955-555-55-55\n"
     ]
    }
   ],
   "source": [
    "phone = '8 (955) (555)-55-55'\n",
    "phone1 = '423-555-55-5655'\n",
    "phone2 = '123-456-789'\n",
    "phone3 = '7(955) 555-55-55'\n",
    "phone4 = '+7 955 555-55-55'\n",
    "\n",
    "def is_phone_right(phone):\n",
    "    phone = re.sub(r'[\\D]', '', phone)\n",
    "\n",
    "    if len(phone) == 11 and re.match(r'[78]', phone):\n",
    "        right_form = re.sub(r'([78])(\\d{3})(\\d{3})(\\d{2})(\\d{2})', r'+7-\\2-\\3-\\4-\\5', phone)\n",
    "        return right_form\n",
    "\n",
    "    return 'Номер не валиден'\n",
    "\n",
    "print(is_phone_right(phone), \n",
    "        is_phone_right(phone1), \n",
    "        is_phone_right(phone2), \n",
    "        is_phone_right(phone3), \n",
    "        is_phone_right(phone4), sep='\\n')"
   ]
  }
 ]
}