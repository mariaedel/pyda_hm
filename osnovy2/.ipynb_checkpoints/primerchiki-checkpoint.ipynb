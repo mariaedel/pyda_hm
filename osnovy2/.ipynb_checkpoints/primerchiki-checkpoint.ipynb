{
 "cells": [
  {
   "cell_type": "markdown",
   "metadata": {},
   "source": [
    "### Пример с распаковкой данных"
   ]
  },
  {
   "cell_type": "code",
   "execution_count": 10,
   "metadata": {},
   "outputs": [],
   "source": [
    "cook_book = [\n",
    "  ['салат',\n",
    "      [\n",
    "        ['картофель', 100, 'гр.'],\n",
    "        ['морковь', 50, 'гр.'],\n",
    "        ['огурцы', 50, 'гр.'],\n",
    "        ['горошек', 30, 'гр.'],\n",
    "        ['майонез', 70, 'мл.'],\n",
    "      ]\n",
    "  ],\n",
    "  ['пицца',  \n",
    "      [\n",
    "        ['сыр', 50, 'гр.'],\n",
    "        ['томаты', 50, 'гр.'],\n",
    "        ['тесто', 100, 'гр.'],\n",
    "        ['бекон', 30, 'гр.'],\n",
    "        ['колбаса', 30, 'гр.'],\n",
    "        ['грибы', 20, 'гр.'],\n",
    "      ],\n",
    "  ],\n",
    "  ['фруктовый десерт',\n",
    "      [\n",
    "        ['хурма', 60, 'гр.'],\n",
    "        ['киви', 60, 'гр.'],\n",
    "        ['творог', 60, 'гр.'],\n",
    "        ['сахар', 10, 'гр.'],\n",
    "        ['мед', 50, 'мл.'],  \n",
    "      ]\n",
    "  ]\n",
    "]\n",
    "\n",
    "person = 5"
   ]
  },
  {
   "cell_type": "code",
   "execution_count": 18,
   "metadata": {},
   "outputs": [
    {
     "name": "stdout",
     "output_type": "stream",
     "text": [
      "Салат\n",
      "картофель, 500гр.\n",
      "морковь, 250гр.\n",
      "огурцы, 250гр.\n",
      "горошек, 150гр.\n",
      "майонез, 350мл.\n",
      "\n",
      "Пицца\n",
      "сыр, 250гр.\n",
      "томаты, 250гр.\n",
      "тесто, 500гр.\n",
      "бекон, 150гр.\n",
      "колбаса, 150гр.\n",
      "грибы, 100гр.\n",
      "\n",
      "Фруктовый десерт\n",
      "хурма, 300гр.\n",
      "киви, 300гр.\n",
      "творог, 300гр.\n",
      "сахар, 50гр.\n",
      "мед, 250мл.\n",
      "\n"
     ]
    }
   ],
   "source": [
    "for item in cook_book:\n",
    "    print(item[0].capitalize())\n",
    "    for line in item[1]:\n",
    "        food, weight, gr = line\n",
    "        print(f'{food}, {int(weight)*person}{gr}')\n",
    "    print()"
   ]
  },
  {
   "cell_type": "markdown",
   "metadata": {},
   "source": [
    "## enumerate"
   ]
  },
  {
   "cell_type": "code",
   "execution_count": 2,
   "metadata": {},
   "outputs": [
    {
     "data": {
      "text/plain": [
       "[(0, 1), (1, 3), (2, 5), (3, 7)]"
      ]
     },
     "execution_count": 2,
     "metadata": {},
     "output_type": "execute_result"
    }
   ],
   "source": [
    "list(enumerate([1, 3, 5, 7]))"
   ]
  },
  {
   "cell_type": "code",
   "execution_count": 5,
   "metadata": {},
   "outputs": [
    {
     "name": "stdout",
     "output_type": "stream",
     "text": [
      "1 Orange - 1.3\n",
      "2 Maxisoft - 1.5\n",
      "3 Headbook - 0.8\n",
      "4 Nicola - 2.2\n"
     ]
    }
   ],
   "source": [
    "companies_capitalization = [\n",
    "    ['Orange', 1.3],\n",
    "    ['Maxisoft', 1.5],\n",
    "    ['Headbook', 0.8],\n",
    "    ['Nicola', 2.2]\n",
    "]\n",
    "\n",
    "for i, company in enumerate(companies_capitalization):\n",
    "    print(i+1, company[0], '-', company[1])"
   ]
  },
  {
   "cell_type": "markdown",
   "metadata": {},
   "source": [
    "# 21.12"
   ]
  },
  {
   "cell_type": "markdown",
   "metadata": {},
   "source": [
    "Разное форматирование (f-строки): http://cis.bentley.edu/sandbox/wp-content/uploads/Documentation-on-f-strings.pdf"
   ]
  },
  {
   "cell_type": "markdown",
   "metadata": {},
   "source": [
    "### Округление в f-строках"
   ]
  },
  {
   "cell_type": "code",
   "execution_count": 1,
   "metadata": {},
   "outputs": [
    {
     "name": "stdout",
     "output_type": "stream",
     "text": [
      "Orange, 1.35, 30000\n",
      "Maxisoft, 1.53, 40000\n",
      "Headbook, 0.83, 15000\n",
      "Nicola, 2.23, 18000\n"
     ]
    }
   ],
   "source": [
    "companies_info = [\n",
    "    ['Orange', 1.35464, 30000],\n",
    "    ['Maxisoft', 1.5346, 40000],\n",
    "    ['Headbook', 0.8346, 15000],\n",
    "    ['Nicola', 2.2346, 18000]\n",
    "]\n",
    "\n",
    "for name, cap, pers in companies_info:\n",
    "    print(f'{name}, {cap :.2f}, {pers}')"
   ]
  },
  {
   "cell_type": "markdown",
   "metadata": {},
   "source": [
    "### \"Разгладить\" список"
   ]
  },
  {
   "cell_type": "code",
   "execution_count": 2,
   "metadata": {},
   "outputs": [
    {
     "data": {
      "text/plain": [
       "['Екатеринбург', 'Москва', 'Санкт-Петербург', 'Норильск', 'Пермь', 'Астрахань']"
      ]
     },
     "execution_count": 2,
     "metadata": {},
     "output_type": "execute_result"
    }
   ],
   "source": [
    "my_list = [['Екатеринбург', 'Москва'], ['Санкт-Петербург', 'Норильск'], ['Пермь', 'Астрахань']]\n",
    "sum(my_list, [])"
   ]
  },
  {
   "cell_type": "code",
   "execution_count": 10,
   "metadata": {
    "scrolled": true
   },
   "outputs": [
    {
     "name": "stdout",
     "output_type": "stream",
     "text": [
      "{1: 2, 3: 4, 5: 7}\n",
      "{1: 2, 3: 4, 5: 7}\n"
     ]
    }
   ],
   "source": [
    "# соединяем словари\n",
    "dict_1 = {1: 2}\n",
    "dict_2 = {3: 4, 5:7}\n",
    "\n",
    "# создаем новый\n",
    "res = {**dict_1, **dict_2}\n",
    "print(res)\n",
    "\n",
    "# меняем исходный\n",
    "dict_1.update(dict_2)\n",
    "print(dict_1)"
   ]
  },
  {
   "cell_type": "markdown",
   "metadata": {},
   "source": [
    "### Практика. Согласно сайту www.bodycounters.com в четырех частях фильма “Пираты Карибского моря” было довольно много погибших. Пиратов-зомби в последней части тоже считайте живыми."
   ]
  },
  {
   "cell_type": "code",
   "execution_count": 12,
   "metadata": {},
   "outputs": [],
   "source": [
    "bodycount = {\n",
    "    'Проклятие Черной жемчужины': {\n",
    "        'человек': 17\n",
    "    }, \n",
    "    \n",
    "    'Сундук мертвеца': {\n",
    "        'человек': 56,\n",
    "        'раков-отшельников': 1\n",
    "    },\n",
    "\n",
    "    'На краю света': {\n",
    "        'человек': 88\n",
    "    },\n",
    "\n",
    "    'На странных берегах': {\n",
    "        'человек': 56,\n",
    "        'русалок': 2,\n",
    "        'ядовитых жаб': 3,\n",
    "        'пиратов зомби': 2\n",
    "    }\n",
    "}"
   ]
  },
  {
   "cell_type": "code",
   "execution_count": 23,
   "metadata": {},
   "outputs": [
    {
     "data": {
      "text/plain": [
       "225"
      ]
     },
     "execution_count": 23,
     "metadata": {},
     "output_type": "execute_result"
    }
   ],
   "source": [
    "summa = 0\n",
    "for film in bodycount:\n",
    "    for creature in bodycount[film]:\n",
    "        summa += int(bodycount[film][creature])\n",
    "print(summa)\n",
    "        "
   ]
  },
  {
   "cell_type": "code",
   "execution_count": 37,
   "metadata": {},
   "outputs": [
    {
     "name": "stdout",
     "output_type": "stream",
     "text": [
      "225\n"
     ]
    }
   ],
   "source": [
    "S = 0\n",
    "for creature in bodycount.values():\n",
    "    for num in creature.values():\n",
    "        S += int(num)    \n",
    "print(S)"
   ]
  },
  {
   "cell_type": "code",
   "execution_count": 39,
   "metadata": {},
   "outputs": [
    {
     "name": "stdout",
     "output_type": "stream",
     "text": [
      "225\n"
     ]
    }
   ],
   "source": [
    "all_dead = 0\n",
    "for dead in bodycount.values():\n",
    "    all_dead += sum(dead.values())\n",
    "\n",
    "print(all_dead)"
   ]
  },
  {
   "cell_type": "markdown",
   "metadata": {},
   "source": [
    "### Практика. Посчитайте сколько раз каждое слово встречалось в тексте\n",
    "Вывести в формате: \"слово\": \"количество вхождений\"\n",
    "\n",
    "За разделитель считаем пробел, все слова приводим к нижнему регистру"
   ]
  },
  {
   "cell_type": "code",
   "execution_count": 40,
   "metadata": {},
   "outputs": [],
   "source": [
    "some_oxy_text = '''\n",
    "Весь мой рэп, если коротко, про то, что\n",
    "Уж который год который город под подошвой\n",
    "В гору, когда прет. Потом под гору, когда тошно\n",
    "Я не то, что Гулливер, но все же город под подошвой\n",
    "Город под подошвой, город под подошвой\n",
    "Светофоры, госпошлины, сборы и таможни\n",
    "Я не знаю, вброд или на дно эта дорожка\n",
    "Ты живешь под каблуком, у меня - город под подошвой\n",
    "'''"
   ]
  },
  {
   "cell_type": "code",
   "execution_count": 120,
   "metadata": {},
   "outputs": [
    {
     "name": "stdout",
     "output_type": "stream",
     "text": [
      "каблуком 1\n",
      " 1\n",
      "рэп 1\n",
      "подошвой\n",
      "в 1\n",
      "что\n",
      "уж 1\n",
      "который 2\n",
      "эта 1\n",
      "и 1\n",
      "сборы 1\n",
      "не 2\n",
      "гулливер 1\n",
      "у 1\n",
      "на 1\n",
      "или 1\n",
      "вброд 1\n",
      "город 4\n",
      "когда 2\n",
      "же 1\n",
      "все 1\n",
      "про 1\n",
      "госпошлины 1\n",
      "мой 1\n",
      "год 1\n",
      "подошвой\n",
      "светофоры 1\n",
      "под 7\n",
      "что 1\n",
      "потом 1\n",
      "дно 1\n",
      "живешь 1\n",
      "но 1\n",
      "дорожка\n",
      "ты 1\n",
      "подошвой\n",
      "город 1\n",
      "знаю 1\n",
      "гору 2\n",
      "тошно\n",
      "я 1\n",
      "подошвой\n",
      " 1\n",
      "таможни\n",
      "я 1\n",
      "меня 1\n",
      "\n",
      "весь 1\n",
      "прет 1\n",
      "коротко 1\n",
      "то 2\n",
      "подошвой 1\n",
      "если 1\n"
     ]
    }
   ],
   "source": [
    "S = (some_oxy_text.lower())\n",
    "#S1 = (S.strip(',')).strip('-')\n",
    "S1 = S.replace(',', '')\n",
    "S2 = S1.replace('-', '')\n",
    "S3 = S2.replace('.', '')\n",
    "S4 = S3.replace('\\n', '')\n",
    "all_words = S3.split(' ')\n",
    "\n",
    "\n",
    "for word in set(all_words):\n",
    "    print(word, all_words.count(word))\n"
   ]
  },
  {
   "cell_type": "markdown",
   "metadata": {},
   "source": [
    "### not mine"
   ]
  },
  {
   "cell_type": "code",
   "execution_count": 123,
   "metadata": {},
   "outputs": [
    {
     "name": "stdout",
     "output_type": "stream",
     "text": [
      "каблуком: 1\n",
      "рэп: 1\n",
      "который: 2\n",
      "эта: 1\n",
      "и: 1\n",
      "дорожка: 1\n",
      "сборы: 1\n",
      "не: 2\n",
      "таможни: 1\n",
      "гулливер: 1\n",
      "у: 1\n",
      "на: 1\n",
      "или: 1\n",
      "вброд: 1\n",
      "город: 5\n",
      "в: 1\n",
      "когда: 2\n",
      "же: 1\n",
      "все: 1\n",
      "уж: 1\n",
      "про: 1\n",
      "госпошлины: 1\n",
      "мой: 1\n",
      "год: 1\n",
      "ты: 1\n",
      "под: 7\n",
      "что: 2\n",
      "потом: 1\n",
      "дно: 1\n",
      "весь: 1\n",
      "живешь: 1\n",
      "тошно: 1\n",
      "но: 1\n",
      "светофоры: 1\n",
      "гору: 2\n",
      "знаю: 1\n",
      "я: 2\n",
      "меня: 1\n",
      "подошвой: 5\n",
      "коротко: 1\n",
      "то: 2\n",
      "прет: 1\n",
      "если: 1\n"
     ]
    }
   ],
   "source": [
    "res = some_oxy_text.replace(',', ' ').replace('.', ' ').replace('\\n', ' ').replace(' -', ' ')\n",
    "res = res.lower()\n",
    "splitted_text = res.split() #сплит передает по умолчанию не просто пробел, он сплитует по всем пробельным символам\n",
    "for word in set(splitted_text):\n",
    "    print(f'{word}: {splitted_text.count(word)}')"
   ]
  },
  {
   "cell_type": "markdown",
   "metadata": {},
   "source": [
    "### Как изменить элементы исходного словаря? Т.е. изменить его или удалить некоторые элементы?\n",
    "\n",
    "!! Создать копию и итерировать по копии !!"
   ]
  },
  {
   "cell_type": "code",
   "execution_count": 124,
   "metadata": {},
   "outputs": [],
   "source": [
    "geo_logs = [\n",
    "    {'visit1': ['Москва', 'Россия']},\n",
    "    {'visit2': ['Дели', 'Индия']},\n",
    "    {'visit3': ['Владимир', 'Россия']},\n",
    "    {'visit4': ['Лиссабон', 'Португалия']},\n",
    "    {'visit5': ['Париж', 'Франция']},\n",
    "    {'visit5': ['Париж', 'Франция']},\n",
    "    {'visit7': ['Тула', 'Россия']},\n",
    "    {'visit9': ['Курск', 'Россия']},\n",
    "    {'visit10': ['Архангельск', 'Россия']}\n",
    "]"
   ]
  },
  {
   "cell_type": "code",
   "execution_count": 125,
   "metadata": {},
   "outputs": [
    {
     "data": {
      "text/plain": [
       "[{'visit1': ['Москва', 'Россия']},\n",
       " {'visit3': ['Владимир', 'Россия']},\n",
       " {'visit7': ['Тула', 'Россия']},\n",
       " {'visit9': ['Курск', 'Россия']},\n",
       " {'visit10': ['Архангельск', 'Россия']}]"
      ]
     },
     "execution_count": 125,
     "metadata": {},
     "output_type": "execute_result"
    }
   ],
   "source": [
    "geo_logs_2 = geo_logs.copy()\n",
    "\n",
    "for visit in geo_logs_2:\n",
    "    if 'Россия' not in list(visit.values())[0]:\n",
    "        geo_logs.remove(visit)\n",
    "        \n",
    "geo_logs"
   ]
  },
  {
   "cell_type": "code",
   "execution_count": null,
   "metadata": {},
   "outputs": [],
   "source": []
  }
 ],
 "metadata": {
  "kernelspec": {
   "display_name": "Python 3",
   "language": "python",
   "name": "python3"
  },
  "language_info": {
   "codemirror_mode": {
    "name": "ipython",
    "version": 3
   },
   "file_extension": ".py",
   "mimetype": "text/x-python",
   "name": "python",
   "nbconvert_exporter": "python",
   "pygments_lexer": "ipython3",
   "version": "3.8.5"
  }
 },
 "nbformat": 4,
 "nbformat_minor": 4
}
