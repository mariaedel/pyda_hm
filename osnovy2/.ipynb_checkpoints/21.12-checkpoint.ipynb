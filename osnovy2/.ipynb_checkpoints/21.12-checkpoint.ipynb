{
 "cells": [
  {
   "cell_type": "markdown",
   "metadata": {},
   "source": [
    "### Вопрос 1. Распаковка элементов прямо в цикле"
   ]
  },
  {
   "cell_type": "code",
   "execution_count": 1,
   "metadata": {},
   "outputs": [
    {
     "name": "stdout",
     "output_type": "stream",
     "text": [
      "Orange\n",
      "100000000\n"
     ]
    }
   ],
   "source": [
    "company_tuple = ('Orange', 100000000)\n",
    "company_name, capitalization = company_tuple\n",
    "print(company_name)\n",
    "print(capitalization)"
   ]
  },
  {
   "cell_type": "code",
   "execution_count": 6,
   "metadata": {},
   "outputs": [
    {
     "name": "stdout",
     "output_type": "stream",
     "text": [
      "['Orange', 1.3, 30000]\n",
      "['Maxisoft', 1.5, 40000]\n",
      "['Headbook', 0.8, 15000]\n",
      "['Nicola', 2.2, 18000]\n"
     ]
    }
   ],
   "source": [
    "companies_info = [\n",
    "    ['Orange', 1.3, 30000],\n",
    "    ['Maxisoft', 1.5, 40000],\n",
    "    ['Headbook', 0.8, 15000],\n",
    "    ['Nicola', 2.2, 18000]\n",
    "]\n",
    "\n",
    "for company in companies_info:\n",
    "    print(company)"
   ]
  },
  {
   "cell_type": "code",
   "execution_count": 11,
   "metadata": {},
   "outputs": [
    {
     "ename": "ValueError",
     "evalue": "too many values to unpack (expected 2)",
     "output_type": "error",
     "traceback": [
      "\u001b[1;31m---------------------------------------------------------------------------\u001b[0m",
      "\u001b[1;31mValueError\u001b[0m                                Traceback (most recent call last)",
      "\u001b[1;32m<ipython-input-11-e207c3321774>\u001b[0m in \u001b[0;36m<module>\u001b[1;34m\u001b[0m\n\u001b[1;32m----> 1\u001b[1;33m \u001b[1;32mfor\u001b[0m \u001b[0mname\u001b[0m\u001b[1;33m,\u001b[0m \u001b[0mcap\u001b[0m \u001b[1;32min\u001b[0m \u001b[0mcompanies_info\u001b[0m\u001b[1;33m:\u001b[0m\u001b[1;33m\u001b[0m\u001b[1;33m\u001b[0m\u001b[0m\n\u001b[0m\u001b[0;32m      2\u001b[0m     \u001b[0mprint\u001b[0m\u001b[1;33m(\u001b[0m\u001b[0mname\u001b[0m\u001b[1;33m,\u001b[0m \u001b[0mcap\u001b[0m\u001b[1;33m)\u001b[0m\u001b[1;33m\u001b[0m\u001b[1;33m\u001b[0m\u001b[0m\n",
      "\u001b[1;31mValueError\u001b[0m: too many values to unpack (expected 2)"
     ]
    }
   ],
   "source": [
    "for name, cap in companies_info:\n",
    "    print(name, cap)"
   ]
  },
  {
   "cell_type": "markdown",
   "metadata": {},
   "source": [
    "### Вопрос 2. Округление чисел\n",
    "\n",
    "Разное форматирование:\n",
    "http://cis.bentley.edu/sandbox/wp-content/uploads/Documentation-on-f-strings.pdf"
   ]
  },
  {
   "cell_type": "code",
   "execution_count": null,
   "metadata": {},
   "outputs": [],
   "source": []
  },
  {
   "cell_type": "code",
   "execution_count": 13,
   "metadata": {},
   "outputs": [
    {
     "name": "stdout",
     "output_type": "stream",
     "text": [
      "Orange 1.35 30000\n",
      "Maxisoft 1.53 40000\n",
      "Headbook 0.83 15000\n",
      "Nicola 2.23 18000\n"
     ]
    }
   ],
   "source": [
    "companies_info = [\n",
    "    ['Orange', 1.35464, 30000],\n",
    "    ['Maxisoft', 1.5346, 40000],\n",
    "    ['Headbook', 0.8346, 15000],\n",
    "    ['Nicola', 2.2346, 18000]\n",
    "]\n",
    "\n",
    "for name, cap, pers in companies_info:\n",
    "    print(name, round(cap, 2), pers)"
   ]
  },
  {
   "cell_type": "code",
   "execution_count": 14,
   "metadata": {},
   "outputs": [
    {
     "name": "stdout",
     "output_type": "stream",
     "text": [
      "Orange, 1.35, 30000\n",
      "Maxisoft, 1.53, 40000\n",
      "Headbook, 0.83, 15000\n",
      "Nicola, 2.23, 18000\n"
     ]
    }
   ],
   "source": [
    "for name, cap, pers in companies_info:\n",
    "    print(f'{name}, {cap :.2f}, {pers}')"
   ]
  },
  {
   "cell_type": "markdown",
   "metadata": {},
   "source": [
    "### Вопрос 3. Как досдавать необязательные дз, во-первых куда направлять его на проверку, и во-вторых направлять ссылку на нужный коммит или на все дз"
   ]
  },
  {
   "cell_type": "markdown",
   "metadata": {},
   "source": [
    "### Вопрос 4. Как пользоваться hackerrank\n",
    "\n",
    "https://www.hackerrank.com/challenges/compare-the-triplets/problem"
   ]
  },
  {
   "cell_type": "code",
   "execution_count": null,
   "metadata": {},
   "outputs": [],
   "source": []
  },
  {
   "cell_type": "code",
   "execution_count": null,
   "metadata": {},
   "outputs": [],
   "source": []
  },
  {
   "cell_type": "code",
   "execution_count": 19,
   "metadata": {},
   "outputs": [
    {
     "name": "stdout",
     "output_type": "stream",
     "text": [
      "Dfhdfh\n"
     ]
    }
   ],
   "source": [
    "list1 = [1,2,3]\n",
    "res = 'dfhdfh'.sort(reverse=True)\n",
    "print(list1)"
   ]
  },
  {
   "cell_type": "code",
   "execution_count": null,
   "metadata": {},
   "outputs": [],
   "source": [
    "my_list = ['ыфыв eryu ', 'фывфыв eyr', 'фыв veyrry ', 'фыв eyrey yery ery', 'ыф']"
   ]
  },
  {
   "cell_type": "markdown",
   "metadata": {},
   "source": [
    "### С прошлого раза. \"Разгладим\" список"
   ]
  },
  {
   "cell_type": "code",
   "execution_count": 20,
   "metadata": {},
   "outputs": [],
   "source": [
    "my_list = [['Екатеринбург', 'Москва'], ['Санкт-Петербург', 'Норильск'], ['Пермь', 'Астрахань']]"
   ]
  },
  {
   "cell_type": "code",
   "execution_count": 24,
   "metadata": {},
   "outputs": [
    {
     "data": {
      "text/plain": [
       "['Екатеринбург', 'Москва', 'Санкт-Петербург', 'Норильск', 'Пермь', 'Астрахань']"
      ]
     },
     "execution_count": 24,
     "metadata": {},
     "output_type": "execute_result"
    }
   ],
   "source": [
    "sum(my_list, [])"
   ]
  },
  {
   "cell_type": "code",
   "execution_count": 35,
   "metadata": {},
   "outputs": [
    {
     "data": {
      "text/plain": [
       "{1: 2, 3: 4, 5: 7}"
      ]
     },
     "execution_count": 35,
     "metadata": {},
     "output_type": "execute_result"
    }
   ],
   "source": [
    "# соединяем словари\n",
    "dict_1 = {1: 2}\n",
    "dict_2 = {3: 4, 5:7}\n",
    "\n",
    "# создаем новый\n",
    "# res = {**dict_1, **dict_2}\n",
    "# res\n",
    "\n",
    "# меняем исходный\n",
    "# dict_1.update(dict_2)"
   ]
  },
  {
   "cell_type": "markdown",
   "metadata": {},
   "source": [
    "### Сортировка словарей"
   ]
  },
  {
   "cell_type": "code",
   "execution_count": 52,
   "metadata": {},
   "outputs": [],
   "source": [
    "my_dict = {\n",
    "    'id1': 654321, \n",
    "    'id2': 123456, \n",
    "    'id3': 777777\n",
    "}"
   ]
  },
  {
   "cell_type": "code",
   "execution_count": 40,
   "metadata": {},
   "outputs": [
    {
     "data": {
      "text/plain": [
       "['id3', 'id2', 'id1']"
      ]
     },
     "execution_count": 40,
     "metadata": {},
     "output_type": "execute_result"
    }
   ],
   "source": [
    "sorted(my_dict, reverse=True)"
   ]
  },
  {
   "cell_type": "code",
   "execution_count": 42,
   "metadata": {},
   "outputs": [
    {
     "data": {
      "text/plain": [
       "[('id3', 777777), ('id2', 123456), ('id1', 654321)]"
      ]
     },
     "execution_count": 42,
     "metadata": {},
     "output_type": "execute_result"
    }
   ],
   "source": [
    "sorted(my_dict.items(), reverse=True)"
   ]
  },
  {
   "cell_type": "code",
   "execution_count": 54,
   "metadata": {},
   "outputs": [
    {
     "data": {
      "text/plain": [
       "{'id3': 777777, 'id1': 654321, 'id2': 123456}"
      ]
     },
     "execution_count": 54,
     "metadata": {},
     "output_type": "execute_result"
    }
   ],
   "source": [
    "dict(sorted(my_dict.items(), key=lambda kv: kv[1], reverse=True))"
   ]
  },
  {
   "cell_type": "markdown",
   "metadata": {},
   "source": [
    "### Практика. Согласно сайту www.bodycounters.com в четырех частях фильма “Пираты Карибского моря” было довольно много погибших. Пиратов-зомби в последней части тоже считайте живыми."
   ]
  },
  {
   "cell_type": "code",
   "execution_count": 56,
   "metadata": {},
   "outputs": [],
   "source": [
    "bodycount = {\n",
    "    'Проклятие Черной жемчужины': {\n",
    "        'человек': 17\n",
    "    }, \n",
    "\n",
    "    'Сундук мертвеца': {\n",
    "        'человек': 56,\n",
    "        'раков-отшельников': 1\n",
    "    },\n",
    "\n",
    "    'На краю света': {\n",
    "        'человек': 88\n",
    "    },\n",
    "\n",
    "    'На странных берегах': {\n",
    "        'человек': 56,\n",
    "        'русалок': 2,\n",
    "        'ядовитых жаб': 3,\n",
    "        'пиратов зомби': 2\n",
    "    }\n",
    "}"
   ]
  },
  {
   "cell_type": "code",
   "execution_count": 58,
   "metadata": {},
   "outputs": [
    {
     "name": "stdout",
     "output_type": "stream",
     "text": [
      "{'человек': 17}\n",
      "{'человек': 56, 'раков-отшельников': 1}\n",
      "{'человек': 88}\n",
      "{'человек': 56, 'русалок': 2, 'ядовитых жаб': 3, 'пиратов зомби': 2}\n",
      "225\n"
     ]
    }
   ],
   "source": [
    "n = 0\n",
    "for num in bodycount.values():\n",
    "#     print(num)\n",
    "    for count in num.values():\n",
    "        n += count\n",
    "print(n)"
   ]
  },
  {
   "cell_type": "code",
   "execution_count": 59,
   "metadata": {},
   "outputs": [
    {
     "name": "stdout",
     "output_type": "stream",
     "text": [
      "225\n"
     ]
    }
   ],
   "source": [
    "new_list = []\n",
    "for val in bodycount.values():\n",
    "    for v in val.values():\n",
    "        new_list.append(v)\n",
    "print(sum(new_list))"
   ]
  },
  {
   "cell_type": "code",
   "execution_count": null,
   "metadata": {},
   "outputs": [],
   "source": [
    "s = []\n",
    "for i, j in bodycount.items():\n",
    "    for k, l in j.items():\n",
    "        s.append(l)\n",
    "print(sum(s))"
   ]
  },
  {
   "cell_type": "code",
   "execution_count": null,
   "metadata": {},
   "outputs": [],
   "source": [
    "sum_count = 0\n",
    "for film, who in bodycount.items():\n",
    "    for whom, kol in who.items():\n",
    "        sum_kol = sum_kol + kol\n",
    "print(sum_kol)"
   ]
  },
  {
   "cell_type": "code",
   "execution_count": 60,
   "metadata": {},
   "outputs": [
    {
     "name": "stdout",
     "output_type": "stream",
     "text": [
      "{'человек': 17}\n",
      "{'человек': 56, 'раков-отшельников': 1}\n",
      "{'человек': 88}\n",
      "{'человек': 56, 'русалок': 2, 'ядовитых жаб': 3, 'пиратов зомби': 2}\n",
      "225\n"
     ]
    }
   ],
   "source": [
    "all_dead = 0\n",
    "for dead in bodycount.values():\n",
    "    print(dead)\n",
    "    all_dead += sum(dead.values())\n",
    "\n",
    "print(all_dead)"
   ]
  },
  {
   "cell_type": "markdown",
   "metadata": {},
   "source": [
    "### Практика. Посчитайте сколько раз каждое слово встречалось в тексте \n",
    "Вывести в формате: \"слово\": \"количество вхождений\"\n",
    "\n",
    "За разделитель считаем пробел, все слова приводим к нижнему регистру"
   ]
  },
  {
   "cell_type": "code",
   "execution_count": 74,
   "metadata": {},
   "outputs": [
    {
     "data": {
      "text/plain": [
       "'\\nВесь мой рэп, если коротко, про то, что\\nУж который год который город под подошвой\\nВ гору, когда прет. Потом под гору, когда тошно\\nЯ не то, что Гулливер, но все же город под подошвой\\nГород под подошвой, город под подошвой\\nСветофоры, госпошлины, сборы и таможни\\nЯ не знаю, вброд или на дно эта дорожка\\nТы живешь под каблуком, у меня - город под подошвой\\n'"
      ]
     },
     "execution_count": 74,
     "metadata": {},
     "output_type": "execute_result"
    }
   ],
   "source": [
    "some_oxy_text = '''\n",
    "Весь мой рэп, если коротко, про то, что\n",
    "Уж который год который город под подошвой\n",
    "В гору, когда прет. Потом под гору, когда тошно\n",
    "Я не то, что Гулливер, но все же город под подошвой\n",
    "Город под подошвой, город под подошвой\n",
    "Светофоры, госпошлины, сборы и таможни\n",
    "Я не знаю, вброд или на дно эта дорожка\n",
    "Ты живешь под каблуком, у меня - город под подошвой\n",
    "'''\n",
    "some_oxy_text"
   ]
  },
  {
   "cell_type": "code",
   "execution_count": null,
   "metadata": {},
   "outputs": [],
   "source": [
    "oxy_split = some_oxy_text.split()\n",
    "for word in oxy_split:\n",
    "    oxy_split[oxy_split.index(word)] = word.strip(',').strip('.').capitalize()\n",
    "    if word == '-':\n",
    "        oxy_split.remove(word)\n",
    "\n",
    "oxy_dict = {}\n",
    "for word in set(oxy_split):\n",
    "    oxy_dict[word] = oxy_split.count(word)\n",
    "    \n",
    "for key, value in sorted(oxy_dict.items(), key=lambda kv: kv[1], reverse=True):\n",
    "    print(f'{key}: {value}')"
   ]
  },
  {
   "cell_type": "code",
   "execution_count": 71,
   "metadata": {},
   "outputs": [
    {
     "name": "stdout",
     "output_type": "stream",
     "text": [
      "['Весь', 'мой', 'рэп,', 'если', 'коротко,', 'про', 'то,', 'что', 'Уж', 'который', 'год', 'который', 'город', 'под', 'подошвой', 'В', 'гору,', 'когда', 'прет.', 'Потом', 'под', 'гору,', 'когда', 'тошно', 'Я', 'не', 'то,', 'что', 'Гулливер,', 'но', 'все', 'же', 'город', 'под', 'подошвой', 'Город', 'под', 'подошвой,', 'город', 'под', 'подошвой', 'Светофоры,', 'госпошлины,', 'сборы', 'и', 'таможни', 'Я', 'не', 'знаю,', 'вброд', 'или', 'на', 'дно', 'эта', 'дорожка', 'Ты', 'живешь', 'под', 'каблуком,', 'у', 'меня', '-', 'город', 'под', 'подошвой']\n"
     ]
    }
   ],
   "source": [
    "# list_text = list(some_oxy_text)\n",
    "words = list(some_oxy_text.split( ))\n",
    "print(words)\n",
    "\n",
    "for num in words:\n",
    "    a = list_text.count(num) \n",
    "#     repeating.setdefault(words[num], a)\n",
    "print(repeating)"
   ]
  },
  {
   "cell_type": "code",
   "execution_count": 73,
   "metadata": {},
   "outputs": [
    {
     "name": "stdout",
     "output_type": "stream",
     "text": [
      " 2\n",
      "Весь 1\n",
      "мой 1\n",
      "рэп 1\n",
      "если 1\n",
      "коротко 1\n",
      "про 1\n",
      "то 2\n",
      "что 2\n",
      "Уж 1\n",
      "который 2\n",
      "год 1\n",
      "который 2\n",
      "город 4\n",
      "под 7\n",
      "подошвой 5\n",
      "В 1\n",
      "гору 2\n",
      "когда 2\n",
      "прет 1\n",
      "Потом 1\n",
      "под 7\n",
      "гору 2\n",
      "когда 2\n",
      "тошно 1\n",
      "Я 2\n",
      "не 2\n",
      "то 2\n",
      "что 2\n",
      "Гулливер 1\n",
      "но 1\n",
      "все 1\n",
      "же 1\n",
      "город 4\n",
      "под 7\n",
      "подошвой 5\n",
      "Город 1\n",
      "под 7\n",
      "подошвой 5\n",
      "город 4\n",
      "под 7\n",
      "подошвой 5\n",
      "Светофоры 1\n",
      "госпошлины 1\n",
      "сборы 1\n",
      "и 1\n",
      "таможни 1\n",
      "Я 2\n",
      "не 2\n",
      "знаю 1\n",
      "вброд 1\n",
      "или 1\n",
      "на 1\n",
      "дно 1\n",
      "эта 1\n",
      "дорожка 1\n",
      "Ты 1\n",
      "живешь 1\n",
      "под 7\n",
      "каблуком 1\n",
      "у 1\n",
      "меня 1\n",
      "- 1\n",
      "город 4\n",
      "под 7\n",
      "подошвой 5\n",
      " 2\n"
     ]
    }
   ],
   "source": [
    "some_oxy_text_1 = some_oxy_text.replace(',', '')\n",
    "some_oxy_text_2 = some_oxy_text_1.replace('.', '')\n",
    "some_oxy_text_3 = some_oxy_text_2.replace('\\n', ' ')\n",
    "text_list = list(some_oxy_text_3.split(' '))\n",
    "for element in text_list:\n",
    "    print(element,text_list.count(element))"
   ]
  },
  {
   "cell_type": "code",
   "execution_count": null,
   "metadata": {},
   "outputs": [],
   "source": [
    "count = 0\n",
    "for word in some_oxy_text.split(' '):\n",
    "    if word[len(word)] == \",\" or word[len(word)] == '.':\n",
    "        print(-f\"{word} - count\")"
   ]
  },
  {
   "cell_type": "code",
   "execution_count": 81,
   "metadata": {},
   "outputs": [
    {
     "name": "stdout",
     "output_type": "stream",
     "text": [
      "эта: 1\n",
      "дорожка: 1\n",
      "живешь: 1\n",
      "подошвой: 5\n",
      "уж: 1\n",
      "год: 1\n",
      "город: 5\n",
      "же: 1\n",
      "каблуком: 1\n",
      "в: 1\n",
      "потом: 1\n",
      "светофоры: 1\n",
      "у: 1\n",
      "-: 1\n",
      "который: 2\n",
      "под: 7\n",
      "на: 1\n",
      "гору: 2\n",
      "мой: 1\n",
      "про: 1\n",
      "если: 1\n",
      "вброд: 1\n",
      "когда: 2\n",
      "прет: 1\n",
      "ты: 1\n",
      "дно: 1\n",
      "меня: 1\n",
      "но: 1\n",
      "не: 2\n",
      "госпошлины: 1\n",
      "знаю: 1\n",
      "таможни: 1\n",
      "весь: 1\n",
      "гулливер: 1\n",
      "сборы: 1\n",
      "все: 1\n",
      "или: 1\n",
      "и: 1\n",
      "я: 2\n",
      "то: 2\n",
      "коротко: 1\n",
      "тошно: 1\n",
      "что: 2\n",
      "рэп: 1\n"
     ]
    }
   ],
   "source": [
    "res = some_oxy_text.replace(',', ' ').replace('.', ' ').replace('\\n', ' ')\n",
    "res = res.lower()\n",
    "splitted_text = res.split()\n",
    "for word in set(splitted_text):\n",
    "    print(f'{word}: {splitted_text.count(word)}')"
   ]
  },
  {
   "cell_type": "code",
   "execution_count": 83,
   "metadata": {},
   "outputs": [
    {
     "name": "stdout",
     "output_type": "stream",
     "text": [
      "под: 7\n",
      "подошвой: 5\n",
      "город: 5\n",
      "который: 2\n",
      "гору: 2\n",
      "когда: 2\n",
      "не: 2\n",
      "я: 2\n",
      "то: 2\n",
      "что: 2\n",
      "эта: 1\n",
      "дорожка: 1\n",
      "живешь: 1\n",
      "уж: 1\n",
      "год: 1\n",
      "же: 1\n",
      "каблуком: 1\n",
      "в: 1\n",
      "потом: 1\n",
      "светофоры: 1\n",
      "у: 1\n",
      "-: 1\n",
      "на: 1\n",
      "мой: 1\n",
      "про: 1\n",
      "если: 1\n",
      "вброд: 1\n",
      "прет: 1\n",
      "ты: 1\n",
      "дно: 1\n",
      "меня: 1\n",
      "но: 1\n",
      "госпошлины: 1\n",
      "знаю: 1\n",
      "таможни: 1\n",
      "весь: 1\n",
      "гулливер: 1\n",
      "сборы: 1\n",
      "все: 1\n",
      "или: 1\n",
      "и: 1\n",
      "коротко: 1\n",
      "тошно: 1\n",
      "рэп: 1\n"
     ]
    }
   ],
   "source": [
    "oxy_dict = {}\n",
    "for word in set(splitted_text):\n",
    "    oxy_dict[word] = splitted_text.count(word)\n",
    "    \n",
    "for key, value in sorted(oxy_dict.items(), key=lambda kv: kv[1], reverse=True):\n",
    "    print(f'{key}: {value}')"
   ]
  },
  {
   "cell_type": "code",
   "execution_count": 86,
   "metadata": {},
   "outputs": [],
   "source": [
    "geo_logs = [\n",
    "    {'visit1': ['Москва', 'Россия']},\n",
    "    {'visit2': ['Дели', 'Индия']},\n",
    "    {'visit3': ['Владимир', 'Россия']},\n",
    "    {'visit4': ['Лиссабон', 'Португалия']},\n",
    "    {'visit5': ['Париж', 'Франция']},\n",
    "    {'visit5': ['Париж', 'Франция']},\n",
    "    {'visit7': ['Тула', 'Россия']},\n",
    "    {'visit9': ['Курск', 'Россия']},\n",
    "    {'visit10': ['Архангельск', 'Россия']}\n",
    "]"
   ]
  },
  {
   "cell_type": "code",
   "execution_count": 87,
   "metadata": {},
   "outputs": [
    {
     "name": "stdout",
     "output_type": "stream",
     "text": [
      "[{'visit1': ['Москва', 'Россия']}, {'visit3': ['Владимир', 'Россия']}, {'visit5': ['Париж', 'Франция']}, {'visit7': ['Тула', 'Россия']}, {'visit9': ['Курск', 'Россия']}, {'visit10': ['Архангельск', 'Россия']}]\n"
     ]
    }
   ],
   "source": [
    "for n in geo_logs:\n",
    "    for i in n.values():\n",
    "        if i[1] != 'Россия':\n",
    "            geo_logs.remove(n)\n",
    "print(geo_logs)"
   ]
  },
  {
   "cell_type": "code",
   "execution_count": 88,
   "metadata": {},
   "outputs": [
    {
     "data": {
      "text/plain": [
       "[{'visit1': ['Москва', 'Россия']},\n",
       " {'visit3': ['Владимир', 'Россия']},\n",
       " {'visit7': ['Тула', 'Россия']},\n",
       " {'visit9': ['Курск', 'Россия']},\n",
       " {'visit10': ['Архангельск', 'Россия']}]"
      ]
     },
     "execution_count": 88,
     "metadata": {},
     "output_type": "execute_result"
    }
   ],
   "source": [
    "\n",
    "geo_logs_2 = geo_logs.copy()\n",
    "\n",
    "for visit in geo_logs_2:\n",
    "    if 'Россия' not in list(visit.values())[0]:\n",
    "        geo_logs.remove(visit)\n",
    "        \n",
    "geo_logs"
   ]
  },
  {
   "cell_type": "code",
   "execution_count": null,
   "metadata": {},
   "outputs": [],
   "source": []
  }
 ],
 "metadata": {
  "kernelspec": {
   "display_name": "Python 3",
   "language": "python",
   "name": "python3"
  },
  "language_info": {
   "codemirror_mode": {
    "name": "ipython",
    "version": 3
   },
   "file_extension": ".py",
   "mimetype": "text/x-python",
   "name": "python",
   "nbconvert_exporter": "python",
   "pygments_lexer": "ipython3",
   "version": "3.8.5"
  }
 },
 "nbformat": 4,
 "nbformat_minor": 4
}
