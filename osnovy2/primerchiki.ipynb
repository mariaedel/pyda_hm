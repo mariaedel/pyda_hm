{
 "cells": [
  {
   "cell_type": "markdown",
   "metadata": {},
   "source": [
    "### Пример с распаковкой данных"
   ]
  },
  {
   "cell_type": "code",
   "execution_count": 10,
   "metadata": {},
   "outputs": [],
   "source": [
    "cook_book = [\n",
    "  ['салат',\n",
    "      [\n",
    "        ['картофель', 100, 'гр.'],\n",
    "        ['морковь', 50, 'гр.'],\n",
    "        ['огурцы', 50, 'гр.'],\n",
    "        ['горошек', 30, 'гр.'],\n",
    "        ['майонез', 70, 'мл.'],\n",
    "      ]\n",
    "  ],\n",
    "  ['пицца',  \n",
    "      [\n",
    "        ['сыр', 50, 'гр.'],\n",
    "        ['томаты', 50, 'гр.'],\n",
    "        ['тесто', 100, 'гр.'],\n",
    "        ['бекон', 30, 'гр.'],\n",
    "        ['колбаса', 30, 'гр.'],\n",
    "        ['грибы', 20, 'гр.'],\n",
    "      ],\n",
    "  ],\n",
    "  ['фруктовый десерт',\n",
    "      [\n",
    "        ['хурма', 60, 'гр.'],\n",
    "        ['киви', 60, 'гр.'],\n",
    "        ['творог', 60, 'гр.'],\n",
    "        ['сахар', 10, 'гр.'],\n",
    "        ['мед', 50, 'мл.'],  \n",
    "      ]\n",
    "  ]\n",
    "]\n",
    "\n",
    "person = 5"
   ]
  },
  {
   "cell_type": "code",
   "execution_count": 18,
   "metadata": {},
   "outputs": [
    {
     "name": "stdout",
     "output_type": "stream",
     "text": [
      "Салат\n",
      "картофель, 500гр.\n",
      "морковь, 250гр.\n",
      "огурцы, 250гр.\n",
      "горошек, 150гр.\n",
      "майонез, 350мл.\n",
      "\n",
      "Пицца\n",
      "сыр, 250гр.\n",
      "томаты, 250гр.\n",
      "тесто, 500гр.\n",
      "бекон, 150гр.\n",
      "колбаса, 150гр.\n",
      "грибы, 100гр.\n",
      "\n",
      "Фруктовый десерт\n",
      "хурма, 300гр.\n",
      "киви, 300гр.\n",
      "творог, 300гр.\n",
      "сахар, 50гр.\n",
      "мед, 250мл.\n",
      "\n"
     ]
    }
   ],
   "source": [
    "for item in cook_book:\n",
    "    print(item[0].capitalize())\n",
    "    for line in item[1]:\n",
    "        food, weight, gr = line\n",
    "        print(f'{food}, {int(weight)*person}{gr}')\n",
    "    print()"
   ]
  },
  {
   "cell_type": "code",
   "execution_count": null,
   "metadata": {},
   "outputs": [],
   "source": []
  }
 ],
 "metadata": {
  "kernelspec": {
   "display_name": "Python 3",
   "language": "python",
   "name": "python3"
  },
  "language_info": {
   "codemirror_mode": {
    "name": "ipython",
    "version": 3
   },
   "file_extension": ".py",
   "mimetype": "text/x-python",
   "name": "python",
   "nbconvert_exporter": "python",
   "pygments_lexer": "ipython3",
   "version": "3.8.5"
  }
 },
 "nbformat": 4,
 "nbformat_minor": 4
}
