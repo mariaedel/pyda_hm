{
 "cells": [
  {
   "cell_type": "markdown",
   "metadata": {},
   "source": [
    "### Задание 1"
   ]
  },
  {
   "cell_type": "code",
   "execution_count": 2,
   "metadata": {},
   "outputs": [],
   "source": [
    "ids = {'user1': [213, 213, 213, 15, 213], \n",
    "       'user2': [54, 54, 119, 119, 119], \n",
    "       'user3': [213, 98, 98, 35]}"
   ]
  },
  {
   "cell_type": "code",
   "execution_count": 3,
   "metadata": {
    "scrolled": false
   },
   "outputs": [
    {
     "name": "stdout",
     "output_type": "stream",
     "text": [
      "{98, 35, 15, 213, 54, 119}\n"
     ]
    }
   ],
   "source": [
    "all_values = []\n",
    "for user_values in ids.values():\n",
    "    for value in user_values:\n",
    "        all_values.append(value)      \n",
    "print(set(all_values))"
   ]
  },
  {
   "cell_type": "markdown",
   "metadata": {},
   "source": [
    "#### Рекомендация к решению"
   ]
  },
  {
   "cell_type": "code",
   "execution_count": 5,
   "metadata": {},
   "outputs": [
    {
     "name": "stdout",
     "output_type": "stream",
     "text": [
      "{98, 35, 15, 213, 54, 119}\n"
     ]
    }
   ],
   "source": [
    "ids_set = set()\n",
    "for id_ in ids.values():\n",
    "    ids_set = ids_set.union(id_) # объединяет два сета в один сет, т.е. заменяет логический оператор \"или\" \n",
    "print(ids_set)"
   ]
  },
  {
   "cell_type": "markdown",
   "metadata": {},
   "source": [
    "### Задание 2"
   ]
  },
  {
   "cell_type": "code",
   "execution_count": 76,
   "metadata": {},
   "outputs": [],
   "source": [
    "queries = [\n",
    "    'смотреть сериалы онлайн',\n",
    "    'новости спорта',\n",
    "    'афиша кино',\n",
    "    'курс доллара',\n",
    "    'сериалы этим летом',\n",
    "    'курс по питону',\n",
    "    'сериалы про спорт',\n",
    "    'сериалы про спортивные игры',\n",
    "    'serial'\n",
    "]"
   ]
  },
  {
   "cell_type": "code",
   "execution_count": 78,
   "metadata": {},
   "outputs": [
    {
     "name": "stdout",
     "output_type": "stream",
     "text": [
      "Поисковых запросов, содержащих 3 слов(а): 44.44 %\n",
      "Поисковых запросов, содержащих 2 слов(а): 33.33 %\n",
      "Поисковых запросов, содержащих 4 слов(а): 11.11 %\n",
      "Поисковых запросов, содержащих 1 слов(а): 11.11 %\n"
     ]
    }
   ],
   "source": [
    "num_words = {}\n",
    "for query in queries:\n",
    "    sep_words = query.split(' ')\n",
    "    if len(sep_words) in num_words:\n",
    "        num_words[len(sep_words)] += 1\n",
    "    else:\n",
    "        num_words[len(sep_words)] = 1\n",
    "summa = sum([element for element in num_words.values()])\n",
    "for i in num_words.items():\n",
    "    print(f'Поисковых запросов, содержащих {i[0]} слов(а): {round(i[1] / summa * 100, 2)} %')"
   ]
  },
  {
   "cell_type": "markdown",
   "metadata": {},
   "source": [
    "### Задание 3"
   ]
  },
  {
   "cell_type": "code",
   "execution_count": 79,
   "metadata": {},
   "outputs": [],
   "source": [
    "results = {\n",
    "    'vk': {'revenue': 103, 'cost': 98},\n",
    "    'yandex': {'revenue': 179, 'cost': 153},\n",
    "    'facebook': {'revenue': 103, 'cost': 110},\n",
    "    'adwords': {'revenue': 35, 'cost': 34},\n",
    "    'twitter': {'revenue': 11, 'cost': 24},\n",
    "}"
   ]
  },
  {
   "cell_type": "code",
   "execution_count": 95,
   "metadata": {},
   "outputs": [
    {
     "name": "stdout",
     "output_type": "stream",
     "text": [
      "{'vk': {'revenue': 103, 'cost': 98, 'ROI': 5.1}, 'yandex': {'revenue': 179, 'cost': 153, 'ROI': 16.99}, 'facebook': {'revenue': 103, 'cost': 110, 'ROI': -6.36}, 'adwords': {'revenue': 35, 'cost': 34, 'ROI': 2.94}, 'twitter': {'revenue': 11, 'cost': 24, 'ROI': -54.17}}\n"
     ]
    }
   ],
   "source": [
    "for company in results:\n",
    "    ROI = round((results[company]['revenue']/results[company]['cost'] - 1) * 100, 2)\n",
    "    results[company]['ROI'] = ROI\n",
    "print(results) "
   ]
  },
  {
   "cell_type": "markdown",
   "metadata": {},
   "source": [
    "### Задание 4"
   ]
  },
  {
   "cell_type": "code",
   "execution_count": 97,
   "metadata": {},
   "outputs": [],
   "source": [
    "stats = {\n",
    "    'facebook': 55,\n",
    "    'yandex': 115,\n",
    "    'vk': 120,\n",
    "    'google': 99,\n",
    "    'email': 42,\n",
    "    'ok': 98\n",
    "}"
   ]
  },
  {
   "cell_type": "code",
   "execution_count": 101,
   "metadata": {},
   "outputs": [
    {
     "name": "stdout",
     "output_type": "stream",
     "text": [
      "Максимальный объем продаж на рекламном канале: vk\n"
     ]
    }
   ],
   "source": [
    "for company in stats:\n",
    "    if max(stats.values()) == stats[company]:\n",
    "        print('Максимальный объем продаж на рекламном канале:', company)"
   ]
  },
  {
   "cell_type": "markdown",
   "metadata": {},
   "source": [
    "### Задание 5"
   ]
  },
  {
   "cell_type": "code",
   "execution_count": 129,
   "metadata": {},
   "outputs": [
    {
     "name": "stdout",
     "output_type": "stream",
     "text": [
      "{'2018-01-01': {'yandex': {'cpc': 100}}}\n"
     ]
    }
   ],
   "source": [
    "my_list = ['2018-01-01', 'yandex', 'cpc', 100]\n",
    "value = my_list[-1]\n",
    "for i in range(len(my_list), 1, -1):\n",
    "    key = my_list[i-2]\n",
    "    d = {key: value}\n",
    "    value = d\n",
    "print(d)"
   ]
  },
  {
   "cell_type": "code",
   "execution_count": 127,
   "metadata": {},
   "outputs": [
    {
     "name": "stdout",
     "output_type": "stream",
     "text": [
      "{'a': {'b': {'c': {'d': {'e': 'f'}}}}}\n"
     ]
    }
   ],
   "source": [
    "my_list = ['a', 'b', 'c', 'd', 'e', 'f']\n",
    "value = my_list[-1]\n",
    "for i in range(len(my_list), 1, -1):\n",
    "    key = my_list[i-2]\n",
    "    d = {key: value}\n",
    "    value = d\n",
    "print(d)"
   ]
  },
  {
   "cell_type": "markdown",
   "metadata": {},
   "source": [
    "### Задание 6"
   ]
  },
  {
   "cell_type": "code",
   "execution_count": 14,
   "metadata": {},
   "outputs": [],
   "source": [
    "cook_book = {\n",
    "  'салат': [\n",
    "     {'ingridient_name': 'сыр', 'quantity': 50, 'measure': 'гр'},\n",
    "     {'ingridient_name': 'томаты', 'quantity': 2, 'measure': 'шт'},\n",
    "     {'ingridient_name': 'огурцы', 'quantity': 20, 'measure': 'гр'},\n",
    "     {'ingridient_name': 'маслины', 'quantity': 10, 'measure': 'гр'},\n",
    "     {'ingridient_name': 'оливковое масло', 'quantity': 20, 'measure': 'мл'},\n",
    "     {'ingridient_name': 'салат', 'quantity': 10, 'measure': 'гр'},\n",
    "     {'ingridient_name': 'перец', 'quantity': 20, 'measure': 'гр'}\n",
    "    ],\n",
    "  'пицца': [\n",
    "     {'ingridient_name': 'сыр', 'quantity': 20, 'measure': 'гр'},\n",
    "     {'ingridient_name': 'колбаса', 'quantity': 30, 'measure': 'гр'},\n",
    "     {'ingridient_name': 'бекон', 'quantity': 30, 'measure': 'гр'},\n",
    "     {'ingridient_name': 'оливки', 'quantity': 10, 'measure': 'гр'},\n",
    "     {'ingridient_name': 'томаты', 'quantity': 2, 'measure': 'гр'},\n",
    "     {'ingridient_name': 'тесто', 'quantity': 100, 'measure': 'гр'},   \n",
    "    ],\n",
    "  'лимонад': [\n",
    "     {'ingridient_name': 'лимон', 'quantity': 1, 'measure': 'шт'},\n",
    "     {'ingridient_name': 'вода', 'quantity': 200, 'measure': 'мл'},\n",
    "     {'ingridient_name': 'сахар', 'quantity': 10, 'measure': 'гр'},\n",
    "     {'ingridient_name': 'лайм', 'quantity': 20, 'measure': 'гр'},    \n",
    "    ]\n",
    "}"
   ]
  },
  {
   "cell_type": "code",
   "execution_count": 11,
   "metadata": {},
   "outputs": [
    {
     "name": "stdout",
     "output_type": "stream",
     "text": [
      "Введите количество порций: 3\n",
      "Сыр: 270 гр\n",
      "Томаты: 12 шт\n",
      "Огурцы: 60 гр\n",
      "Маслины: 30 гр\n",
      "Оливковое масло: 60 мл\n",
      "Салат: 30 гр\n",
      "Перец: 60 гр\n",
      "Колбаса: 90 гр\n",
      "Бекон: 90 гр\n",
      "Оливки: 30 гр\n",
      "Тесто: 300 гр\n",
      "Лимон: 3 шт\n",
      "Вода: 600 мл\n",
      "Сахар: 30 гр\n",
      "Лайм: 60 гр\n"
     ]
    }
   ],
   "source": [
    "person = int(input('Введите количество порций: '))\n",
    "spisok_productov = dict()\n",
    "units = []\n",
    "for meal in cook_book:\n",
    "    for one_ingridient in cook_book[meal]:\n",
    "        product, weight, unit = list(one_ingridient.values())\n",
    "        if product not in spisok_productov.keys():\n",
    "            spisok_productov[product] = weight\n",
    "            units.append(unit)\n",
    "        else:\n",
    "            spisok_productov[product] += weight   \n",
    "d = dict(zip(spisok_productov.items(), units))\n",
    "for element in d:\n",
    "    print(f'{element[0].capitalize()}:', end = ' ')\n",
    "    print(f'{element[1]*person} {d[element]}')"
   ]
  },
  {
   "cell_type": "markdown",
   "metadata": {},
   "source": [
    "#### Рекомендация к решению \n",
    "размерности могут быть разные, это тоже нужно учитывать"
   ]
  },
  {
   "cell_type": "code",
   "execution_count": 15,
   "metadata": {},
   "outputs": [
    {
     "name": "stdout",
     "output_type": "stream",
     "text": [
      "сыр 350гр\n",
      "томаты 10шт\n",
      "огурцы 100гр\n",
      "маслины 50гр\n",
      "оливковое масло 100мл\n",
      "салат 50гр\n",
      "перец 100гр\n",
      "колбаса 150гр\n",
      "бекон 150гр\n",
      "оливки 50гр\n",
      "томаты 10гр\n",
      "тесто 500гр\n",
      "лимон 5шт\n",
      "вода 1000мл\n",
      "сахар 50гр\n",
      "лайм 100гр\n"
     ]
    }
   ],
   "source": [
    "person = 5\n",
    "shop_dict = {}\n",
    "for dish in cook_book.values():\n",
    "    for ingr in dish:\n",
    "        if (ingr['ingridient_name'], ingr['measure']) not in shop_dict:\n",
    "            shop_dict[(ingr['ingridient_name'], ingr['measure'])] = {'quantity': ingr['quantity'] * person}\n",
    "        else:\n",
    "            shop_dict[(ingr['ingridient_name'], ingr['measure'])]['quantity'] += ingr['quantity'] * person\n",
    "\n",
    "for name, q in shop_dict.items():\n",
    "    print(f'{name[0]} {q[\"quantity\"]}{name[1]}')"
   ]
  }
 ],
 "metadata": {
  "kernelspec": {
   "display_name": "Python 3",
   "language": "python",
   "name": "python3"
  }
 },
 "nbformat": 4,
 "nbformat_minor": 4
}
