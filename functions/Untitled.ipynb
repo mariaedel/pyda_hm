{
 "cells": [
  {
   "cell_type": "code",
   "execution_count": 1,
   "metadata": {},
   "outputs": [],
   "source": [
    "documents = [\n",
    " {'type': 'passport', 'number': '2207 876234', 'name': 'Василий Гупкин'},\n",
    " {'type': 'invoice', 'number': '11-2', 'name': 'Геннадий Покемонов'},\n",
    " {'type': 'insurance', 'number': '10006', 'name': 'Аристарх Павлов'}\n",
    "]"
   ]
  },
  {
   "cell_type": "code",
   "execution_count": 2,
   "metadata": {},
   "outputs": [],
   "source": [
    "directories = {\n",
    " '1': ['2207 876234', '11-2'],\n",
    " '2': ['10006'],\n",
    " '3': []\n",
    "}"
   ]
  },
  {
   "cell_type": "code",
   "execution_count": 3,
   "metadata": {},
   "outputs": [],
   "source": [
    "def directory_number(doc_number):\n",
    "    for d in directories:\n",
    "        if doc_number in directories[d]:\n",
    "            directory = d \n",
    "    return directory\n",
    "\n",
    "    return 'Документ не найден в базе'"
   ]
  },
  {
   "cell_type": "code",
   "execution_count": 4,
   "metadata": {},
   "outputs": [],
   "source": [
    "def doc_search(doc_number):\n",
    "    for line in documents:\n",
    "        if line['number'] == doc_number:\n",
    "            return True\n",
    "    return False #'Документ не найден в базе'"
   ]
  },
  {
   "cell_type": "code",
   "execution_count": 17,
   "metadata": {},
   "outputs": [],
   "source": [
    "def all_information():\n",
    "    info = ''\n",
    "    for line in documents:\n",
    "        doc_num = str(line['number'])\n",
    "        doc_type = str(line['type'])\n",
    "        owner = str(line['name'])\n",
    "        directoria = str(directory_number(doc_num))\n",
    "        one_doc_info = '№: ' + doc_num + ', тип: ' + doc_type + ', владелец: ' + owner + ', полка хранения: ' + directoria\n",
    "        print(one_doc_info, end = '\\n')\n",
    "    return  "
   ]
  },
  {
   "cell_type": "code",
   "execution_count": 16,
   "metadata": {},
   "outputs": [
    {
     "name": "stdout",
     "output_type": "stream",
     "text": [
      "№: 2207 876234, тип: passport, владелец: Василий Гупкин, полка хранения: 1/n\n",
      "№: 11-2, тип: invoice, владелец: Геннадий Покемонов, полка хранения: 1/n\n",
      "№: 10006, тип: insurance, владелец: Аристарх Павлов, полка хранения: 2/n\n"
     ]
    },
    {
     "data": {
      "text/plain": [
       "'boom'"
      ]
     },
     "execution_count": 16,
     "metadata": {},
     "output_type": "execute_result"
    }
   ],
   "source": [
    "all_information()"
   ]
  },
  {
   "cell_type": "code",
   "execution_count": 40,
   "metadata": {},
   "outputs": [],
   "source": [
    "def add_document():\n",
    "    doc_number = input('Введите номер документа: ')\n",
    "    if doc_search(doc_number) == True:\n",
    "        print('Документ с таким номером уже существует')\n",
    "        return all_information()\n",
    "    else:\n",
    "        new_doc_info = {}\n",
    "        \n",
    "        doc_type = input('Введите тип документа: ')\n",
    "        new_doc_info['type'] = doc_type\n",
    "        \n",
    "        new_doc_info['number'] = doc_number\n",
    "        \n",
    "        doc_owner = input('Введите владельца документа: ')\n",
    "        new_doc_info['name'] = doc_owner\n",
    "        \n",
    "        documents.append(new_doc_info)\n",
    "        \n",
    "        doc_directory = input('Введите полку для хранения: ')\n",
    "        if doc_directory in directories.keys():\n",
    "            directories[doc_directory].append(doc_number)\n",
    "            print('Документ добавлен. Текущий список документов: ')\n",
    "            return all_information()\n",
    "        else:\n",
    "            print('Такой полки не существует. Добавьте полку командой as. ', 'Текущий список документов:')\n",
    "            return all_information()\n",
    "    "
   ]
  },
  {
   "cell_type": "code",
   "execution_count": null,
   "metadata": {},
   "outputs": [],
   "source": [
    "command = input()\n",
    "if command == 'ad':\n",
    "    add_document()"
   ]
  },
  {
   "cell_type": "code",
   "execution_count": null,
   "metadata": {},
   "outputs": [],
   "source": []
  }
 ],
 "metadata": {
  "kernelspec": {
   "display_name": "Python 3",
   "language": "python",
   "name": "python3"
  },
  "language_info": {
   "codemirror_mode": {
    "name": "ipython",
    "version": 3
   },
   "file_extension": ".py",
   "mimetype": "text/x-python",
   "name": "python",
   "nbconvert_exporter": "python",
   "pygments_lexer": "ipython3",
   "version": "3.8.5"
  }
 },
 "nbformat": 4,
 "nbformat_minor": 4
}
