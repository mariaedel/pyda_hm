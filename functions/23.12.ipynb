{
 "cells": [
  {
   "cell_type": "code",
   "execution_count": null,
   "metadata": {},
   "outputs": [],
   "source": [
    "help(sum)"
   ]
  },
  {
   "cell_type": "code",
   "execution_count": 2,
   "metadata": {},
   "outputs": [],
   "source": [
    "?sum"
   ]
  },
  {
   "cell_type": "markdown",
   "metadata": {},
   "source": [
    "### Вопрос 4. Как пользоваться hackerrank\n",
    "\n",
    "https://www.hackerrank.com/challenges/compare-the-triplets/problem"
   ]
  },
  {
   "cell_type": "code",
   "execution_count": 5,
   "metadata": {},
   "outputs": [],
   "source": [
    "def compareTriplets(a, b):\n",
    "    a_sum_grades = 0\n",
    "    b_sum_grades = 0\n",
    "    for a_grade, b_grade in zip(a, b):\n",
    "        if a_grade > b_grade:\n",
    "            a_sum_grades += 1\n",
    "        elif b_grade > a_grade:\n",
    "            b_sum_grades += 1\n",
    "    return [a_sum_grades, b_sum_grades] "
   ]
  },
  {
   "cell_type": "code",
   "execution_count": 6,
   "metadata": {},
   "outputs": [
    {
     "data": {
      "text/plain": [
       "[1, 2]"
      ]
     },
     "execution_count": 6,
     "metadata": {},
     "output_type": "execute_result"
    }
   ],
   "source": [
    "compareTriplets([1, 2, 3], [3, 6, 2])"
   ]
  },
  {
   "cell_type": "markdown",
   "metadata": {},
   "source": [
    "### Практика. Напишите функцию, которая определяет является ли слово палиндромом"
   ]
  },
  {
   "cell_type": "code",
   "execution_count": 7,
   "metadata": {},
   "outputs": [],
   "source": [
    "def if_palindrom(word):\n",
    "    if len(word.lower()) % 2 == 1:\n",
    "        if word[:len(word) // 2] == word[:len(word) // 2:-1]:\n",
    "            return True\n",
    "        else:\n",
    "            return False\n",
    "    else:\n",
    "        if word[:len(word) // 2] == word[:(len(word) // 2 -1):-1]:\n",
    "            return True\n",
    "        else:\n",
    "            return False"
   ]
  },
  {
   "cell_type": "code",
   "execution_count": 9,
   "metadata": {},
   "outputs": [
    {
     "data": {
      "text/plain": [
       "True"
      ]
     },
     "execution_count": 9,
     "metadata": {},
     "output_type": "execute_result"
    }
   ],
   "source": [
    "if_palindrom('радар')"
   ]
  },
  {
   "cell_type": "code",
   "execution_count": null,
   "metadata": {},
   "outputs": [],
   "source": [
    "# def palindrom(word)\n",
    "#     length = len(word)\n",
    "#     for i in range(1, length)\n",
    "#         if word[i] == word[-i]:\n",
    "#             return True\n",
    "#         else:\n",
    "#             return False"
   ]
  },
  {
   "cell_type": "code",
   "execution_count": 13,
   "metadata": {},
   "outputs": [
    {
     "data": {
      "text/plain": [
       "True"
      ]
     },
     "execution_count": 13,
     "metadata": {},
     "output_type": "execute_result"
    }
   ],
   "source": [
    "def is_palindrome(word):\n",
    "    return word.lower() == word.lower()[::-1]\n",
    "\n",
    "is_palindrome('Радар')"
   ]
  },
  {
   "cell_type": "markdown",
   "metadata": {},
   "source": [
    "### Практика. Напишите функцию, которая будет находить среднюю цену квартиры по всем данным"
   ]
  },
  {
   "cell_type": "code",
   "execution_count": 15,
   "metadata": {},
   "outputs": [],
   "source": [
    "dict_1 = {'flat_1': 10500, 'flat_2': 11000}\n",
    "dict_2 = {'flat_3': 15000}\n",
    "dict_3 = {'flat_4': 6500, 'flat_5': 7000, 'flat_6': 6000}\n"
   ]
  },
  {
   "cell_type": "code",
   "execution_count": 22,
   "metadata": {},
   "outputs": [
    {
     "data": {
      "text/plain": [
       "12166.666666666666"
      ]
     },
     "execution_count": 22,
     "metadata": {},
     "output_type": "execute_result"
    }
   ],
   "source": [
    "def get_avg_price(*areas):\n",
    "  total_price = 0\n",
    "  apartment_count = 0\n",
    "  for area in areas:\n",
    "#     print(area.values())\n",
    "#     print(sum(area.values())\n",
    "    total_price += sum(area.values())\n",
    "#     print(total_price)\n",
    "    apartment_count += len(area.values())\n",
    "  return total_price / apartment_count\n",
    "\n",
    "get_avg_price(dict_1, dict_2)"
   ]
  },
  {
   "cell_type": "code",
   "execution_count": 20,
   "metadata": {},
   "outputs": [
    {
     "ename": "TypeError",
     "evalue": "flat_median() takes 0 positional arguments but 2 were given",
     "output_type": "error",
     "traceback": [
      "\u001b[1;31m---------------------------------------------------------------------------\u001b[0m",
      "\u001b[1;31mTypeError\u001b[0m                                 Traceback (most recent call last)",
      "\u001b[1;32m<ipython-input-20-49b60d982862>\u001b[0m in \u001b[0;36m<module>\u001b[1;34m\u001b[0m\n\u001b[0;32m      2\u001b[0m     \u001b[1;32mreturn\u001b[0m \u001b[0msum\u001b[0m\u001b[1;33m(\u001b[0m\u001b[0mdict\u001b[0m\u001b[1;33m.\u001b[0m\u001b[0mvalues\u001b[0m\u001b[1;33m(\u001b[0m\u001b[1;33m)\u001b[0m\u001b[1;33m)\u001b[0m \u001b[1;33m/\u001b[0m \u001b[0mlen\u001b[0m\u001b[1;33m(\u001b[0m\u001b[0mdict\u001b[0m\u001b[1;33m.\u001b[0m\u001b[0mvalues\u001b[0m\u001b[1;33m(\u001b[0m\u001b[1;33m)\u001b[0m\u001b[1;33m)\u001b[0m\u001b[1;33m\u001b[0m\u001b[1;33m\u001b[0m\u001b[0m\n\u001b[0;32m      3\u001b[0m \u001b[1;33m\u001b[0m\u001b[0m\n\u001b[1;32m----> 4\u001b[1;33m \u001b[0mflat_median\u001b[0m\u001b[1;33m(\u001b[0m\u001b[0mdict_1\u001b[0m\u001b[1;33m,\u001b[0m \u001b[0mdict_2\u001b[0m\u001b[1;33m)\u001b[0m\u001b[1;33m\u001b[0m\u001b[1;33m\u001b[0m\u001b[0m\n\u001b[0m",
      "\u001b[1;31mTypeError\u001b[0m: flat_median() takes 0 positional arguments but 2 were given"
     ]
    }
   ],
   "source": [
    "# def flat_median(**dict_):\n",
    "# #     return sum(dict.values()) / len(dict.values())\n",
    "\n",
    "# flat_median(a=dict_1, b=dict_2)"
   ]
  },
  {
   "cell_type": "markdown",
   "metadata": {},
   "source": [
    "### Получите список из средних цен в каждом районе"
   ]
  },
  {
   "cell_type": "code",
   "execution_count": 23,
   "metadata": {},
   "outputs": [],
   "source": [
    "prices = [[100, 200, 400, 600], [200, 500], [100, 200, 100, 100], [800, 900]]"
   ]
  },
  {
   "cell_type": "code",
   "execution_count": 25,
   "metadata": {},
   "outputs": [
    {
     "data": {
      "text/plain": [
       "[325.0, 350.0, 125.0, 850.0]"
      ]
     },
     "execution_count": 25,
     "metadata": {},
     "output_type": "execute_result"
    }
   ],
   "source": [
    "def get_avg_prices_list(all_prices):\n",
    "  return [sum(area_prices) / len(area_prices) for area_prices in all_prices]\n",
    "\n",
    "get_avg_prices_list(prices)"
   ]
  },
  {
   "cell_type": "code",
   "execution_count": 26,
   "metadata": {},
   "outputs": [
    {
     "data": {
      "text/plain": [
       "[1300, 700, 500, 1700]"
      ]
     },
     "execution_count": 26,
     "metadata": {},
     "output_type": "execute_result"
    }
   ],
   "source": [
    "def median(lst):\n",
    "    return [sum(x) for x in lst]\n",
    "\n",
    "median(prices)"
   ]
  },
  {
   "cell_type": "code",
   "execution_count": null,
   "metadata": {},
   "outputs": [],
   "source": [
    "def avg_list(list_):\n",
    "    return [sum(x) / len(x) for x in list_]"
   ]
  },
  {
   "cell_type": "code",
   "execution_count": 28,
   "metadata": {},
   "outputs": [
    {
     "data": {
      "text/plain": [
       "[325.0, 350.0, 125.0, 850.0]"
      ]
     },
     "execution_count": 28,
     "metadata": {},
     "output_type": "execute_result"
    }
   ],
   "source": [
    "res = lambda all_prices: [sum(area_prices) / len(area_prices) for area_prices in all_prices]\n",
    "res(prices)"
   ]
  },
  {
   "cell_type": "code",
   "execution_count": 30,
   "metadata": {},
   "outputs": [
    {
     "data": {
      "text/plain": [
       "[325.0, 350.0, 125.0, 850.0]"
      ]
     },
     "execution_count": 30,
     "metadata": {},
     "output_type": "execute_result"
    }
   ],
   "source": [
    "list(map(lambda x: sum(x) / len(x), prices))"
   ]
  },
  {
   "cell_type": "code",
   "execution_count": 35,
   "metadata": {},
   "outputs": [],
   "source": [
    "p = 'dsgbdsgh'"
   ]
  },
  {
   "cell_type": "code",
   "execution_count": 36,
   "metadata": {},
   "outputs": [
    {
     "data": {
      "text/plain": [
       "('ddd', 'sss', 'ggg', 'bbb', 'ddd', 'sss', 'ggg', 'hhh')"
      ]
     },
     "execution_count": 36,
     "metadata": {},
     "output_type": "execute_result"
    }
   ],
   "source": [
    "tuple(map(lambda x: x*3, p))"
   ]
  },
  {
   "cell_type": "markdown",
   "metadata": {},
   "source": [
    "### Практика"
   ]
  },
  {
   "cell_type": "code",
   "execution_count": 38,
   "metadata": {},
   "outputs": [],
   "source": [
    "students_list = [\n",
    "    {\"name\": \"Василий\", \"surname\": \"Теркин\", \"gender\": \"м\", \"program_exp\": True, \"grade\": [8, 8, 9, 10, 9], \"exam\": 8},\n",
    "    {\"name\": \"Мария\", \"surname\": \"Павлова\", \"gender\": \"ж\", \"program_exp\": True, \"grade\": [7, 8, 9, 7, 9], \"exam\": 9},\n",
    "    {\"name\": \"Ирина\", \"surname\": \"Андреева\", \"gender\": \"ж\", \"program_exp\": False, \"grade\": [10, 9, 8, 10, 10], \"exam\": 7},\n",
    "    {\"name\": \"Татьяна\", \"surname\": \"Сидорова\", \"gender\": \"ж\", \"program_exp\": False, \"grade\": [7, 8, 8, 9, 8],\"exam\": 10},\n",
    "    {\"name\": \"Иван\", \"surname\": \"Васильев\", \"gender\": \"м\", \"program_exp\": True, \"grade\": [9, 8, 9, 6, 9], \"exam\": 5},\n",
    "    {\"name\": \"Роман\", \"surname\": \"Золотарев\", \"gender\": \"м\", \"program_exp\": False, \"grade\": [8, 9, 9, 6, 9], \"exam\": 6}\n",
    "]"
   ]
  },
  {
   "cell_type": "code",
   "execution_count": 39,
   "metadata": {},
   "outputs": [
    {
     "data": {
      "text/plain": [
       "7.5"
      ]
     },
     "execution_count": 39,
     "metadata": {},
     "output_type": "execute_result"
    }
   ],
   "source": [
    "def get_avg_ex_grade(students):\n",
    "    sum_ex = 0\n",
    "    for student in students:\n",
    "        sum_ex += student['exam']\n",
    "    return round(sum_ex / len(students), 2)\n",
    "    \n",
    "get_avg_ex_grade(students_list)"
   ]
  },
  {
   "cell_type": "code",
   "execution_count": 40,
   "metadata": {},
   "outputs": [
    {
     "data": {
      "text/plain": [
       "8.43"
      ]
     },
     "execution_count": 40,
     "metadata": {},
     "output_type": "execute_result"
    }
   ],
   "source": [
    "def get_avg_hw_grade(students):\n",
    "    sum_hw = 0\n",
    "    for student in students:\n",
    "        sum_hw += sum(student['grade']) / len(student['grade'])\n",
    "    return round(sum_hw / len(students), 2)\n",
    "    \n",
    "get_avg_hw_grade(students_list)"
   ]
  },
  {
   "cell_type": "code",
   "execution_count": 46,
   "metadata": {},
   "outputs": [
    {
     "name": "stdout",
     "output_type": "stream",
     "text": [
      "8.43\n",
      "8.33\n",
      "8.53\n",
      "8.5\n",
      "8.7\n",
      "8.47\n",
      "8.47\n"
     ]
    }
   ],
   "source": [
    "# def get_avg_hw_grade(students, exp=None, gender=None):\n",
    "#     sum_hw = 0\n",
    "#     counter = 0\n",
    "#     for student in students:\n",
    "#         if student['program_exp'] == exp and student['gender'] == gender or\\\n",
    "#             student['program_exp'] == exp and gender is None or\\\n",
    "#             student['gender'] == gender and exp is None or\\\n",
    "#             exp is None and gender is None:\n",
    "#                 sum_hw += sum(student['grade']) / len(student['grade'])\n",
    "#                 counter += 1         \n",
    "#     return round(sum_hw / counter, 2)\n",
    "\n",
    "# print(get_avg_hw_grade(students_list))\n",
    "# print(get_avg_hw_grade(students_list, True))\n",
    "# print(get_avg_hw_grade(students_list, False))\n",
    "# print(get_avg_hw_grade(students_list, True, 'м'))\n",
    "# print(get_avg_hw_grade(students_list, False, 'ж'))\n",
    "\n",
    "# print(get_avg_hw_grade(students_list, None, 'ж'))\n",
    "# print(get_avg_hw_grade(students_list, gender='ж'))"
   ]
  },
  {
   "cell_type": "code",
   "execution_count": 48,
   "metadata": {},
   "outputs": [
    {
     "name": "stdout",
     "output_type": "stream",
     "text": [
      "Введите команду1\n",
      "7.5\n",
      "Введите команду2\n",
      "8.43\n",
      "Введите команду3\n",
      "8.5\n",
      "Введите команду4\n",
      "Введите командуq\n"
     ]
    }
   ],
   "source": [
    "def main(students):\n",
    "    while True:\n",
    "        user_input = input('Введите команду')\n",
    "        if user_input == '1':\n",
    "            print(get_avg_ex_grade(students))\n",
    "        elif user_input == '2':\n",
    "            print(get_avg_hw_grade(students))\n",
    "        elif user_input == '3':\n",
    "            print(get_avg_hw_grade(students, True, 'м'))\n",
    "        elif user_input == 'q':\n",
    "            break\n",
    "            \n",
    "main(students_list)"
   ]
  },
  {
   "cell_type": "code",
   "execution_count": 52,
   "metadata": {},
   "outputs": [
    {
     "name": "stdout",
     "output_type": "stream",
     "text": [
      "8.43\n",
      "8.33\n",
      "8.53\n",
      "8.5\n",
      "8.7\n",
      "8.47\n",
      "8.47\n"
     ]
    }
   ],
   "source": [
    "def get_avg_hw_grade(students, exp=None, gender=None):\n",
    "    sum_hw = 0\n",
    "    counter = 0\n",
    "    for student in students:\n",
    "        if (student['program_exp'] == exp or exp is None) and (student['gender'] == gender or gender is None):\n",
    "                sum_hw += sum(student['grade']) / len(student['grade'])\n",
    "                counter += 1         \n",
    "    return round(sum_hw / counter, 2)\n",
    "\n",
    "print(get_avg_hw_grade(students_list))\n",
    "print(get_avg_hw_grade(students_list, True))\n",
    "print(get_avg_hw_grade(students_list, False))\n",
    "print(get_avg_hw_grade(students_list, True, 'м'))\n",
    "print(get_avg_hw_grade(students_list, False, 'ж'))\n",
    "print(get_avg_hw_grade(students_list, None, 'ж'))\n",
    "print(get_avg_hw_grade(students_list, gender='ж'))"
   ]
  },
  {
   "cell_type": "code",
   "execution_count": null,
   "metadata": {},
   "outputs": [],
   "source": []
  }
 ],
 "metadata": {
  "kernelspec": {
   "display_name": "Python 3",
   "language": "python",
   "name": "python3"
  },
  "language_info": {
   "codemirror_mode": {
    "name": "ipython",
    "version": 3
   },
   "file_extension": ".py",
   "mimetype": "text/x-python",
   "name": "python",
   "nbconvert_exporter": "python",
   "pygments_lexer": "ipython3",
   "version": "3.8.5"
  }
 },
 "nbformat": 4,
 "nbformat_minor": 4
}
