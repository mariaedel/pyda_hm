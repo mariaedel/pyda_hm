{
 "cells": [
  {
   "cell_type": "code",
   "execution_count": 117,
   "metadata": {},
   "outputs": [],
   "source": [
    "documents = [\n",
    " {'type': 'passport', 'number': '2207 876234', 'name': 'Василий Гупкин'},\n",
    " {'type': 'invoice', 'number': '11-2', 'name': 'Геннадий Покемонов'},\n",
    " {'type': 'insurance', 'number': '10006', 'name': 'Аристарх Павлов'}\n",
    "]"
   ]
  },
  {
   "cell_type": "code",
   "execution_count": 118,
   "metadata": {},
   "outputs": [],
   "source": [
    "directories = {\n",
    " '1': ['2207 876234', '11-2'],\n",
    " '2': ['10006'],\n",
    " '3': []\n",
    "}"
   ]
  },
  {
   "cell_type": "markdown",
   "metadata": {},
   "source": [
    "### Задание 1"
   ]
  },
  {
   "cell_type": "code",
   "execution_count": 119,
   "metadata": {},
   "outputs": [],
   "source": [
    "def doc_not_in_base(doc_number):\n",
    "    for line in documents:\n",
    "        if line['number'] == doc_number:\n",
    "            return False\n",
    "    return True #'Документ не найден в базе'"
   ]
  },
  {
   "cell_type": "code",
   "execution_count": 120,
   "metadata": {},
   "outputs": [],
   "source": [
    "def owner(doc_number):\n",
    "    for line in documents:\n",
    "        if line['number'] == doc_number:\n",
    "            owner = line['name']\n",
    "            return owner\n",
    "    \n",
    "    return False"
   ]
  },
  {
   "cell_type": "code",
   "execution_count": 121,
   "metadata": {},
   "outputs": [],
   "source": [
    "def directory_number(doc_number):\n",
    "    for d in directories:\n",
    "        if doc_number in directories[d]:\n",
    "            directory = d \n",
    "            return directory\n",
    "\n",
    "    return False"
   ]
  },
  {
   "cell_type": "code",
   "execution_count": 122,
   "metadata": {},
   "outputs": [],
   "source": [
    "def all_information():\n",
    "    for line in documents:\n",
    "        doc_num = line['number']\n",
    "        doc_type = line['type']\n",
    "        owner = line['name']\n",
    "        directoria = directory_number(doc_num)\n",
    "#         print('№: ', doc_num, ', тип: ', doc_type, ', владелец: ', owner, end = '\\n')\n",
    "        print('№: ', doc_num, ', тип: ', doc_type, ', владелец: ', owner, ', полка хранения: ', directoria, end = '\\n')\n",
    "        \n",
    "    return ''"
   ]
  },
  {
   "cell_type": "code",
   "execution_count": 123,
   "metadata": {},
   "outputs": [
    {
     "name": "stdout",
     "output_type": "stream",
     "text": [
      "№:  2207 876234 , тип:  passport , владелец:  Василий Гупкин , полка хранения:  1\n",
      "№:  11-2 , тип:  invoice , владелец:  Геннадий Покемонов , полка хранения:  1\n",
      "№:  10006 , тип:  insurance , владелец:  Аристарх Павлов , полка хранения:  2\n"
     ]
    },
    {
     "data": {
      "text/plain": [
       "''"
      ]
     },
     "execution_count": 123,
     "metadata": {},
     "output_type": "execute_result"
    }
   ],
   "source": [
    "all_information()"
   ]
  },
  {
   "cell_type": "code",
   "execution_count": 124,
   "metadata": {},
   "outputs": [],
   "source": [
    "def add_directory(directory_number):\n",
    "    \n",
    "    if directory_number not in directories.keys():\n",
    "        directories[directory_number] = ''\n",
    "        return ['Полка добавлена. Текущий перечень полок: ', ', '.join(directories.keys())]\n",
    "    \n",
    "    return ['Такая полка уже существует. Текущий перечень полок: ', ', '.join(directories.keys())]"
   ]
  },
  {
   "cell_type": "code",
   "execution_count": 125,
   "metadata": {},
   "outputs": [],
   "source": [
    "def del_directory(directory_number):\n",
    "    \n",
    "    if directory_number in directories.keys():\n",
    "        if directories[directory_number] == '':\n",
    "            del directories[directory_number]\n",
    "            return ['Полка удалена. Текущий перечень полок: ', ', '.join(directories.keys())]\n",
    "        else:\n",
    "            return ['На полке есть документы, удалите их перед удалением полки. Текущий перечень полок: ', ', '.join(directories.keys())]\n",
    "    \n",
    "    return ['Такой полки не существует. Текущий перечень полок: ', ', '.join(directories.keys())]"
   ]
  },
  {
   "cell_type": "code",
   "execution_count": 126,
   "metadata": {
    "scrolled": true
   },
   "outputs": [
    {
     "name": "stdout",
     "output_type": "stream",
     "text": [
      "\n"
     ]
    }
   ],
   "source": [
    "command = input()\n",
    "if command == 'p':\n",
    "    doc_number = input('Введите номер документа: ')\n",
    "    if doc_not_in_base(doc_number):\n",
    "        print('Документ не найден в базе')\n",
    "    else: \n",
    "        print('Владелец документа:', owner(doc_number))\n",
    "elif command == 's':\n",
    "    doc_number = input('Введите номер документа: ')\n",
    "    if doc_not_in_base(doc_number):\n",
    "        print('Документ не найден в базе')\n",
    "    else: \n",
    "        print('Документ хранится на полке:', directory_number(doc_number))\n",
    "elif command == 'l':\n",
    "    print(all_information())\n",
    "elif command == 'ads':\n",
    "    directory_number = input('Введите номер полки: ')\n",
    "    print(''.join(add_directory(directory_number )))\n",
    "elif command == 'ds':\n",
    "    directory_number = input('Введите номер полки: ')\n",
    "    print(''.join(del_directory(directory_number )))\n",
    "    "
   ]
  },
  {
   "cell_type": "markdown",
   "metadata": {},
   "source": [
    "### Задание 2"
   ]
  },
  {
   "cell_type": "code",
   "execution_count": 127,
   "metadata": {},
   "outputs": [],
   "source": [
    "def add_document(doc_number, doc_type, doc_owner, doc_directory):\n",
    "    if doc_not_in_base(doc_number):\n",
    "\n",
    "        if doc_directory in directories.keys():\n",
    "            \n",
    "            directories[doc_directory].append(doc_number)\n",
    "            \n",
    "            new_doc_info = {}\n",
    "            new_doc_info['type'] = doc_type\n",
    "            new_doc_info['number'] = doc_number\n",
    "            new_doc_info['name'] = doc_owner\n",
    "        \n",
    "            documents.append(new_doc_info)\n",
    "            \n",
    "            return 'Документ добавлен.'\n",
    "            \n",
    "        else:\n",
    "            return 'Такой полки не существует. Добавьте полку командой as.'\n",
    "\n",
    "    return 'Документ с таким номером уже существует'"
   ]
  },
  {
   "cell_type": "code",
   "execution_count": 128,
   "metadata": {},
   "outputs": [],
   "source": [
    "def del_document(doc_number):\n",
    "    if doc_not_in_base(doc_number):\n",
    "        return 'Документ не найден в базе.'\n",
    "    else:\n",
    "        for i in range(len(documents)-1):\n",
    "            if documents[i]['number'] == doc_number:\n",
    "                del documents[i]\n",
    "                d = directory_number(doc_number)\n",
    "                directories[d].remove(doc_number)\n",
    "            \n",
    "                return 'Документ удален.'"
   ]
  },
  {
   "cell_type": "code",
   "execution_count": 129,
   "metadata": {},
   "outputs": [],
   "source": [
    "def change_derictory(doc_number, new_doc_directory):\n",
    "    if doc_not_in_base(doc_number):\n",
    "        return 'Документ не найден в базе.'\n",
    "    elif new_doc_directory not in directories.keys():\n",
    "        return 'Такой полки не существует. Добавьте полку командой as.'\n",
    "    else:\n",
    "        directories[new_doc_directory].append(doc_number)\n",
    "        d = directory_number(doc_number)\n",
    "        directories[d].remove(doc_number)\n",
    "    return 'Документ перемещен'"
   ]
  },
  {
   "cell_type": "code",
   "execution_count": null,
   "metadata": {},
   "outputs": [],
   "source": [
    "command = input('Введите команду: ')\n",
    "\n",
    "if command == 'ad':\n",
    "    doc_number = input('Введите номер документа: ')\n",
    "    doc_type = input('Введите тип документа: ')\n",
    "    doc_owner = input('Введите владельца документа: ')   \n",
    "    doc_directory = input('Введите полку для хранения: ')\n",
    "        \n",
    "    print(add_document(doc_number, doc_type, doc_owner, doc_directory))\n",
    "    \n",
    "elif command == 'd':\n",
    "    doc_number = input('Введите номер документа: ')\n",
    "    print(del_document(doc_number))\n",
    "    \n",
    "elif command == 'm':\n",
    "    \n",
    "    doc_number = input('Введите номер документа: ')\n",
    "    new_doc_directory = input('Введите полку для перемещения документа: ')\n",
    "    if directory_number == False:\n",
    "        print('')\n",
    "    print(change_derictory(doc_number, new_doc_directory))\n",
    "    \n",
    "    \n",
    "print('Текущий список документов: ')\n",
    "print(all_information())\n",
    "\n",
    "print(directories)"
   ]
  },
  {
   "cell_type": "code",
   "execution_count": null,
   "metadata": {},
   "outputs": [],
   "source": []
  }
 ],
 "metadata": {
  "kernelspec": {
   "display_name": "Python 3",
   "language": "python",
   "name": "python3"
  },
  "language_info": {
   "codemirror_mode": {
    "name": "ipython",
    "version": 3
   },
   "file_extension": ".py",
   "mimetype": "text/x-python",
   "name": "python",
   "nbconvert_exporter": "python",
   "pygments_lexer": "ipython3",
   "version": "3.8.5"
  }
 },
 "nbformat": 4,
 "nbformat_minor": 4
}
