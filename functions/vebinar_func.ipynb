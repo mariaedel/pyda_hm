{
 "cells": [
  {
   "cell_type": "markdown",
   "metadata": {},
   "source": [
    "### Функция, которая определяет, является ли слово палиндромом"
   ]
  },
  {
   "cell_type": "code",
   "execution_count": 27,
   "metadata": {},
   "outputs": [],
   "source": [
    "def palindrom(word):\n",
    "    reverse_word = ''\n",
    "    for i in range(-1, -len(word)-1, -1):\n",
    "        reverse_word += word[i]\n",
    "    if reverse_word.lower() == word.lower():\n",
    "        return 'YES'\n",
    "    \n",
    "    return 'NO'"
   ]
  },
  {
   "cell_type": "code",
   "execution_count": 28,
   "metadata": {},
   "outputs": [
    {
     "name": "stdout",
     "output_type": "stream",
     "text": [
      "njn\n"
     ]
    },
    {
     "data": {
      "text/plain": [
       "'YES'"
      ]
     },
     "execution_count": 28,
     "metadata": {},
     "output_type": "execute_result"
    }
   ],
   "source": [
    "word = input()\n",
    "palindrom(word)"
   ]
  },
  {
   "cell_type": "code",
   "execution_count": 33,
   "metadata": {},
   "outputs": [],
   "source": [
    "def palindrom1(word):\n",
    "    return word.lower() == word.lower()[::-1]"
   ]
  },
  {
   "cell_type": "code",
   "execution_count": 39,
   "metadata": {},
   "outputs": [
    {
     "data": {
      "text/plain": [
       "True"
      ]
     },
     "execution_count": 39,
     "metadata": {},
     "output_type": "execute_result"
    }
   ],
   "source": [
    "palindrom1('радар') "
   ]
  },
  {
   "cell_type": "code",
   "execution_count": 37,
   "metadata": {},
   "outputs": [
    {
     "name": "stdout",
     "output_type": "stream",
     "text": [
      "xfyg\n",
      "NO\n"
     ]
    }
   ],
   "source": [
    "word = input()\n",
    "if palindrom1(word):\n",
    "    print('YES')\n",
    "else:\n",
    "    print('NO')"
   ]
  },
  {
   "cell_type": "markdown",
   "metadata": {},
   "source": [
    "### Функция, которая находит среднюю цену квартиры по всем данным"
   ]
  },
  {
   "cell_type": "code",
   "execution_count": 4,
   "metadata": {},
   "outputs": [],
   "source": [
    "dict_1 = {'flat_1': 10500, 'flat_2': 11000}\n",
    "dict_2 = {'flat_3': 15000}\n",
    "dict_3 = {'flat_4': 6500, 'flat_5': 7000, 'flat_6': 6000}"
   ]
  },
  {
   "cell_type": "code",
   "execution_count": 18,
   "metadata": {},
   "outputs": [],
   "source": [
    "def average_price(*dicts):\n",
    "    s = 0\n",
    "    k = 0\n",
    "    for one_dict in dicts:\n",
    "        s += sum(one_dict.values())\n",
    "        k += len(one_dict.values())\n",
    "\n",
    "    return s/k\n",
    "    \n",
    "    "
   ]
  },
  {
   "cell_type": "code",
   "execution_count": 19,
   "metadata": {},
   "outputs": [
    {
     "data": {
      "text/plain": [
       "10750.0"
      ]
     },
     "execution_count": 19,
     "metadata": {},
     "output_type": "execute_result"
    }
   ],
   "source": [
    "average_price(dict_1)"
   ]
  },
  {
   "cell_type": "markdown",
   "metadata": {},
   "source": [
    "### Функция, которая находит среднюю цену в каждом районе (каждый список)"
   ]
  },
  {
   "cell_type": "code",
   "execution_count": 26,
   "metadata": {},
   "outputs": [],
   "source": [
    "prices = [[100, 200, 300], [200, 500], [100], [400, 400, 100, 300]]"
   ]
  },
  {
   "cell_type": "markdown",
   "metadata": {},
   "source": [
    "# !!!"
   ]
  },
  {
   "cell_type": "code",
   "execution_count": 1,
   "metadata": {},
   "outputs": [
    {
     "ename": "NameError",
     "evalue": "name 'prices' is not defined",
     "output_type": "error",
     "traceback": [
      "\u001b[1;31m---------------------------------------------------------------------------\u001b[0m",
      "\u001b[1;31mNameError\u001b[0m                                 Traceback (most recent call last)",
      "\u001b[1;32m<ipython-input-1-f42aff282280>\u001b[0m in \u001b[0;36m<module>\u001b[1;34m\u001b[0m\n\u001b[1;32m----> 1\u001b[1;33m \u001b[0mlist\u001b[0m\u001b[1;33m(\u001b[0m\u001b[0mmap\u001b[0m\u001b[1;33m(\u001b[0m\u001b[1;32mlambda\u001b[0m \u001b[0mx\u001b[0m\u001b[1;33m:\u001b[0m \u001b[0msum\u001b[0m\u001b[1;33m(\u001b[0m\u001b[0mx\u001b[0m\u001b[1;33m)\u001b[0m\u001b[1;33m/\u001b[0m\u001b[0mlen\u001b[0m\u001b[1;33m(\u001b[0m\u001b[0mx\u001b[0m\u001b[1;33m)\u001b[0m\u001b[1;33m,\u001b[0m \u001b[0mprices\u001b[0m\u001b[1;33m)\u001b[0m\u001b[1;33m)\u001b[0m\u001b[1;33m\u001b[0m\u001b[1;33m\u001b[0m\u001b[0m\n\u001b[0m",
      "\u001b[1;31mNameError\u001b[0m: name 'prices' is not defined"
     ]
    }
   ],
   "source": [
    "list(map(lambda x: sum(x)/len(x), prices))"
   ]
  },
  {
   "cell_type": "markdown",
   "metadata": {},
   "source": [
    "### Практика"
   ]
  },
  {
   "cell_type": "code",
   "execution_count": 30,
   "metadata": {},
   "outputs": [],
   "source": [
    "students_list = [\n",
    "    {\"name\": \"Василий\", \"surname\": \"Теркин\", \"gender\": \"м\", \"program_exp\": True, \"grade\": [8, 8, 9, 10, 9], \"exam\": 8},\n",
    "    {\"name\": \"Мария\", \"surname\": \"Павлова\", \"gender\": \"ж\", \"program_exp\": True, \"grade\": [7, 8, 9, 7, 9], \"exam\": 9},\n",
    "    {\"name\": \"Ирина\", \"surname\": \"Андреева\", \"gender\": \"ж\", \"program_exp\": False, \"grade\": [10, 9, 8, 10, 10], \"exam\": 7},\n",
    "    {\"name\": \"Татьяна\", \"surname\": \"Сидорова\", \"gender\": \"ж\", \"program_exp\": False, \"grade\": [7, 8, 8, 9, 8],\"exam\": 10},\n",
    "    {\"name\": \"Иван\", \"surname\": \"Васильев\", \"gender\": \"м\", \"program_exp\": True, \"grade\": [9, 8, 9, 6, 9], \"exam\": 5},\n",
    "    {\"name\": \"Роман\", \"surname\": \"Золотарев\", \"gender\": \"м\", \"program_exp\": False, \"grade\": [8, 9, 9, 6, 9], \"exam\": 6}\n",
    "]"
   ]
  },
  {
   "cell_type": "code",
   "execution_count": 31,
   "metadata": {},
   "outputs": [],
   "source": [
    "def average_ex_grade(students):\n",
    "    s = 0\n",
    "    for student in students:\n",
    "        s += student['exam']\n",
    "        \n",
    "    return s / len(students)"
   ]
  },
  {
   "cell_type": "code",
   "execution_count": 32,
   "metadata": {},
   "outputs": [
    {
     "data": {
      "text/plain": [
       "7.5"
      ]
     },
     "execution_count": 32,
     "metadata": {},
     "output_type": "execute_result"
    }
   ],
   "source": [
    "average_ex_grade(students_list)"
   ]
  },
  {
   "cell_type": "code",
   "execution_count": 33,
   "metadata": {},
   "outputs": [],
   "source": [
    "def average_hm_grade(students):\n",
    "    s = 0\n",
    "    for student in students:\n",
    "        s += sum(student['grade']) / len(student['grade'])\n",
    "    return round(s / len(students), 2)"
   ]
  },
  {
   "cell_type": "code",
   "execution_count": 34,
   "metadata": {},
   "outputs": [
    {
     "data": {
      "text/plain": [
       "8.43"
      ]
     },
     "execution_count": 34,
     "metadata": {},
     "output_type": "execute_result"
    }
   ],
   "source": [
    "average_hm_grade(students_list)"
   ]
  },
  {
   "cell_type": "markdown",
   "metadata": {},
   "source": [
    "Средняя оценка с фильтрацией по опыту +возможностсь подсчета без фильтрации"
   ]
  },
  {
   "cell_type": "code",
   "execution_count": 35,
   "metadata": {},
   "outputs": [],
   "source": [
    "def average_hm_grade_exp(students, exp=None):\n",
    "    s = 0\n",
    "    k = 0 \n",
    "    for student in students:\n",
    "        if student['program_exp'] == exp or exp is None:\n",
    "            s += sum(student['grade']) / len(student['grade'])\n",
    "            k += 1\n",
    "    return round(s / k, 2)"
   ]
  },
  {
   "cell_type": "code",
   "execution_count": 36,
   "metadata": {},
   "outputs": [
    {
     "name": "stdout",
     "output_type": "stream",
     "text": [
      "8.43\n",
      "8.33\n",
      "8.53\n"
     ]
    }
   ],
   "source": [
    "print(average_hm_grade_exp(students_list))\n",
    "print(average_hm_grade_exp(students_list, True))\n",
    "print(average_hm_grade_exp(students_list, False))"
   ]
  },
  {
   "cell_type": "code",
   "execution_count": 37,
   "metadata": {},
   "outputs": [
    {
     "name": "stdout",
     "output_type": "stream",
     "text": [
      "8.43\n",
      "8.33\n",
      "8.53\n",
      "8.5\n",
      "8.7\n",
      "8.47\n",
      "8.47\n"
     ]
    }
   ],
   "source": [
    "def get_avg_hw_grade(students, exp=None, gender=None):\n",
    "    sum_hw = 0\n",
    "    counter = 0\n",
    "    for student in students:\n",
    "        if (student['program_exp'] == exp or exp is None) and (student['gender'] == gender or gender is None):\n",
    "                sum_hw += sum(student['grade']) / len(student['grade'])\n",
    "                counter += 1         \n",
    "    return round(sum_hw / counter, 2)\n",
    "\n",
    "print(get_avg_hw_grade(students_list))\n",
    "print(get_avg_hw_grade(students_list, True))\n",
    "print(get_avg_hw_grade(students_list, False))\n",
    "print(get_avg_hw_grade(students_list, True, 'м'))\n",
    "print(get_avg_hw_grade(students_list, False, 'ж'))\n",
    "print(get_avg_hw_grade(students_list, None, 'ж'))\n",
    "print(get_avg_hw_grade(students_list, gender='ж'))"
   ]
  },
  {
   "cell_type": "code",
   "execution_count": 38,
   "metadata": {},
   "outputs": [
    {
     "name": "stdout",
     "output_type": "stream",
     "text": [
      "Введите команду\n",
      "Введите команду2\n",
      "8.43\n",
      "Введите команду3\n",
      "8.5\n",
      "Введите команду4\n",
      "Введите командуй\n",
      "Введите командуq\n"
     ]
    }
   ],
   "source": [
    "def main(students):\n",
    "    while True:\n",
    "        user_input = input('Введите команду')\n",
    "        if user_input == '1':\n",
    "            print(get_avg_ex_grade(students))\n",
    "        elif user_input == '2':\n",
    "            print(get_avg_hw_grade(students))\n",
    "        elif user_input == '3':\n",
    "            print(get_avg_hw_grade(students, True, 'м'))\n",
    "        elif user_input == 'q':\n",
    "            break\n",
    "            \n",
    "main(students_list)"
   ]
  },
  {
   "cell_type": "code",
   "execution_count": null,
   "metadata": {},
   "outputs": [],
   "source": []
  }
 ],
 "metadata": {
  "kernelspec": {
   "display_name": "Python 3",
   "language": "python",
   "name": "python3"
  },
  "language_info": {
   "codemirror_mode": {
    "name": "ipython",
    "version": 3
   },
   "file_extension": ".py",
   "mimetype": "text/x-python",
   "name": "python",
   "nbconvert_exporter": "python",
   "pygments_lexer": "ipython3",
   "version": "3.8.5"
  }
 },
 "nbformat": 4,
 "nbformat_minor": 4
}
