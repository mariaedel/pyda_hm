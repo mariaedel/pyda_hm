{
 "cells": [
  {
   "cell_type": "code",
   "execution_count": 28,
   "metadata": {},
   "outputs": [],
   "source": [
    "documents = [\n",
    " {'type': 'passport', 'number': '2207 876234', 'name': 'Василий Гупкин'},\n",
    " {'type': 'invoice', 'number': '11-2', 'name': 'Геннадий Покемонов'},\n",
    " {'type': 'insurance', 'number': '10006', 'name': 'Аристарх Павлов'}\n",
    "]"
   ]
  },
  {
   "cell_type": "code",
   "execution_count": 29,
   "metadata": {},
   "outputs": [],
   "source": [
    "directories = {\n",
    " '1': ['2207 876234', '11-2'],\n",
    " '2': ['10006'],\n",
    " '3': []\n",
    "}"
   ]
  },
  {
   "cell_type": "code",
   "execution_count": 30,
   "metadata": {},
   "outputs": [],
   "source": [
    "def owner(doc_number):\n",
    "    for line in documents:\n",
    "        if line['number'] == doc_number:\n",
    "            owner = line['name']\n",
    "            return owner\n",
    "    \n",
    "    return False"
   ]
  },
  {
   "cell_type": "code",
   "execution_count": 31,
   "metadata": {},
   "outputs": [],
   "source": [
    "def doc_search(doc_number):\n",
    "    for line in documents:\n",
    "        if line['number'] == doc_number:\n",
    "            return True\n",
    "    return False #'Документ не найден в базе'"
   ]
  },
  {
   "cell_type": "code",
   "execution_count": 32,
   "metadata": {},
   "outputs": [],
   "source": [
    "def all_information():\n",
    "    info = ''\n",
    "    for line in documents:\n",
    "        doc_num = str(line['number'])\n",
    "        doc_type = str(line['type'])\n",
    "        owner = str(line['name'])\n",
    "        directoria = str(directory_number(doc_num))\n",
    "        one_doc_info = '№: ' + doc_num + ', тип: ' + doc_type + ', владелец: ' + owner + ', полка хранения: ' + directoria\n",
    "        info = info + '\\n' + one_doc_info\n",
    "    return info"
   ]
  },
  {
   "cell_type": "code",
   "execution_count": 36,
   "metadata": {},
   "outputs": [
    {
     "name": "stdout",
     "output_type": "stream",
     "text": [
      "ad\n",
      "Введите номер документа: 555\n",
      "Введите тип документа: pasp\n",
      "Введите владельца документа: M\n",
      "Введите полку для хранения: 5\n",
      "Введите номер документа: 777\n"
     ]
    },
    {
     "ename": "UnboundLocalError",
     "evalue": "local variable 'directory' referenced before assignment",
     "output_type": "error",
     "traceback": [
      "\u001b[1;31m---------------------------------------------------------------------------\u001b[0m",
      "\u001b[1;31mUnboundLocalError\u001b[0m                         Traceback (most recent call last)",
      "\u001b[1;32m<ipython-input-36-a2d9f868a7e5>\u001b[0m in \u001b[0;36m<module>\u001b[1;34m\u001b[0m\n\u001b[0;32m     12\u001b[0m             \u001b[0mprint\u001b[0m\u001b[1;33m(\u001b[0m\u001b[1;34m'Документ добавлен. Текущий список документов: '\u001b[0m\u001b[1;33m,\u001b[0m \u001b[0mall_information\u001b[0m\u001b[1;33m(\u001b[0m\u001b[1;33m)\u001b[0m\u001b[1;33m)\u001b[0m\u001b[1;33m\u001b[0m\u001b[1;33m\u001b[0m\u001b[0m\n\u001b[0;32m     13\u001b[0m         \u001b[1;32melse\u001b[0m\u001b[1;33m:\u001b[0m\u001b[1;33m\u001b[0m\u001b[1;33m\u001b[0m\u001b[0m\n\u001b[1;32m---> 14\u001b[1;33m             \u001b[0mprint\u001b[0m\u001b[1;33m(\u001b[0m\u001b[1;34m'Такой полки не существует. Добавьте полку командой as. '\u001b[0m\u001b[1;33m,\u001b[0m \u001b[1;34m'Текущий список документов:'\u001b[0m\u001b[1;33m,\u001b[0m \u001b[0mall_information\u001b[0m\u001b[1;33m(\u001b[0m\u001b[1;33m)\u001b[0m\u001b[1;33m,\u001b[0m \u001b[0msep\u001b[0m \u001b[1;33m=\u001b[0m \u001b[1;34m'\\n'\u001b[0m\u001b[1;33m)\u001b[0m\u001b[1;33m\u001b[0m\u001b[1;33m\u001b[0m\u001b[0m\n\u001b[0m",
      "\u001b[1;32m<ipython-input-32-12ba95918298>\u001b[0m in \u001b[0;36mall_information\u001b[1;34m()\u001b[0m\n\u001b[0;32m      5\u001b[0m         \u001b[0mdoc_type\u001b[0m \u001b[1;33m=\u001b[0m \u001b[0mstr\u001b[0m\u001b[1;33m(\u001b[0m\u001b[0mline\u001b[0m\u001b[1;33m[\u001b[0m\u001b[1;34m'type'\u001b[0m\u001b[1;33m]\u001b[0m\u001b[1;33m)\u001b[0m\u001b[1;33m\u001b[0m\u001b[1;33m\u001b[0m\u001b[0m\n\u001b[0;32m      6\u001b[0m         \u001b[0mowner\u001b[0m \u001b[1;33m=\u001b[0m \u001b[0mstr\u001b[0m\u001b[1;33m(\u001b[0m\u001b[0mline\u001b[0m\u001b[1;33m[\u001b[0m\u001b[1;34m'name'\u001b[0m\u001b[1;33m]\u001b[0m\u001b[1;33m)\u001b[0m\u001b[1;33m\u001b[0m\u001b[1;33m\u001b[0m\u001b[0m\n\u001b[1;32m----> 7\u001b[1;33m         \u001b[0mdirectoria\u001b[0m \u001b[1;33m=\u001b[0m \u001b[0mstr\u001b[0m\u001b[1;33m(\u001b[0m\u001b[0mdirectory_number\u001b[0m\u001b[1;33m(\u001b[0m\u001b[0mdoc_num\u001b[0m\u001b[1;33m)\u001b[0m\u001b[1;33m)\u001b[0m\u001b[1;33m\u001b[0m\u001b[1;33m\u001b[0m\u001b[0m\n\u001b[0m\u001b[0;32m      8\u001b[0m         \u001b[0mone_doc_info\u001b[0m \u001b[1;33m=\u001b[0m \u001b[1;34m'№: '\u001b[0m \u001b[1;33m+\u001b[0m \u001b[0mdoc_num\u001b[0m \u001b[1;33m+\u001b[0m \u001b[1;34m', тип: '\u001b[0m \u001b[1;33m+\u001b[0m \u001b[0mdoc_type\u001b[0m \u001b[1;33m+\u001b[0m \u001b[1;34m', владелец: '\u001b[0m \u001b[1;33m+\u001b[0m \u001b[0mowner\u001b[0m \u001b[1;33m+\u001b[0m \u001b[1;34m', полка хранения: '\u001b[0m \u001b[1;33m+\u001b[0m \u001b[0mdirectoria\u001b[0m\u001b[1;33m\u001b[0m\u001b[1;33m\u001b[0m\u001b[0m\n\u001b[0;32m      9\u001b[0m         \u001b[0minfo\u001b[0m \u001b[1;33m=\u001b[0m \u001b[0minfo\u001b[0m \u001b[1;33m+\u001b[0m \u001b[1;34m'\\n'\u001b[0m \u001b[1;33m+\u001b[0m \u001b[0mone_doc_info\u001b[0m\u001b[1;33m\u001b[0m\u001b[1;33m\u001b[0m\u001b[0m\n",
      "\u001b[1;32m<ipython-input-22-676c68002ac3>\u001b[0m in \u001b[0;36mdirectory_number\u001b[1;34m(doc_number)\u001b[0m\n\u001b[0;32m      4\u001b[0m         \u001b[1;32mif\u001b[0m \u001b[0mdoc_number\u001b[0m \u001b[1;32min\u001b[0m \u001b[0mdirectories\u001b[0m\u001b[1;33m[\u001b[0m\u001b[0md\u001b[0m\u001b[1;33m]\u001b[0m\u001b[1;33m:\u001b[0m\u001b[1;33m\u001b[0m\u001b[1;33m\u001b[0m\u001b[0m\n\u001b[0;32m      5\u001b[0m             \u001b[0mdirectory\u001b[0m \u001b[1;33m=\u001b[0m \u001b[0md\u001b[0m\u001b[1;33m\u001b[0m\u001b[1;33m\u001b[0m\u001b[0m\n\u001b[1;32m----> 6\u001b[1;33m     \u001b[1;32mreturn\u001b[0m \u001b[0mdirectory\u001b[0m\u001b[1;33m\u001b[0m\u001b[1;33m\u001b[0m\u001b[0m\n\u001b[0m\u001b[0;32m      7\u001b[0m \u001b[1;33m\u001b[0m\u001b[0m\n\u001b[0;32m      8\u001b[0m     \u001b[1;32mreturn\u001b[0m \u001b[1;32mFalse\u001b[0m \u001b[1;31m#'Документ не найден в базе'\u001b[0m\u001b[1;33m\u001b[0m\u001b[1;33m\u001b[0m\u001b[0m\n",
      "\u001b[1;31mUnboundLocalError\u001b[0m: local variable 'directory' referenced before assignment"
     ]
    }
   ],
   "source": [
    "command = input()\n",
    "if command == 'ad':\n",
    "    doc_number = input('Введите номер документа: ')\n",
    "    if doc_search(doc_number) == True:\n",
    "        print('Документ с таким номером уже существует')\n",
    "    else:\n",
    "        \n",
    "        doc_type = input('Введите тип документа: ')\n",
    "        doc_owner = input('Введите владельца документа: ')\n",
    "        doc_directory = input('Введите полку для хранения: ')\n",
    "        if doc_directory in directories.keys():\n",
    "            directories[doc_directory].append(doc_number)\n",
    "            print('Документ добавлен. Текущий список документов: ', all_information())\n",
    "        else:\n",
    "            print('Такой полки не существует. Добавьте полку командой as. ', 'Текущий список документов:', all_information(), sep = '\\n')"
   ]
  },
  {
   "cell_type": "code",
   "execution_count": null,
   "metadata": {},
   "outputs": [],
   "source": []
  }
 ],
 "metadata": {
  "kernelspec": {
   "display_name": "Python 3",
   "language": "python",
   "name": "python3"
  },
  "language_info": {
   "codemirror_mode": {
    "name": "ipython",
    "version": 3
   },
   "file_extension": ".py",
   "mimetype": "text/x-python",
   "name": "python",
   "nbconvert_exporter": "python",
   "pygments_lexer": "ipython3",
   "version": "3.8.5"
  }
 },
 "nbformat": 4,
 "nbformat_minor": 4
}
