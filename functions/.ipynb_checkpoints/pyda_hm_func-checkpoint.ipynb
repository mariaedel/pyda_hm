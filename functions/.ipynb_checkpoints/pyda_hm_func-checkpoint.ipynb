{
 "cells": [
  {
   "cell_type": "code",
   "execution_count": 4,
   "metadata": {},
   "outputs": [],
   "source": [
    "documents = [\n",
    " {'type': 'passport', 'number': '2207 876234', 'name': 'Василий Гупкин'},\n",
    " {'type': 'invoice', 'number': '11-2', 'name': 'Геннадий Покемонов'},\n",
    " {'type': 'insurance', 'number': '10006', 'name': 'Аристарх Павлов'}\n",
    "]"
   ]
  },
  {
   "cell_type": "code",
   "execution_count": 5,
   "metadata": {},
   "outputs": [],
   "source": [
    "directories = {\n",
    " '1': ['2207 876234', '11-2'],\n",
    " '2': ['10006'],\n",
    " '3': []\n",
    "}"
   ]
  },
  {
   "cell_type": "markdown",
   "metadata": {},
   "source": [
    "### Задание 1"
   ]
  },
  {
   "cell_type": "markdown",
   "metadata": {},
   "source": [
    "Пункт 1. Пользователь по команде \"p\" может узнать владельца документа по его номеру"
   ]
  },
  {
   "cell_type": "code",
   "execution_count": 17,
   "metadata": {},
   "outputs": [],
   "source": [
    "def owner(doc_number):\n",
    "    doc_number = input('Введите номер документа: ')\n",
    "    for line in documents:\n",
    "        if line['number'] == doc_number:\n",
    "            owner = line['name']\n",
    "            return ['Владелец документа: ', owner]\n",
    "    \n",
    "    return 'Документ не найден в базе'"
   ]
  },
  {
   "cell_type": "code",
   "execution_count": 18,
   "metadata": {},
   "outputs": [],
   "source": [
    "def directory_number(doc_number):\n",
    "    doc_number = input('Введите номер документа: ')\n",
    "    for d in directories:\n",
    "        if doc_number in directories[d]:\n",
    "            directory = d \n",
    "    return directory\n",
    "\n",
    "    return 'Документ не найден в базе'"
   ]
  },
  {
   "cell_type": "code",
   "execution_count": 19,
   "metadata": {},
   "outputs": [],
   "source": [
    "def directory(doc_number):    \n",
    "    directory = directory_number(doc_number)        \n",
    "    return ['Документ хранится на полке: ', directory]"
   ]
  },
  {
   "cell_type": "code",
   "execution_count": 20,
   "metadata": {},
   "outputs": [],
   "source": [
    "def all_information():\n",
    "    info = ''\n",
    "    for line in documents:\n",
    "        doc_num = str(line['number'])\n",
    "        doc_type = str(line['type'])\n",
    "        owner = str(line['name'])\n",
    "        directoria = str(directory_number(doc_num))\n",
    "        one_doc_info = '№: ' + doc_num + ', тип: ' + doc_type + ', владелец: ' + owner + ', полка хранения: ' + directoria\n",
    "        info = info + '\\n' + one_doc_info\n",
    "    return info"
   ]
  },
  {
   "cell_type": "code",
   "execution_count": 21,
   "metadata": {},
   "outputs": [],
   "source": [
    "def add_directory():\n",
    "    directory_number = input('Введите номер полки: ')\n",
    "    \n",
    "    if directory_number not in directories.keys():\n",
    "        directories[directory_number] = ''\n",
    "        return ['Полка добавлена. Текущий перечень полок: ', ', '.join(directories.keys())]\n",
    "    \n",
    "    return ['Такая полка уже существует. Текущий перечень полок: ', ', '.join(directories.keys())]"
   ]
  },
  {
   "cell_type": "code",
   "execution_count": 22,
   "metadata": {},
   "outputs": [],
   "source": [
    "def del_directory():\n",
    "    directory_number = input('Введите номер полки: ')\n",
    "    \n",
    "    if directory_number in directories.keys():\n",
    "        if directories[directory_number] == '':\n",
    "            del directories[directory_number]\n",
    "            return ['Полка удалена. Текущий перечень полок: ', ', '.join(directories.keys())]\n",
    "        else:\n",
    "            return ['На полке есть документы, удалите их перед удалением полки. Текущий перечень полок: ', ', '.join(directories.keys())]\n",
    "    \n",
    "    return ['Такой полки не существует. Текущий перечень полок: ', ', '.join(directories.keys())]"
   ]
  },
  {
   "cell_type": "code",
   "execution_count": 24,
   "metadata": {},
   "outputs": [
    {
     "name": "stdout",
     "output_type": "stream",
     "text": [
      "s\n",
      "Введите номер документа: 11-2\n",
      "Документ хранится на полке: 1\n"
     ]
    }
   ],
   "source": [
    "command = input()\n",
    "if command == 'p':\n",
    "    print(''.join(owner(doc_number)))\n",
    "elif command == 's':\n",
    "    print(''.join(directory(doc_number)))\n",
    "elif command == 'l':\n",
    "    print(all_information())\n",
    "elif command == 'ads':\n",
    "    print(''.join(add_directory()))\n",
    "elif command == 'ds':\n",
    "    print(''.join(del_directory()))\n"
   ]
  }
 ],
 "metadata": {
  "kernelspec": {
   "display_name": "Python 3",
   "language": "python",
   "name": "python3"
  },
  "language_info": {
   "codemirror_mode": {
    "name": "ipython",
    "version": 3
   },
   "file_extension": ".py",
   "mimetype": "text/x-python",
   "name": "python",
   "nbconvert_exporter": "python",
   "pygments_lexer": "ipython3",
   "version": "3.8.5"
  }
 },
 "nbformat": 4,
 "nbformat_minor": 4
}
