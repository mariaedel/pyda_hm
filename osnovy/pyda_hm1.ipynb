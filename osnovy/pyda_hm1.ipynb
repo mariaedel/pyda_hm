{
 "cells": [
  {
   "cell_type": "markdown",
   "metadata": {},
   "source": [
    "### Задание 1"
   ]
  },
  {
   "cell_type": "code",
   "execution_count": 6,
   "metadata": {},
   "outputs": [
    {
     "name": "stdout",
     "output_type": "stream",
     "text": [
      "q\n",
      "q\n",
      "Фразы равной длины\n"
     ]
    }
   ],
   "source": [
    "phrase_1 = input()\n",
    "phrase_2 = input()\n",
    "if len(phrase_1) < len(phrase_2):\n",
    "    print('Фраза 2 длиннее фразы 1')\n",
    "elif len(phrase_1) > len(phrase_2):\n",
    "    print('Фраза 1 длиннее фразы 2')\n",
    "else:\n",
    "     print('Фразы равной длины')"
   ]
  },
  {
   "cell_type": "code",
   "execution_count": 7,
   "metadata": {},
   "outputs": [
    {
     "name": "stdout",
     "output_type": "stream",
     "text": [
      "Фраза 1 длиннее фразы 2\n"
     ]
    }
   ],
   "source": [
    "phrase_1 = 'Насколько проще было бы писать программы, если бы не заказчики'\n",
    "phrase_2 = '640Кб должно хватить для любых задач. Билл Гейтс (по легенде)'\n",
    "if len(phrase_1) < len(phrase_2):\n",
    "    print('Фраза 2 длиннее фразы 1')\n",
    "elif len(phrase_1) > len(phrase_2):\n",
    "    print('Фраза 1 длиннее фразы 2')\n",
    "else:\n",
    "     print('Фразы равной длины')"
   ]
  },
  {
   "cell_type": "code",
   "execution_count": 8,
   "metadata": {},
   "outputs": [
    {
     "name": "stdout",
     "output_type": "stream",
     "text": [
      "Фраза 2 длиннее фразы 1\n"
     ]
    }
   ],
   "source": [
    "phrase_1 = '640Кб должно хватить для любых задач. Билл Гейтс (по легенде)'\n",
    "phrase_2 = 'Насколько проще было бы писать программы, если бы не заказчики'\n",
    "if len(phrase_1) < len(phrase_2):\n",
    "    print('Фраза 2 длиннее фразы 1')\n",
    "elif len(phrase_1) > len(phrase_2):\n",
    "    print('Фраза 1 длиннее фразы 2')\n",
    "else:\n",
    "     print('Фразы равной длины')"
   ]
  },
  {
   "cell_type": "code",
   "execution_count": 9,
   "metadata": {},
   "outputs": [
    {
     "name": "stdout",
     "output_type": "stream",
     "text": [
      "Фразы равной длины\n"
     ]
    }
   ],
   "source": [
    "phrase_1 = 'Насколько проще было бы писать программы, если бы не заказчики'\n",
    "phrase_2 = 'Насколько проще было бы писать программы, если бы не заказчики'\n",
    "if len(phrase_1) < len(phrase_2):\n",
    "    print('Фраза 2 длиннее фразы 1')\n",
    "elif len(phrase_1) > len(phrase_2):\n",
    "    print('Фраза 1 длиннее фразы 2')\n",
    "else:\n",
    "     print('Фразы равной длины')"
   ]
  },
  {
   "cell_type": "markdown",
   "metadata": {},
   "source": [
    "### Задание 2"
   ]
  },
  {
   "cell_type": "code",
   "execution_count": 12,
   "metadata": {},
   "outputs": [
    {
     "name": "stdout",
     "output_type": "stream",
     "text": [
      "2020\n",
      "Високосный год\n"
     ]
    }
   ],
   "source": [
    "year = int(input())\n",
    "if year % 4 == 0 and year % 100 != 0 or year % 400 == 0:\n",
    "    print('Високосный год')\n",
    "else:\n",
    "    print('Обычный год')"
   ]
  },
  {
   "cell_type": "markdown",
   "metadata": {},
   "source": [
    "### Задание 3"
   ]
  },
  {
   "cell_type": "code",
   "execution_count": 13,
   "metadata": {},
   "outputs": [
    {
     "name": "stdout",
     "output_type": "stream",
     "text": [
      "Введите день:24\n",
      "Введите месяц:Декабрь\n",
      "Ваш знак зодиака: Козерог\n"
     ]
    }
   ],
   "source": [
    "day = int(input('Введите день: '))\n",
    "month = input('Введите месяц: ')\n",
    "\n",
    "print('Ваш знак зодиака:', end = ' ')\n",
    "if day >= 21 and month == 'Март' or day <= 19 and month == 'Апрель':\n",
    "    print('Овен')\n",
    "elif day >= 20 and month == 'Апрель' or day <= 20 and month == 'Май':\n",
    "    print('Телец')\n",
    "elif day >= 21 and month == 'Май' or day <= 20 and month == 'Июнь':\n",
    "    print('Близнецы')\n",
    "elif day >= 21 and month == 'Июнь' or day <= 22 and month == 'Июль':\n",
    "    print('Рак')\n",
    "elif day >= 23 and month == 'Июль' or day <= 22 and month == 'Апрель':\n",
    "    print('Лев')\n",
    "elif day >= 23 and month == 'Август' or day <= 22 and month == 'Сентябрь':\n",
    "    print('Дева')\n",
    "elif day >= 23 and month == 'Сентябрь' or day <= 22 and month == 'Октябрь':\n",
    "    print('Весы')\n",
    "elif day >= 23 and month == 'Октябрь' or day <= 21 and month == 'Ноябрь':\n",
    "    print('Скорпион')\n",
    "elif day >= 22 and month == 'Ноябрь' or day <= 21 and month == 'Декабрь':\n",
    "    print('Стрелец')\n",
    "elif day >= 22 and month == 'Декабрь' or day <= 19 and month == 'Январь':\n",
    "    print('Козерог')\n",
    "elif day >= 20 and month == 'Январь' or day <= 18 and month == 'Февраль':\n",
    "    print('Водолей')\n",
    "elif day >= 19 and month == 'Февраль' or day <= 20 and month == 'Март':\n",
    "    print('Рыбы')"
   ]
  },
  {
   "cell_type": "code",
   "execution_count": 33,
   "metadata": {},
   "outputs": [
    {
     "name": "stdout",
     "output_type": "stream",
     "text": [
      "Введите день: 15\n",
      "Введите месяц: Май\n",
      "Ваш знак зодиака: Телец\n"
     ]
    }
   ],
   "source": [
    "import datetime\n",
    "\n",
    "year = 2020\n",
    "day = int(input('Введите день: '))\n",
    "month = input('Введите месяц: ')\n",
    "\n",
    "Nums_month = ['Январь', \n",
    "           'Февраль', \n",
    "           'Март', \n",
    "           'Апрель', \n",
    "           'Май', \n",
    "           'Июнь', \n",
    "           'Июль', \n",
    "           'Август', \n",
    "           'Сентябрь', \n",
    "           'Октябрь', \n",
    "           'Ноябрь', \n",
    "           'Декабрь']\n",
    "num_month = Nums_month.index(month) + 1\n",
    "\n",
    "date = datetime.date(2020, num_month, day)\n",
    "\n",
    "print('Ваш знак зодиака: ', end = '')\n",
    "\n",
    "if datetime.date(2020, 3, 21) < date < datetime.date(2020, 4, 19):\n",
    "    print('Овен')\n",
    "elif datetime.date(2020, 4, 20) < date < datetime.date(2020, 5, 20):\n",
    "    print('Телец')\n",
    "elif datetime.date(2020, 5, 21) < date < datetime.date(2020, 6, 20):\n",
    "    print('Близнецы')\n",
    "elif datetime.date(2020, 6, 21) < date < datetime.date(2020, 7, 22):\n",
    "    print('Рак')\n",
    "elif datetime.date(2020, 7, 23) < date < datetime.date(2020, 8, 22):\n",
    "    print('Лев')\n",
    "elif datetime.date(2020, 8, 23) < date < datetime.date(2020, 9, 22):\n",
    "    print('Дева')\n",
    "elif datetime.date(2020, 9, 23) < date < datetime.date(2020, 10, 22):\n",
    "    print('Весы')\n",
    "elif datetime.date(2020, 10, 23) < date < datetime.date(2020, 11, 21):\n",
    "    print('Скорпион')\n",
    "elif datetime.date(2020, 11, 22) < date < datetime.date(2020, 12, 21):\n",
    "    print('Стрелец')\n",
    "elif datetime.date(2020, 12, 22) < date < datetime.date(2021, 1, 19):\n",
    "    print('Козерог')\n",
    "elif datetime.date(2020, 1, 20) < date < datetime.date(2020, 2, 18):\n",
    "    print('Водолей')"
   ]
  },
  {
   "cell_type": "markdown",
   "metadata": {},
   "source": [
    "### Задание 4"
   ]
  },
  {
   "cell_type": "code",
   "execution_count": 39,
   "metadata": {},
   "outputs": [
    {
     "name": "stdout",
     "output_type": "stream",
     "text": [
      "Ширина: 24\n",
      "Длина: 256\n",
      "Высота: 43\n",
      "Упаковка для лыж\n"
     ]
    }
   ],
   "source": [
    "width = int(input('Ширина: '))\n",
    "length = int(input('Длина: '))\n",
    "height = int(input('Высота: '))\n",
    "\n",
    "if max(width, length, height) <= 15:\n",
    "    print('Коробка №1')\n",
    "elif 15 < max(width, length, height) < 50:\n",
    "    print('Коробка №2')\n",
    "elif length > 200:\n",
    "    print('Упаковка для лыж')\n",
    "else:\n",
    "    print('Стандартная коробка №3')"
   ]
  },
  {
   "cell_type": "markdown",
   "metadata": {},
   "source": [
    "### Задание 5"
   ]
  },
  {
   "cell_type": "code",
   "execution_count": 46,
   "metadata": {},
   "outputs": [
    {
     "name": "stdout",
     "output_type": "stream",
     "text": [
      "234432\n",
      "Счастливый билет\n"
     ]
    }
   ],
   "source": [
    "number = input()\n",
    "\n",
    "if int(number[0]) + int(number[1]) + int(number[2]) == int(number[3]) + int(number[4]) + int(number[5]):\n",
    "    print('Счастливый билет')\n",
    "else:\n",
    "    print('Несчастливый билет')"
   ]
  },
  {
   "cell_type": "markdown",
   "metadata": {},
   "source": [
    "### Задание 6"
   ]
  },
  {
   "cell_type": "code",
   "execution_count": 57,
   "metadata": {},
   "outputs": [
    {
     "name": "stdout",
     "output_type": "stream",
     "text": [
      "Введите тип фигуры: Треугольник\n",
      "Введите длину стороны А: 2\n",
      "Введите длину стороны B: 4\n",
      "Введите длину стороны C: 5\n",
      "Площадь треугольника:  3.799671038392666\n"
     ]
    }
   ],
   "source": [
    "import math\n",
    "\n",
    "type = input('Введите тип фигуры: ')\n",
    "\n",
    "if type == 'Круг':\n",
    "    R = int(input('Введите радиус круга: '))\n",
    "    print('Площадь круга: ', math.pi * R ** 2)\n",
    "else:\n",
    "    a = int(input('Введите длину стороны А: '))\n",
    "    b = int(input('Введите длину стороны B: '))\n",
    "    if type == 'Прямоугольник':\n",
    "        print('Площадь прямоугольника: ', a*b)\n",
    "    else:\n",
    "        c = int(input('Введите длину стороны C: '))\n",
    "        p = (a + b + c) / 2\n",
    "        print('Площадь треугольника: ', (p * (p-a) * (p-b) *  (p-c)) ** (1/2))"
   ]
  },
  {
   "cell_type": "code",
   "execution_count": null,
   "metadata": {},
   "outputs": [],
   "source": []
  }
 ],
 "metadata": {
  "kernelspec": {
   "display_name": "Python 3",
   "language": "python",
   "name": "python3"
  },
  "language_info": {
   "codemirror_mode": {
    "name": "ipython",
    "version": 3
   },
   "file_extension": ".py",
   "mimetype": "text/x-python",
   "name": "python",
   "nbconvert_exporter": "python",
   "pygments_lexer": "ipython3",
   "version": "3.8.5"
  }
 },
 "nbformat": 4,
 "nbformat_minor": 4
}
