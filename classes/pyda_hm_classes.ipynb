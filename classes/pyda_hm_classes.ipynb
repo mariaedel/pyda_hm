{
 "metadata": {
  "language_info": {
   "codemirror_mode": {
    "name": "ipython",
    "version": 3
   },
   "file_extension": ".py",
   "mimetype": "text/x-python",
   "name": "python",
   "nbconvert_exporter": "python",
   "pygments_lexer": "ipython3",
   "version": "3.8.5-final"
  },
  "orig_nbformat": 2,
  "kernelspec": {
   "name": "python3",
   "display_name": "Python 3",
   "language": "python"
  }
 },
 "nbformat": 4,
 "nbformat_minor": 2,
 "cells": [
  {
   "source": [
    "## Задания 1-2"
   ],
   "cell_type": "markdown",
   "metadata": {}
  },
  {
   "cell_type": "code",
   "execution_count": 41,
   "metadata": {},
   "outputs": [],
   "source": [
    "import requests"
   ]
  },
  {
   "cell_type": "code",
   "execution_count": 257,
   "metadata": {},
   "outputs": [],
   "source": [
    "class Rate:\n",
    "    def __init__(self, format_='value'):\n",
    "        self.format = format_\n",
    "        self.diff = False\n",
    "        self.rates = requests.get('https://www.cbr-xml-daily.ru/daily_json.js')\n",
    "        self.valutes = self.rates.json()['Valute']\n",
    "\n",
    "    def exchange_rates(self):\n",
    "        return self.valutes\n",
    "\n",
    "    def information(self, currency, diff='False', format_='value'):\n",
    "        if currency in self.valutes:\n",
    "            self.value1 = self.valutes[currency]['Value']\n",
    "            self.value2 = self.valutes[currency]['Previous']\n",
    "            if format_ == 'full':\n",
    "                return self.valutes[currency]\n",
    "            elif format_ == 'value':\n",
    "                if diff is True:\n",
    "                    return (self.value1 - self.value2)\n",
    "                else:\n",
    "                    return self.value1\n",
    "        return 'Error'\n",
    "                \n",
    "    def eur(self, diff):\n",
    "        return self.information('EUR', diff)\n",
    "\n",
    "    def usd(self, diff):\n",
    "        return self.information('USD', diff)\n",
    "\n",
    "    def brl(self, diff):\n",
    "        return self.information('BRL', diff)\n",
    "\n",
    "    def name_value_max(self):\n",
    "        value_max = 0\n",
    "        for currency in self.valutes:\n",
    "            value = self.valutes[currency]['Value']\n",
    "            name = self.valutes[currency]['Name']\n",
    "            if value > value_max:\n",
    "                value_max = value\n",
    "                name_value_max = name\n",
    "        \n",
    "        return name_value_max\n"
   ]
  },
  {
   "cell_type": "code",
   "execution_count": 258,
   "metadata": {},
   "outputs": [
    {
     "output_type": "execute_result",
     "data": {
      "text/plain": [
       "'СДР (специальные права заимствования)'"
      ]
     },
     "metadata": {},
     "execution_count": 258
    }
   ],
   "source": [
    "r = Rate()\n",
    "r.name_value_max()"
   ]
  },
  {
   "cell_type": "code",
   "execution_count": 259,
   "metadata": {},
   "outputs": [
    {
     "output_type": "execute_result",
     "data": {
      "text/plain": [
       "{'ID': 'R01235',\n",
       " 'NumCode': '840',\n",
       " 'CharCode': 'USD',\n",
       " 'Nominal': 1,\n",
       " 'Name': 'Доллар США',\n",
       " 'Value': 74.4373,\n",
       " 'Previous': 73.4747}"
      ]
     },
     "metadata": {},
     "execution_count": 259
    }
   ],
   "source": [
    "r.information('USD', format_='full')"
   ]
  },
  {
   "cell_type": "code",
   "execution_count": 262,
   "metadata": {},
   "outputs": [
    {
     "output_type": "execute_result",
     "data": {
      "text/plain": [
       "0.8748000000000076"
      ]
     },
     "metadata": {},
     "execution_count": 262
    }
   ],
   "source": [
    "r.eur(True)"
   ]
  },
  {
   "cell_type": "code",
   "execution_count": 263,
   "metadata": {},
   "outputs": [
    {
     "output_type": "execute_result",
     "data": {
      "text/plain": [
       "13.458"
      ]
     },
     "metadata": {},
     "execution_count": 263
    }
   ],
   "source": [
    "r.brl(False)"
   ]
  },
  {
   "source": [
    "## Задание 3"
   ],
   "cell_type": "markdown",
   "metadata": {}
  },
  {
   "cell_type": "code",
   "execution_count": 264,
   "metadata": {},
   "outputs": [],
   "source": [
    "class Employee:\n",
    "    def __init__(self, name, seniority):\n",
    "        self.name = name\n",
    "        self.seniority = seniority\n",
    "        \n",
    "        self.grade = 1\n",
    "\n",
    "    def grade_up(self):\n",
    "        \"\"\"Повышает уровень сотрудника\"\"\"\n",
    "        self.grade += 1\n",
    "    \n",
    "    def publish_grade(self):\n",
    "        \"\"\"Публикация результатов аккредитации сотрудников\"\"\"\n",
    "        print(f'{self.name}: grade = {self.grade}, seniority = {self.seniority}, awards = {self.awards}')\n",
    "    \n",
    "    def check_if_it_is_time_for_upgrade(self):\n",
    "        pass"
   ]
  },
  {
   "cell_type": "code",
   "execution_count": 265,
   "metadata": {},
   "outputs": [],
   "source": [
    "class Designer(Employee):\n",
    "    def __init__(self, name, seniority=4):\n",
    "        super().__init__(name, seniority)\n",
    "        self.awards = 2\n",
    "    \n",
    "\n",
    "    def award(self):\n",
    "        self.awards += 1\n",
    "        for i in range(2):\n",
    "            self.seniority += 1\n",
    "            if self.seniority % 7 == 0:\n",
    "                self.grade_up()\n",
    " \n",
    "    def check_if_it_is_time_for_upgrade(self):\n",
    "        self.seniority += 1\n",
    "        \n",
    "        if self.seniority % 7 == 0:\n",
    "            self.grade_up()\n",
    "\n",
    "        return self.publish_grade()"
   ]
  },
  {
   "cell_type": "code",
   "execution_count": 266,
   "metadata": {},
   "outputs": [],
   "source": [
    "maria = Designer('Maria')"
   ]
  },
  {
   "cell_type": "code",
   "execution_count": 267,
   "metadata": {},
   "outputs": [],
   "source": [
    "maria.award()"
   ]
  },
  {
   "cell_type": "code",
   "execution_count": 268,
   "metadata": {},
   "outputs": [
    {
     "output_type": "stream",
     "name": "stdout",
     "text": [
      "Maria: grade = 2, seniority = 7, awards = 3\n"
     ]
    }
   ],
   "source": [
    "maria.check_if_it_is_time_for_upgrade()"
   ]
  }
 ]
}