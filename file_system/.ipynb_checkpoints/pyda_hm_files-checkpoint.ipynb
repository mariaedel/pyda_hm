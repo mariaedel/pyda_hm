{
 "cells": [
  {
   "cell_type": "code",
   "execution_count": 130,
   "metadata": {},
   "outputs": [],
   "source": [
    "import json\n",
    "\n",
    "purchases = {}\n",
    "\n",
    "with open('purchase_log.txt', encoding = 'utf-8') as f:\n",
    "    for line in f:\n",
    "        s = json.loads(line)\n",
    "        purchases[s['user_id']] = s['category']\n",
    "        \n",
    "    with open('visit_log.csv', encoding = 'utf-8') as f_visit:\n",
    "        \n",
    "        with open('funnel.csv', 'w', encoding = 'utf-8') as new_f:\n",
    "            for line in f_visit:\n",
    "                user_and_visit = line.strip().split(',')\n",
    "                if user_and_visit[0] in purchases.keys():\n",
    "                    new_f.write(user_and_visit[0] + ', ' + user_and_visit[1] + ', ' + purchases[user_and_visit[0]] + '\\n')\n"
   ]
  },
  {
   "cell_type": "code",
   "execution_count": 131,
   "metadata": {},
   "outputs": [
    {
     "name": "stdout",
     "output_type": "stream",
     "text": [
      "user_id, source, category\n",
      "\n",
      "1840e0b9d4, other, Продукты\n",
      "\n",
      "4e4f90fcfb, context, Электроника\n",
      "\n",
      "afea8d72fc, other, Электроника\n",
      "\n",
      "2824221f38, email, Продукты\n",
      "\n",
      "373a6055fe, other, Бытовая техника\n",
      "\n",
      "9b2ab046f3, other, Электроника\n",
      "\n",
      "9f39d307c3, context, Электроника\n",
      "\n",
      "44edeffc91, context, Продукты\n",
      "\n",
      "704474fa2d, other, Продукты\n",
      "\n",
      "1de31be403, other, Бытовая техника\n",
      "\n",
      "5da0dedf13, context, Досуг\n",
      "\n"
     ]
    }
   ],
   "source": [
    "proverka = open('funnel.csv', 'r', encoding = 'utf-8')\n",
    "for i, line in enumerate(proverka):\n",
    "    print(line)\n",
    "    if i > 10:\n",
    "        break"
   ]
  }
 ],
 "metadata": {
  "kernelspec": {
   "display_name": "Python 3",
   "language": "python",
   "name": "python3"
  },
  "language_info": {
   "codemirror_mode": {
    "name": "ipython",
    "version": 3
   },
   "file_extension": ".py",
   "mimetype": "text/x-python",
   "name": "python",
   "nbconvert_exporter": "python",
   "pygments_lexer": "ipython3",
   "version": "3.8.5"
  }
 },
 "nbformat": 4,
 "nbformat_minor": 4
}
